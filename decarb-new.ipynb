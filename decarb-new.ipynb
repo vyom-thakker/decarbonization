{
 "cells": [
  {
   "cell_type": "code",
   "execution_count": 112,
   "id": "425d6aca-6cae-4e3e-8fe6-51400e6b07c8",
   "metadata": {},
   "outputs": [],
   "source": [
    "using JuMP\n",
    "using CSV\n",
    "using LinearAlgebra\n",
    "using DataFrames\n",
    "using BARON\n",
    "using Plots"
   ]
  },
  {
   "cell_type": "code",
   "execution_count": 2,
   "id": "42cf6db4-252b-492a-aa14-4230170345d4",
   "metadata": {},
   "outputs": [
    {
     "data": {
      "text/plain": [
       "30-element Vector{String63}:\n",
       " \"Methanol \"\n",
       " \"Ethylene \"\n",
       " \"Propylene \"\n",
       " \"Toluene \"\n",
       " \"Benzene \"\n",
       " \"Xylene \"\n",
       " \"Butene \"\n",
       " \"Propane \"\n",
       " \"Syngas\"\n",
       " \"Urea \"\n",
       " \"Acrylonitrile\"\n",
       " \"Cyclohexane \"\n",
       " \"Caprolactam \"\n",
       " ⋮\n",
       " \"Vinyl chloride Monomer \"\n",
       " \"Polypropylene \"\n",
       " \"Styrene \"\n",
       " \"Ethylene glycol \"\n",
       " \"Terephthalic Acid (PTA) \"\n",
       " \"Polyethylene Terephthalate (PET)\"\n",
       " \"Propylene Oxide \"\n",
       " \"Butadiene \"\n",
       " \"Acetic Acid \"\n",
       " \"Formaldehyde \"\n",
       " \"Adipic Acid\"\n",
       " \"Gasoline Additives\""
      ]
     },
     "execution_count": 2,
     "metadata": {},
     "output_type": "execute_result"
    }
   ],
   "source": [
    "A_db = CSV.File(\"./A_mat_new.csv\",header=1,delim=\",\") |> DataFrame\n",
    "B_db = CSV.File(\"./B_mat_new.csv\",header=1,delim=\",\") |> DataFrame\n",
    "f_db = CSV.File(\"./f_val_new.csv\",header=1,delim=\",\") |> DataFrame\n",
    "f_val=f_db[!,2]\n",
    "A_mat=Matrix(A_db[:,2:size(A_db,2)])\n",
    "B_mat=Matrix(B_db[:,2:size(B_db,2)])\n",
    "nodes_val=names(A_db)[2:size(A_db,2)]\n",
    "product_val=A_db[!,1]"
   ]
  },
  {
   "cell_type": "code",
   "execution_count": 3,
   "id": "1bd87ef0-99db-4b39-8987-226e8f4af1b7",
   "metadata": {},
   "outputs": [
    {
     "data": {
      "text/html": [
       "<div class=\"data-frame\"><p>9 rows × 28 columns (omitted printing of 23 columns)</p><table class=\"data-frame\"><thead><tr><th></th><th>Column1</th><th>Syngas Production</th><th>Methanol Manufacture</th><th>Steam Cracker</th><th>Hydrodealkylation (THD)</th></tr><tr><th></th><th title=\"String31\">String31</th><th title=\"Float64\">Float64</th><th title=\"Float64\">Float64</th><th title=\"Float64\">Float64</th><th title=\"Float64\">Float64</th></tr></thead><tbody><tr><th>1</th><td>Coal</td><td>-55.6882</td><td>-25.4601</td><td>0.0</td><td>0.0</td></tr><tr><th>2</th><td>Natural Gas</td><td>-52.8947</td><td>-24.0426</td><td>-62.8951</td><td>0.0</td></tr><tr><th>3</th><td>Waste</td><td>20.7175</td><td>11.981</td><td>15.6427</td><td>0.251672</td></tr><tr><th>4</th><td>Environment</td><td>31.7886</td><td>13.2328</td><td>0.0</td><td>0.942308</td></tr><tr><th>5</th><td>Oil</td><td>0.0</td><td>-6.29662</td><td>-241.801</td><td>0.0</td></tr><tr><th>6</th><td>Limestone </td><td>0.0</td><td>0.0</td><td>0.0</td><td>0.0</td></tr><tr><th>7</th><td>Coal Energy</td><td>-59.4291</td><td>-18.6662</td><td>-87.5141</td><td>-0.584625</td></tr><tr><th>8</th><td>NG Energy</td><td>-31.7968</td><td>-9.98711</td><td>0.0</td><td>-0.312796</td></tr><tr><th>9</th><td>Environment Energy</td><td>91.2258</td><td>28.6533</td><td>87.5141</td><td>0.897421</td></tr></tbody></table></div>"
      ],
      "text/latex": [
       "\\begin{tabular}{r|cccccc}\n",
       "\t& Column1 & Syngas Production & Methanol Manufacture & Steam Cracker & Hydrodealkylation (THD) & \\\\\n",
       "\t\\hline\n",
       "\t& String31 & Float64 & Float64 & Float64 & Float64 & \\\\\n",
       "\t\\hline\n",
       "\t1 & Coal & -55.6882 & -25.4601 & 0.0 & 0.0 & $\\dots$ \\\\\n",
       "\t2 & Natural Gas & -52.8947 & -24.0426 & -62.8951 & 0.0 & $\\dots$ \\\\\n",
       "\t3 & Waste & 20.7175 & 11.981 & 15.6427 & 0.251672 & $\\dots$ \\\\\n",
       "\t4 & Environment & 31.7886 & 13.2328 & 0.0 & 0.942308 & $\\dots$ \\\\\n",
       "\t5 & Oil & 0.0 & -6.29662 & -241.801 & 0.0 & $\\dots$ \\\\\n",
       "\t6 & Limestone  & 0.0 & 0.0 & 0.0 & 0.0 & $\\dots$ \\\\\n",
       "\t7 & Coal Energy & -59.4291 & -18.6662 & -87.5141 & -0.584625 & $\\dots$ \\\\\n",
       "\t8 & NG Energy & -31.7968 & -9.98711 & 0.0 & -0.312796 & $\\dots$ \\\\\n",
       "\t9 & Environment Energy & 91.2258 & 28.6533 & 87.5141 & 0.897421 & $\\dots$ \\\\\n",
       "\\end{tabular}\n"
      ],
      "text/plain": [
       "\u001b[1m9×28 DataFrame\u001b[0m\n",
       "\u001b[1m Row \u001b[0m│\u001b[1m Column1            \u001b[0m\u001b[1m Syngas Production \u001b[0m\u001b[1m Methanol Manufacture \u001b[0m\u001b[1m Steam Crac\u001b[0m ⋯\n",
       "\u001b[1m     \u001b[0m│\u001b[90m String31           \u001b[0m\u001b[90m Float64           \u001b[0m\u001b[90m Float64              \u001b[0m\u001b[90m Float64   \u001b[0m ⋯\n",
       "─────┼──────────────────────────────────────────────────────────────────────────\n",
       "   1 │ Coal                         -55.6882             -25.4601          0.0 ⋯\n",
       "   2 │ Natural Gas                  -52.8947             -24.0426        -62.8\n",
       "   3 │ Waste                         20.7175              11.981          15.6\n",
       "   4 │ Environment                   31.7886              13.2328          0.0\n",
       "   5 │ Oil                            0.0                 -6.29662      -241.8 ⋯\n",
       "   6 │ Limestone                      0.0                  0.0             0.0\n",
       "   7 │ Coal Energy                  -59.4291             -18.6662        -87.5\n",
       "   8 │ NG Energy                    -31.7968              -9.98711         0.0\n",
       "   9 │ Environment Energy            91.2258              28.6533         87.5 ⋯\n",
       "\u001b[36m                                                              25 columns omitted\u001b[0m"
      ]
     },
     "execution_count": 3,
     "metadata": {},
     "output_type": "execute_result"
    }
   ],
   "source": [
    "B_db"
   ]
  },
  {
   "cell_type": "code",
   "execution_count": 42,
   "id": "ccd8f1e8-9b66-40a7-b5f4-aff98f3479af",
   "metadata": {},
   "outputs": [
    {
     "data": {
      "text/plain": [
       "opt_decarb_base (generic function with 1 method)"
      ]
     },
     "execution_count": 42,
     "metadata": {},
     "output_type": "execute_result"
    }
   ],
   "source": [
    "function opt_decarb_base()\n",
    "    dcrb =  Model(BARON.Optimizer)\n",
    "    @variable(dcrb, 1 ≥ s[j=1:size(A_mat,2)] ≥ 0)\n",
    "    @variable(dcrb,f[i=1:size(A_mat,1)] ≥ 0 )\n",
    "    @variable(dcrb,g[k=1:size(B_mat,1)])\n",
    "    @constraint(dcrb,[i=1:size(A_mat,1)],f[i] ≥ f_val[i])\n",
    "    @constraint(dcrb,[i=1:size(A_mat,1)], f[i]==sum(A_mat[i,j]*s[j] for j in 1:size(A_mat,2)))\n",
    "    @constraint(dcrb,[k=1:size(B_mat,1)],g[k]==sum(B_mat[k,j]*s[j] for j in 1:size(B_mat,2)))\n",
    "    @variable(dcrb,obj)\n",
    "    @constraint(dcrb,obj==sum(g[k] for k in 3:4)+g[9])\n",
    "    @objective(dcrb,Min,obj)\n",
    "    optimize!(dcrb)\n",
    "    return JuMP.value.(s),JuMP.value.(f),JuMP.value.(obj)\n",
    "end\n",
    "    "
   ]
  },
  {
   "cell_type": "code",
   "execution_count": 59,
   "id": "5f121bcd-8d7f-489f-b196-4e1ff9aa6385",
   "metadata": {},
   "outputs": [
    {
     "data": {
      "text/plain": [
       "opt_decarb_em (generic function with 1 method)"
      ]
     },
     "execution_count": 59,
     "metadata": {},
     "output_type": "execute_result"
    }
   ],
   "source": [
    "function opt_decarb_em()\n",
    "    dcrb =  Model(BARON.Optimizer)\n",
    "    @variable(dcrb,s[j=1:size(A_mat,2)] ≥ 0)\n",
    "    @variable(dcrb,f[i=1:size(A_mat,1)] ≥ 0 )\n",
    "    @variable(dcrb,g[k=1:size(B_mat,1)])\n",
    "    @constraint(dcrb,[i=1:size(A_mat,1)],f[i] ≥ f_val[i])\n",
    "    @constraint(dcrb,[i=1:size(A_mat,1)], f[i]==sum(A_mat[i,j]*s[j] for j in 1:size(A_mat,2)))\n",
    "    @constraint(dcrb,[k=1:size(B_mat,1)],g[k]==sum(B_mat[k,j]*s[j] for j in 1:size(B_mat,2)))\n",
    "    @variable(dcrb,obj)\n",
    "    @constraint(dcrb,obj==sum(g[k] for k in 3:4)+g[9])\n",
    "    @objective(dcrb,Min,obj)\n",
    "    optimize!(dcrb)\n",
    "    return JuMP.value.(s),JuMP.value.(f),JuMP.value.(obj),JuMP.value.(g)\n",
    "end\n",
    "    "
   ]
  },
  {
   "cell_type": "code",
   "execution_count": 60,
   "id": "a880a5f6-8fa0-4ad7-b0fc-73e36d9f75e9",
   "metadata": {},
   "outputs": [
    {
     "data": {
      "text/plain": [
       "opt_decarb_ruse (generic function with 1 method)"
      ]
     },
     "execution_count": 60,
     "metadata": {},
     "output_type": "execute_result"
    }
   ],
   "source": [
    "function opt_decarb_ruse()\n",
    "    dcrb =  Model(BARON.Optimizer)\n",
    "    @variable(dcrb,s[j=1:size(A_mat,2)] ≥ 0)\n",
    "    @variable(dcrb,f[i=1:size(A_mat,1)] ≥ 0 )\n",
    "    @variable(dcrb,g[k=1:size(B_mat,1)])\n",
    "    @constraint(dcrb,[i=1:size(A_mat,1)],f[i] ≥ f_val[i])\n",
    "    @constraint(dcrb,[i=1:size(A_mat,1)], f[i]==sum(A_mat[i,j]*s[j] for j in 1:size(A_mat,2)))\n",
    "    @constraint(dcrb,[k=1:size(B_mat,1)],g[k]==sum(B_mat[k,j]*s[j] for j in 1:size(B_mat,2)))\n",
    "    @variable(dcrb,obj)\n",
    "    @constraint(dcrb,obj==-1*(sum(g[k] for k in 1:2)+sum(g[5:8])))\n",
    "    @objective(dcrb,Min,obj)\n",
    "    optimize!(dcrb)\n",
    "    return JuMP.value.(s),JuMP.value.(f),JuMP.value.(obj),JuMP.value.(g)\n",
    "end"
   ]
  },
  {
   "cell_type": "code",
   "execution_count": 163,
   "id": "1b4525ca-01e2-49fa-8621-8a0a577c5b2d",
   "metadata": {},
   "outputs": [
    {
     "data": {
      "text/plain": [
       "opt_decarb_eps (generic function with 1 method)"
      ]
     },
     "execution_count": 163,
     "metadata": {},
     "output_type": "execute_result"
    }
   ],
   "source": [
    "function opt_decarb_eps(lb,ub,ep)\n",
    "    dcrb =  Model(BARON.Optimizer)\n",
    "    set_optimizer_attribute(dcrb,\"PrLevel\",0)\n",
    "    @variable(dcrb,s[j=1:size(A_mat,2)] ≥ 0)\n",
    "    @variable(dcrb,f[i=1:size(A_mat,1)] ≥ 0 )\n",
    "    @variable(dcrb,g[k=1:size(B_mat,1)])\n",
    "    @constraint(dcrb,[i=1:size(A_mat,1)],f[i] ≥ f_val[i])\n",
    "    @constraint(dcrb,[i=1:size(A_mat,1)], f[i]==sum(A_mat[i,j]*s[j] for j in 1:size(A_mat,2)))\n",
    "    @constraint(dcrb,[k=1:size(B_mat,1)],g[k]==sum(B_mat[k,j]*s[j] for j in 1:size(B_mat,2)))\n",
    "    @variable(dcrb,obj)\n",
    "    @constraint(dcrb,-1*(sum(g[k] for k in 1:2)+sum(g[5:8])) ≤ lb+(ub-lb)*ep)\n",
    "    @constraint(dcrb,obj==sum(g[k] for k in 3:4)+g[9])\n",
    "    @objective(dcrb,Min,obj)\n",
    "    optimize!(dcrb)\n",
    "    return JuMP.value.(s),JuMP.value.(f),JuMP.value.(obj),JuMP.value.(g)\n",
    "end"
   ]
  },
  {
   "cell_type": "code",
   "execution_count": 164,
   "id": "c71f230a-f99a-43ff-914b-a7521adfd342",
   "metadata": {},
   "outputs": [
    {
     "name": "stdout",
     "output_type": "stream",
     "text": [
      "===========================================================================\n",
      " BARON version 21.1.13. Built: LNX-64 Wed Jan 13 16:09:31 EST 2021\n",
      "\n",
      " BARON is a product of The Optimization Firm.\n",
      " For information on BARON, see https://minlp.com/about-baron\n",
      " Licensee: Bhavik R. Bakshi at The Ohio State University, bakshi.2@osu.edu.\n",
      "\n",
      " If you use this software, please cite publications from\n",
      " https://minlp.com/baron-publications, such as: \n",
      "\n",
      " Khajavirad, A. and N. V. Sahinidis,\n",
      " A hybrid LP/NLP paradigm for global optimization relaxations,\n",
      " Mathematical Programming Computation, 10, 383-421, 2018.\n",
      "===========================================================================\n",
      " This BARON run may utilize the following subsolver(s)\n",
      " For LP/MIP/QP: CLP/CBC                                         \n",
      " For NLP: IPOPT, FILTERSD, FILTERSQP\n",
      "===========================================================================\n",
      " Solving bounding LP\n",
      " Preprocessing found feasible solution with value  671.548713881     \n",
      " Problem solved during preprocessing\n",
      " Lower bound is  671.548713881     \n",
      "\n",
      " Calculating duals\n",
      "\n",
      "                         *** Normal completion ***            \n",
      "\n",
      " Wall clock time:                     0.01\n",
      " Total CPU time used:                 0.01\n",
      "\n",
      " Total no. of BaR iterations:      -1\n",
      " Best solution found at node:      -1\n",
      " Max. no. of nodes in memory:       0\n",
      " \n",
      " All done\n",
      "===========================================================================\n",
      " Unable to find/load CPLEX library libcplex.so: cannot open shared object file: No such file or directory\n",
      " Unable to find/load CPLEX library libcplex2010.so: cannot open shared object file: No such file or directory\n"
     ]
    },
    {
     "data": {
      "text/plain": [
       "([0.9999999999999032, 1.0, 1.0090556646688351, 0.9362144182838765, 1.0695784630053466, 1.9580893215458828, 0.0, 1.958089321545883, 1.0, 1.0  …  1.0000000000000002, 0.9999999999999998, 1.0, 1.0, 1.0, 1.0000000000000002, 1.0, 1.0, 1.0000000000000002, 1.0], [25.891018048, 40.254667052, 0.754126315000008, 42.891233347, 10.572503059, 13.33125330109294, 0.0, 12.02323806009816, 0.0, 43.6  …  14.67692308, 6.520258063, 9.33513253, 41.93128333, 6.951724138000001, 19.965538247645146, 7.2, 8.346, 1.9232876710000002, 209.1198411], 671.5487138813737, [-81.14824449997654, -146.4135610195298, 79.87458102267179, 45.90356892769774, -583.3512396536383, 0.0, -390.53994499432605, -155.23061892567816, 545.7705639310042])"
      ]
     },
     "execution_count": 164,
     "metadata": {},
     "output_type": "execute_result"
    }
   ],
   "source": [
    "s,f,obj_em,g_em=opt_decarb_em()"
   ]
  },
  {
   "cell_type": "code",
   "execution_count": 165,
   "id": "5a8d6603-2dd4-4a80-9198-6f57bffdb5b2",
   "metadata": {},
   "outputs": [
    {
     "name": "stdout",
     "output_type": "stream",
     "text": [
      "===========================================================================\n",
      " BARON version 21.1.13. Built: LNX-64 Wed Jan 13 16:09:31 EST 2021\n",
      "\n",
      " BARON is a product of The Optimization Firm.\n",
      " For information on BARON, see https://minlp.com/about-baron\n",
      " Licensee: Bhavik R. Bakshi at The Ohio State University, bakshi.2@osu.edu.\n",
      "\n",
      " If you use this software, please cite publications from\n",
      " https://minlp.com/baron-publications, such as: \n",
      "\n",
      " Khajavirad, A. and N. V. Sahinidis,\n",
      " A hybrid LP/NLP paradigm for global optimization relaxations,\n",
      " Mathematical Programming Computation, 10, 383-421, 2018.\n",
      "===========================================================================\n",
      " This BARON run may utilize the following subsolver(s)\n",
      " For LP/MIP/QP: CLP/CBC                                         \n",
      " For NLP: IPOPT, FILTERSD, FILTERSQP\n",
      "===========================================================================\n",
      " Solving bounding LP\n",
      " Preprocessing found feasible solution with value  1345.11906481     \n",
      " Problem solved during preprocessing\n",
      " Lower bound is  1345.11906481     \n",
      "\n",
      " Calculating duals\n",
      "\n",
      "                         *** Normal completion ***            \n",
      "\n",
      " Wall clock time:                     0.01\n",
      " Total CPU time used:                 0.00\n",
      "\n",
      " Total no. of BaR iterations:      -1\n",
      " Best solution found at node:      -1\n",
      " Max. no. of nodes in memory:       0\n",
      " \n",
      " All done\n",
      "===========================================================================\n",
      " Unable to find/load CPLEX library libcplex.so: cannot open shared object file: No such file or directory\n",
      " Unable to find/load CPLEX library libcplex2010.so: cannot open shared object file: No such file or directory\n"
     ]
    },
    {
     "data": {
      "text/plain": [
       "([0.9999999999999032, 1.0, 1.0, 1.000000000000002, 0.999999999999997, 1.0000000000000029, 1.000000000000003, 1.000000000000003, 1.0, 1.0  …  1.0000000000000002, 0.9999999999999998, 1.0, 1.0, 1.0, 1.0000000000000002, 1.0, 1.0, 1.0000000000000002, 1.0], [25.891018048, 40.254667052, 0.754126315000008, 42.891233347, 10.572503059, 12.947543133000002, 0.0, 0.0, 0.0, 43.6  …  14.67692308, 6.520258063, 9.33513253, 41.93128333, 6.951724138000001, 19.78635961, 7.2, 8.346, 1.9232876710000002, 209.1198411], 1345.119064812921, [-81.14824449997656, -142.90253010497779, 80.0093793529895, 45.96367457198753, -574.4710476749955, 0.0, -390.80225943098105, -155.79498310198986, 546.597242543971])"
      ]
     },
     "execution_count": 165,
     "metadata": {},
     "output_type": "execute_result"
    }
   ],
   "source": [
    "s,f,obj_ru,g_ru=opt_decarb_ruse()"
   ]
  },
  {
   "cell_type": "code",
   "execution_count": 166,
   "id": "3bdc9ca8-b842-40a2-91ba-c2f6693b6e76",
   "metadata": {},
   "outputs": [
    {
     "data": {
      "text/html": [
       "<div class=\"data-frame\"><p>27 rows × 2 columns</p><table class=\"data-frame\"><thead><tr><th></th><th>node</th><th>scaling_factor</th></tr><tr><th></th><th title=\"String\">String</th><th title=\"Float64\">Float64</th></tr></thead><tbody><tr><th>1</th><td>Syngas Production</td><td>1.0</td></tr><tr><th>2</th><td>Methanol Manufacture</td><td>1.0</td></tr><tr><th>3</th><td>Steam Cracker</td><td>1.0</td></tr><tr><th>4</th><td>Hydrodealkylation (THD)</td><td>1.0</td></tr><tr><th>5</th><td>Disproportionation (TDP)</td><td>1.0</td></tr><tr><th>6</th><td>Metathesis</td><td>1.0</td></tr><tr><th>7</th><td>Dehydrogenation</td><td>1.0</td></tr><tr><th>8</th><td>Refinery</td><td>1.0</td></tr><tr><th>9</th><td>Urea Synthesis</td><td>1.0</td></tr><tr><th>10</th><td>SOHIO Process</td><td>1.0</td></tr><tr><th>11</th><td>Caprolactam Manufacture</td><td>1.0</td></tr><tr><th>12</th><td>Cumene Production</td><td>1.0</td></tr><tr><th>13</th><td>Hock&apos;s Process</td><td>1.0</td></tr><tr><th>14</th><td>PE Manufacture</td><td>1.0</td></tr><tr><th>15</th><td>PVC Manufacture</td><td>1.0</td></tr><tr><th>16</th><td>VC Production</td><td>1.0</td></tr><tr><th>17</th><td>PP Manufacture</td><td>1.0</td></tr><tr><th>18</th><td>Styrene production</td><td>1.0</td></tr><tr><th>19</th><td>EG Production</td><td>1.0</td></tr><tr><th>20</th><td>PTA Production</td><td>1.0</td></tr><tr><th>21</th><td>PET Production</td><td>1.0</td></tr><tr><th>22</th><td>Propylene Oxide Production</td><td>1.0</td></tr><tr><th>23</th><td>Acetic acid production</td><td>1.0</td></tr><tr><th>24</th><td>Formaldehyde production</td><td>1.0</td></tr><tr><th>25</th><td>Cyclohexane Production</td><td>1.0</td></tr><tr><th>26</th><td>Adipic Acid Production</td><td>1.0</td></tr><tr><th>27</th><td>Catalytic Reformer</td><td>1.0</td></tr></tbody></table></div>"
      ],
      "text/latex": [
       "\\begin{tabular}{r|cc}\n",
       "\t& node & scaling\\_factor\\\\\n",
       "\t\\hline\n",
       "\t& String & Float64\\\\\n",
       "\t\\hline\n",
       "\t1 & Syngas Production & 1.0 \\\\\n",
       "\t2 & Methanol Manufacture & 1.0 \\\\\n",
       "\t3 & Steam Cracker & 1.0 \\\\\n",
       "\t4 & Hydrodealkylation (THD) & 1.0 \\\\\n",
       "\t5 & Disproportionation (TDP) & 1.0 \\\\\n",
       "\t6 & Metathesis & 1.0 \\\\\n",
       "\t7 & Dehydrogenation & 1.0 \\\\\n",
       "\t8 & Refinery & 1.0 \\\\\n",
       "\t9 & Urea Synthesis & 1.0 \\\\\n",
       "\t10 & SOHIO Process & 1.0 \\\\\n",
       "\t11 & Caprolactam Manufacture & 1.0 \\\\\n",
       "\t12 & Cumene Production & 1.0 \\\\\n",
       "\t13 & Hock's Process & 1.0 \\\\\n",
       "\t14 & PE Manufacture & 1.0 \\\\\n",
       "\t15 & PVC Manufacture & 1.0 \\\\\n",
       "\t16 & VC Production & 1.0 \\\\\n",
       "\t17 & PP Manufacture & 1.0 \\\\\n",
       "\t18 & Styrene production & 1.0 \\\\\n",
       "\t19 & EG Production & 1.0 \\\\\n",
       "\t20 & PTA Production & 1.0 \\\\\n",
       "\t21 & PET Production & 1.0 \\\\\n",
       "\t22 & Propylene Oxide Production & 1.0 \\\\\n",
       "\t23 & Acetic acid production & 1.0 \\\\\n",
       "\t24 & Formaldehyde production & 1.0 \\\\\n",
       "\t25 & Cyclohexane Production & 1.0 \\\\\n",
       "\t26 & Adipic Acid Production & 1.0 \\\\\n",
       "\t27 & Catalytic Reformer & 1.0 \\\\\n",
       "\\end{tabular}\n"
      ],
      "text/plain": [
       "\u001b[1m27×2 DataFrame\u001b[0m\n",
       "\u001b[1m Row \u001b[0m│\u001b[1m node                       \u001b[0m\u001b[1m scaling_factor \u001b[0m\n",
       "\u001b[1m     \u001b[0m│\u001b[90m String                     \u001b[0m\u001b[90m Float64        \u001b[0m\n",
       "─────┼────────────────────────────────────────────\n",
       "   1 │ Syngas Production                      1.0\n",
       "   2 │ Methanol Manufacture                   1.0\n",
       "   3 │ Steam Cracker                          1.0\n",
       "   4 │ Hydrodealkylation (THD)                1.0\n",
       "   5 │ Disproportionation (TDP)               1.0\n",
       "   6 │ Metathesis                             1.0\n",
       "   7 │ Dehydrogenation                        1.0\n",
       "   8 │ Refinery                               1.0\n",
       "   9 │ Urea Synthesis                         1.0\n",
       "  10 │ SOHIO Process                          1.0\n",
       "  11 │ Caprolactam Manufacture                1.0\n",
       "  ⋮  │             ⋮                     ⋮\n",
       "  18 │ Styrene production                     1.0\n",
       "  19 │ EG Production                          1.0\n",
       "  20 │ PTA Production                         1.0\n",
       "  21 │ PET Production                         1.0\n",
       "  22 │ Propylene Oxide Production             1.0\n",
       "  23 │ Acetic acid production                 1.0\n",
       "  24 │ Formaldehyde production                1.0\n",
       "  25 │ Cyclohexane Production                 1.0\n",
       "  26 │ Adipic Acid Production                 1.0\n",
       "  27 │ Catalytic Reformer                     1.0\n",
       "\u001b[36m                                    6 rows omitted\u001b[0m"
      ]
     },
     "execution_count": 166,
     "metadata": {},
     "output_type": "execute_result"
    }
   ],
   "source": [
    "res_f=DataFrame(pdt=product_val, final_demand=f)\n",
    "res_s=DataFrame(node=nodes_val, scaling_factor=s)"
   ]
  },
  {
   "cell_type": "code",
   "execution_count": 167,
   "id": "4f4a1989-08c5-45c6-ab23-1eb549a6d159",
   "metadata": {},
   "outputs": [
    {
     "name": "stdout",
     "output_type": "stream",
     "text": [
      " Unable to find/load CPLEX library libcplex.so: cannot open shared object file: No such file or directory\n",
      " Unable to find/load CPLEX library libcplex2010.so: cannot open shared object file: No such file or directory\n",
      " Unable to find/load CPLEX library libcplex.so: cannot open shared object file: No such file or directory\n",
      " Unable to find/load CPLEX library libcplex2010.so: cannot open shared object file: No such file or directory\n",
      " Unable to find/load CPLEX library libcplex.so: cannot open shared object file: No such file or directory\n",
      " Unable to find/load CPLEX library libcplex2010.so: cannot open shared object file: No such file or directory\n",
      " Unable to find/load CPLEX library libcplex.so: cannot open shared object file: No such file or directory\n",
      " Unable to find/load CPLEX library libcplex2010.so: cannot open shared object file: No such file or directory\n",
      " Unable to find/load CPLEX library libcplex.so: cannot open shared object file: No such file or directory\n",
      " Unable to find/load CPLEX library libcplex2010.so: cannot open shared object file: No such file or directory\n",
      " Unable to find/load CPLEX library libcplex.so: cannot open shared object file: No such file or directory\n",
      " Unable to find/load CPLEX library libcplex2010.so: cannot open shared object file: No such file or directory\n",
      " Unable to find/load CPLEX library libcplex.so: cannot open shared object file: No such file or directory\n",
      " Unable to find/load CPLEX library libcplex2010.so: cannot open shared object file: No such file or directory\n",
      " Unable to find/load CPLEX library libcplex.so: cannot open shared object file: No such file or directory\n",
      " Unable to find/load CPLEX library libcplex2010.so: cannot open shared object file: No such file or directory\n",
      " Unable to find/load CPLEX library libcplex.so: cannot open shared object file: No such file or directory\n",
      " Unable to find/load CPLEX library libcplex2010.so: cannot open shared object file: No such file or directory\n"
     ]
    },
    {
     "data": {
      "text/html": [
       "<div class=\"data-frame\"><p>11 rows × 2 columns</p><table class=\"data-frame\"><thead><tr><th></th><th>Emissions</th><th>Resource_Use</th></tr><tr><th></th><th title=\"Float64\">Float64</th><th title=\"Float64\">Float64</th></tr></thead><tbody><tr><th>1</th><td>671.549</td><td>1356.68</td></tr><tr><th>2</th><td>672.57</td><td>1345.12</td></tr><tr><th>3</th><td>672.468</td><td>1346.28</td></tr><tr><th>4</th><td>672.366</td><td>1347.43</td></tr><tr><th>5</th><td>672.264</td><td>1348.59</td></tr><tr><th>6</th><td>672.162</td><td>1349.74</td></tr><tr><th>7</th><td>672.06</td><td>1350.9</td></tr><tr><th>8</th><td>671.957</td><td>1352.06</td></tr><tr><th>9</th><td>671.855</td><td>1353.21</td></tr><tr><th>10</th><td>671.753</td><td>1354.37</td></tr><tr><th>11</th><td>671.651</td><td>1355.53</td></tr></tbody></table></div>"
      ],
      "text/latex": [
       "\\begin{tabular}{r|cc}\n",
       "\t& Emissions & Resource\\_Use\\\\\n",
       "\t\\hline\n",
       "\t& Float64 & Float64\\\\\n",
       "\t\\hline\n",
       "\t1 & 671.549 & 1356.68 \\\\\n",
       "\t2 & 672.57 & 1345.12 \\\\\n",
       "\t3 & 672.468 & 1346.28 \\\\\n",
       "\t4 & 672.366 & 1347.43 \\\\\n",
       "\t5 & 672.264 & 1348.59 \\\\\n",
       "\t6 & 672.162 & 1349.74 \\\\\n",
       "\t7 & 672.06 & 1350.9 \\\\\n",
       "\t8 & 671.957 & 1352.06 \\\\\n",
       "\t9 & 671.855 & 1353.21 \\\\\n",
       "\t10 & 671.753 & 1354.37 \\\\\n",
       "\t11 & 671.651 & 1355.53 \\\\\n",
       "\\end{tabular}\n"
      ],
      "text/plain": [
       "\u001b[1m11×2 DataFrame\u001b[0m\n",
       "\u001b[1m Row \u001b[0m│\u001b[1m Emissions \u001b[0m\u001b[1m Resource_Use \u001b[0m\n",
       "\u001b[1m     \u001b[0m│\u001b[90m Float64   \u001b[0m\u001b[90m Float64      \u001b[0m\n",
       "─────┼─────────────────────────\n",
       "   1 │   671.549       1356.68\n",
       "   2 │   672.57        1345.12\n",
       "   3 │   672.468       1346.28\n",
       "   4 │   672.366       1347.43\n",
       "   5 │   672.264       1348.59\n",
       "   6 │   672.162       1349.74\n",
       "   7 │   672.06        1350.9\n",
       "   8 │   671.957       1352.06\n",
       "   9 │   671.855       1353.21\n",
       "  10 │   671.753       1354.37\n",
       "  11 │   671.651       1355.53"
      ]
     },
     "execution_count": 167,
     "metadata": {},
     "output_type": "execute_result"
    }
   ],
   "source": [
    "ub_em=(sum(g_ru[3:4])+sum(g_ru[9:9]))\n",
    "ub=-1*(sum(g_em[1:2])+sum(g_em[5:8]))\n",
    "lb=obj_ru\n",
    "\n",
    "e_vec=[0.1 0.2 0.3 0.4 0.5 0.6 0.7 0.8 0.9]\n",
    "eps_res=DataFrame(Emissions=[obj_em,ub_em], Resource_Use=[ub,lb])\n",
    "for i in 1:size(e_vec,2)\n",
    "    s,f,obj_eps,g_eps=opt_decarb_eps(lb,ub,e_vec[i])\n",
    "    temp_ru=-1*(sum(g_eps[1:2])+sum(g_eps[5:8]))\n",
    "    #eps_res=eps_res.append({'Emissions':obj_eps,'Resource_Use':temp_ru})\n",
    "    push!(eps_res,[obj_eps, temp_ru])\n",
    "end\n",
    "eps_res"
   ]
  },
  {
   "cell_type": "code",
   "execution_count": 195,
   "id": "d27ba1c4-d3ac-4a1b-8ef6-cd2234bfde18",
   "metadata": {},
   "outputs": [
    {
     "data": {
      "image/svg+xml": [
       "<?xml version=\"1.0\" encoding=\"utf-8\"?>\n",
       "<svg xmlns=\"http://www.w3.org/2000/svg\" xmlns:xlink=\"http://www.w3.org/1999/xlink\" width=\"600\" height=\"400\" viewBox=\"0 0 2400 1600\">\n",
       "<defs>\n",
       "  <clipPath id=\"clip680\">\n",
       "    <rect x=\"0\" y=\"0\" width=\"2400\" height=\"1600\"/>\n",
       "  </clipPath>\n",
       "</defs>\n",
       "<path clip-path=\"url(#clip680)\" d=\"\n",
       "M0 1600 L2400 1600 L2400 0 L0 0  Z\n",
       "  \" fill=\"#ffffff\" fill-rule=\"evenodd\" fill-opacity=\"1\"/>\n",
       "<defs>\n",
       "  <clipPath id=\"clip681\">\n",
       "    <rect x=\"480\" y=\"0\" width=\"1681\" height=\"1600\"/>\n",
       "  </clipPath>\n",
       "</defs>\n",
       "<path clip-path=\"url(#clip680)\" d=\"\n",
       "M244.514 1486.45 L2352.76 1486.45 L2352.76 47.2441 L244.514 47.2441  Z\n",
       "  \" fill=\"#ffffff\" fill-rule=\"evenodd\" fill-opacity=\"1\"/>\n",
       "<defs>\n",
       "  <clipPath id=\"clip682\">\n",
       "    <rect x=\"244\" y=\"47\" width=\"2109\" height=\"1440\"/>\n",
       "  </clipPath>\n",
       "</defs>\n",
       "<polyline clip-path=\"url(#clip682)\" style=\"stroke:#000000; stroke-linecap:butt; stroke-linejoin:round; stroke-width:2; stroke-opacity:0.1; fill:none\" points=\"\n",
       "  696.063,1486.45 696.063,47.2441 \n",
       "  \"/>\n",
       "<polyline clip-path=\"url(#clip682)\" style=\"stroke:#000000; stroke-linecap:butt; stroke-linejoin:round; stroke-width:2; stroke-opacity:0.1; fill:none\" points=\"\n",
       "  1182.79,1486.45 1182.79,47.2441 \n",
       "  \"/>\n",
       "<polyline clip-path=\"url(#clip682)\" style=\"stroke:#000000; stroke-linecap:butt; stroke-linejoin:round; stroke-width:2; stroke-opacity:0.1; fill:none\" points=\"\n",
       "  1669.51,1486.45 1669.51,47.2441 \n",
       "  \"/>\n",
       "<polyline clip-path=\"url(#clip682)\" style=\"stroke:#000000; stroke-linecap:butt; stroke-linejoin:round; stroke-width:2; stroke-opacity:0.1; fill:none\" points=\"\n",
       "  2156.23,1486.45 2156.23,47.2441 \n",
       "  \"/>\n",
       "<polyline clip-path=\"url(#clip680)\" style=\"stroke:#000000; stroke-linecap:butt; stroke-linejoin:round; stroke-width:4; stroke-opacity:1; fill:none\" points=\"\n",
       "  244.514,1486.45 2352.76,1486.45 \n",
       "  \"/>\n",
       "<polyline clip-path=\"url(#clip680)\" style=\"stroke:#000000; stroke-linecap:butt; stroke-linejoin:round; stroke-width:4; stroke-opacity:1; fill:none\" points=\"\n",
       "  696.063,1486.45 696.063,1467.55 \n",
       "  \"/>\n",
       "<polyline clip-path=\"url(#clip680)\" style=\"stroke:#000000; stroke-linecap:butt; stroke-linejoin:round; stroke-width:4; stroke-opacity:1; fill:none\" points=\"\n",
       "  1182.79,1486.45 1182.79,1467.55 \n",
       "  \"/>\n",
       "<polyline clip-path=\"url(#clip680)\" style=\"stroke:#000000; stroke-linecap:butt; stroke-linejoin:round; stroke-width:4; stroke-opacity:1; fill:none\" points=\"\n",
       "  1669.51,1486.45 1669.51,1467.55 \n",
       "  \"/>\n",
       "<polyline clip-path=\"url(#clip680)\" style=\"stroke:#000000; stroke-linecap:butt; stroke-linejoin:round; stroke-width:4; stroke-opacity:1; fill:none\" points=\"\n",
       "  2156.23,1486.45 2156.23,1467.55 \n",
       "  \"/>\n",
       "<path clip-path=\"url(#clip680)\" d=\"M629.189 1529.7 Q626.04 1529.7 624.189 1531.86 Q622.36 1534.01 622.36 1537.76 Q622.36 1541.49 624.189 1543.66 Q626.04 1545.82 629.189 1545.82 Q632.337 1545.82 634.165 1543.66 Q636.017 1541.49 636.017 1537.76 Q636.017 1534.01 634.165 1531.86 Q632.337 1529.7 629.189 1529.7 M638.471 1515.05 L638.471 1519.31 Q636.712 1518.48 634.906 1518.04 Q633.124 1517.6 631.364 1517.6 Q626.735 1517.6 624.281 1520.72 Q621.851 1523.85 621.503 1530.17 Q622.869 1528.15 624.929 1527.09 Q626.99 1526 629.466 1526 Q634.675 1526 637.684 1529.17 Q640.716 1532.32 640.716 1537.76 Q640.716 1543.08 637.568 1546.3 Q634.42 1549.52 629.189 1549.52 Q623.193 1549.52 620.022 1544.94 Q616.851 1540.33 616.851 1531.6 Q616.851 1523.41 620.74 1518.55 Q624.628 1513.66 631.179 1513.66 Q632.939 1513.66 634.721 1514.01 Q636.526 1514.36 638.471 1515.05 Z\" fill=\"#000000\" fill-rule=\"evenodd\" fill-opacity=\"1\" /><path clip-path=\"url(#clip680)\" d=\"M647.591 1514.29 L669.813 1514.29 L669.813 1516.28 L657.267 1548.85 L652.383 1548.85 L664.188 1518.22 L647.591 1518.22 L647.591 1514.29 Z\" fill=\"#000000\" fill-rule=\"evenodd\" fill-opacity=\"1\" /><path clip-path=\"url(#clip680)\" d=\"M679.744 1544.91 L687.383 1544.91 L687.383 1518.55 L679.073 1520.21 L679.073 1515.95 L687.336 1514.29 L692.012 1514.29 L692.012 1544.91 L699.651 1544.91 L699.651 1548.85 L679.744 1548.85 L679.744 1544.91 Z\" fill=\"#000000\" fill-rule=\"evenodd\" fill-opacity=\"1\" /><path clip-path=\"url(#clip680)\" d=\"M709.096 1542.97 L713.98 1542.97 L713.98 1548.85 L709.096 1548.85 L709.096 1542.97 Z\" fill=\"#000000\" fill-rule=\"evenodd\" fill-opacity=\"1\" /><path clip-path=\"url(#clip680)\" d=\"M722.984 1514.29 L745.206 1514.29 L745.206 1516.28 L732.66 1548.85 L727.776 1548.85 L739.581 1518.22 L722.984 1518.22 L722.984 1514.29 Z\" fill=\"#000000\" fill-rule=\"evenodd\" fill-opacity=\"1\" /><path clip-path=\"url(#clip680)\" d=\"M754.373 1514.29 L772.729 1514.29 L772.729 1518.22 L758.655 1518.22 L758.655 1526.7 Q759.674 1526.35 760.692 1526.19 Q761.711 1526 762.73 1526 Q768.517 1526 771.896 1529.17 Q775.276 1532.34 775.276 1537.76 Q775.276 1543.34 771.804 1546.44 Q768.331 1549.52 762.012 1549.52 Q759.836 1549.52 757.568 1549.15 Q755.322 1548.78 752.915 1548.04 L752.915 1543.34 Q754.998 1544.47 757.22 1545.03 Q759.442 1545.58 761.919 1545.58 Q765.924 1545.58 768.262 1543.48 Q770.6 1541.37 770.6 1537.76 Q770.6 1534.15 768.262 1532.04 Q765.924 1529.94 761.919 1529.94 Q760.044 1529.94 758.169 1530.35 Q756.318 1530.77 754.373 1531.65 L754.373 1514.29 Z\" fill=\"#000000\" fill-rule=\"evenodd\" fill-opacity=\"1\" /><path clip-path=\"url(#clip680)\" d=\"M1115.41 1529.7 Q1112.26 1529.7 1110.41 1531.86 Q1108.58 1534.01 1108.58 1537.76 Q1108.58 1541.49 1110.41 1543.66 Q1112.26 1545.82 1115.41 1545.82 Q1118.56 1545.82 1120.39 1543.66 Q1122.24 1541.49 1122.24 1537.76 Q1122.24 1534.01 1120.39 1531.86 Q1118.56 1529.7 1115.41 1529.7 M1124.7 1515.05 L1124.7 1519.31 Q1122.94 1518.48 1121.13 1518.04 Q1119.35 1517.6 1117.59 1517.6 Q1112.96 1517.6 1110.51 1520.72 Q1108.07 1523.85 1107.73 1530.17 Q1109.09 1528.15 1111.15 1527.09 Q1113.21 1526 1115.69 1526 Q1120.9 1526 1123.91 1529.17 Q1126.94 1532.32 1126.94 1537.76 Q1126.94 1543.08 1123.79 1546.3 Q1120.64 1549.52 1115.41 1549.52 Q1109.42 1549.52 1106.25 1544.94 Q1103.08 1540.33 1103.08 1531.6 Q1103.08 1523.41 1106.96 1518.55 Q1110.85 1513.66 1117.4 1513.66 Q1119.16 1513.66 1120.95 1514.01 Q1122.75 1514.36 1124.7 1515.05 Z\" fill=\"#000000\" fill-rule=\"evenodd\" fill-opacity=\"1\" /><path clip-path=\"url(#clip680)\" d=\"M1133.82 1514.29 L1156.04 1514.29 L1156.04 1516.28 L1143.49 1548.85 L1138.61 1548.85 L1150.41 1518.22 L1133.82 1518.22 L1133.82 1514.29 Z\" fill=\"#000000\" fill-rule=\"evenodd\" fill-opacity=\"1\" /><path clip-path=\"url(#clip680)\" d=\"M1169.19 1544.91 L1185.51 1544.91 L1185.51 1548.85 L1163.56 1548.85 L1163.56 1544.91 Q1166.22 1542.16 1170.81 1537.53 Q1175.41 1532.88 1176.59 1531.53 Q1178.84 1529.01 1179.72 1527.27 Q1180.62 1525.51 1180.62 1523.82 Q1180.62 1521.07 1178.68 1519.33 Q1176.76 1517.6 1173.65 1517.6 Q1171.45 1517.6 1169 1518.36 Q1166.57 1519.13 1163.79 1520.68 L1163.79 1515.95 Q1166.62 1514.82 1169.07 1514.24 Q1171.52 1513.66 1173.56 1513.66 Q1178.93 1513.66 1182.13 1516.35 Q1185.32 1519.03 1185.32 1523.52 Q1185.32 1525.65 1184.51 1527.57 Q1183.72 1529.47 1181.62 1532.07 Q1181.04 1532.74 1177.94 1535.95 Q1174.83 1539.15 1169.19 1544.91 Z\" fill=\"#000000\" fill-rule=\"evenodd\" fill-opacity=\"1\" /><path clip-path=\"url(#clip680)\" d=\"M1195.32 1542.97 L1200.2 1542.97 L1200.2 1548.85 L1195.32 1548.85 L1195.32 1542.97 Z\" fill=\"#000000\" fill-rule=\"evenodd\" fill-opacity=\"1\" /><path clip-path=\"url(#clip680)\" d=\"M1220.39 1517.37 Q1216.78 1517.37 1214.95 1520.93 Q1213.14 1524.47 1213.14 1531.6 Q1213.14 1538.71 1214.95 1542.27 Q1216.78 1545.82 1220.39 1545.82 Q1224.02 1545.82 1225.83 1542.27 Q1227.66 1538.71 1227.66 1531.6 Q1227.66 1524.47 1225.83 1520.93 Q1224.02 1517.37 1220.39 1517.37 M1220.39 1513.66 Q1226.2 1513.66 1229.25 1518.27 Q1232.33 1522.85 1232.33 1531.6 Q1232.33 1540.33 1229.25 1544.94 Q1226.2 1549.52 1220.39 1549.52 Q1214.58 1549.52 1211.5 1544.94 Q1208.44 1540.33 1208.44 1531.6 Q1208.44 1522.85 1211.5 1518.27 Q1214.58 1513.66 1220.39 1513.66 Z\" fill=\"#000000\" fill-rule=\"evenodd\" fill-opacity=\"1\" /><path clip-path=\"url(#clip680)\" d=\"M1250.55 1517.37 Q1246.94 1517.37 1245.11 1520.93 Q1243.31 1524.47 1243.31 1531.6 Q1243.31 1538.71 1245.11 1542.27 Q1246.94 1545.82 1250.55 1545.82 Q1254.19 1545.82 1255.99 1542.27 Q1257.82 1538.71 1257.82 1531.6 Q1257.82 1524.47 1255.99 1520.93 Q1254.19 1517.37 1250.55 1517.37 M1250.55 1513.66 Q1256.36 1513.66 1259.42 1518.27 Q1262.5 1522.85 1262.5 1531.6 Q1262.5 1540.33 1259.42 1544.94 Q1256.36 1549.52 1250.55 1549.52 Q1244.74 1549.52 1241.66 1544.94 Q1238.61 1540.33 1238.61 1531.6 Q1238.61 1522.85 1241.66 1518.27 Q1244.74 1513.66 1250.55 1513.66 Z\" fill=\"#000000\" fill-rule=\"evenodd\" fill-opacity=\"1\" /><path clip-path=\"url(#clip680)\" d=\"M1602.63 1529.7 Q1599.48 1529.7 1597.63 1531.86 Q1595.8 1534.01 1595.8 1537.76 Q1595.8 1541.49 1597.63 1543.66 Q1599.48 1545.82 1602.63 1545.82 Q1605.78 1545.82 1607.61 1543.66 Q1609.46 1541.49 1609.46 1537.76 Q1609.46 1534.01 1607.61 1531.86 Q1605.78 1529.7 1602.63 1529.7 M1611.92 1515.05 L1611.92 1519.31 Q1610.16 1518.48 1608.35 1518.04 Q1606.57 1517.6 1604.81 1517.6 Q1600.18 1517.6 1597.73 1520.72 Q1595.29 1523.85 1594.95 1530.17 Q1596.31 1528.15 1598.37 1527.09 Q1600.43 1526 1602.91 1526 Q1608.12 1526 1611.13 1529.17 Q1614.16 1532.32 1614.16 1537.76 Q1614.16 1543.08 1611.01 1546.3 Q1607.86 1549.52 1602.63 1549.52 Q1596.64 1549.52 1593.47 1544.94 Q1590.29 1540.33 1590.29 1531.6 Q1590.29 1523.41 1594.18 1518.55 Q1598.07 1513.66 1604.62 1513.66 Q1606.38 1513.66 1608.17 1514.01 Q1609.97 1514.36 1611.92 1515.05 Z\" fill=\"#000000\" fill-rule=\"evenodd\" fill-opacity=\"1\" /><path clip-path=\"url(#clip680)\" d=\"M1621.04 1514.29 L1643.26 1514.29 L1643.26 1516.28 L1630.71 1548.85 L1625.83 1548.85 L1637.63 1518.22 L1621.04 1518.22 L1621.04 1514.29 Z\" fill=\"#000000\" fill-rule=\"evenodd\" fill-opacity=\"1\" /><path clip-path=\"url(#clip680)\" d=\"M1656.41 1544.91 L1672.72 1544.91 L1672.72 1548.85 L1650.78 1548.85 L1650.78 1544.91 Q1653.44 1542.16 1658.03 1537.53 Q1662.63 1532.88 1663.81 1531.53 Q1666.06 1529.01 1666.94 1527.27 Q1667.84 1525.51 1667.84 1523.82 Q1667.84 1521.07 1665.9 1519.33 Q1663.97 1517.6 1660.87 1517.6 Q1658.67 1517.6 1656.22 1518.36 Q1653.79 1519.13 1651.01 1520.68 L1651.01 1515.95 Q1653.84 1514.82 1656.29 1514.24 Q1658.74 1513.66 1660.78 1513.66 Q1666.15 1513.66 1669.35 1516.35 Q1672.54 1519.03 1672.54 1523.52 Q1672.54 1525.65 1671.73 1527.57 Q1670.94 1529.47 1668.84 1532.07 Q1668.26 1532.74 1665.16 1535.95 Q1662.05 1539.15 1656.41 1544.91 Z\" fill=\"#000000\" fill-rule=\"evenodd\" fill-opacity=\"1\" /><path clip-path=\"url(#clip680)\" d=\"M1682.54 1542.97 L1687.42 1542.97 L1687.42 1548.85 L1682.54 1548.85 L1682.54 1542.97 Z\" fill=\"#000000\" fill-rule=\"evenodd\" fill-opacity=\"1\" /><path clip-path=\"url(#clip680)\" d=\"M1701.64 1544.91 L1717.96 1544.91 L1717.96 1548.85 L1696.01 1548.85 L1696.01 1544.91 Q1698.67 1542.16 1703.26 1537.53 Q1707.86 1532.88 1709.04 1531.53 Q1711.29 1529.01 1712.17 1527.27 Q1713.07 1525.51 1713.07 1523.82 Q1713.07 1521.07 1711.13 1519.33 Q1709.21 1517.6 1706.1 1517.6 Q1703.91 1517.6 1701.45 1518.36 Q1699.02 1519.13 1696.24 1520.68 L1696.24 1515.95 Q1699.07 1514.82 1701.52 1514.24 Q1703.97 1513.66 1706.01 1513.66 Q1711.38 1513.66 1714.58 1516.35 Q1717.77 1519.03 1717.77 1523.52 Q1717.77 1525.65 1716.96 1527.57 Q1716.17 1529.47 1714.07 1532.07 Q1713.49 1532.74 1710.39 1535.95 Q1707.28 1539.15 1701.64 1544.91 Z\" fill=\"#000000\" fill-rule=\"evenodd\" fill-opacity=\"1\" /><path clip-path=\"url(#clip680)\" d=\"M1727.82 1514.29 L1746.17 1514.29 L1746.17 1518.22 L1732.1 1518.22 L1732.1 1526.7 Q1733.12 1526.35 1734.14 1526.19 Q1735.16 1526 1736.17 1526 Q1741.96 1526 1745.34 1529.17 Q1748.72 1532.34 1748.72 1537.76 Q1748.72 1543.34 1745.25 1546.44 Q1741.78 1549.52 1735.46 1549.52 Q1733.28 1549.52 1731.01 1549.15 Q1728.77 1548.78 1726.36 1548.04 L1726.36 1543.34 Q1728.44 1544.47 1730.66 1545.03 Q1732.89 1545.58 1735.36 1545.58 Q1739.37 1545.58 1741.71 1543.48 Q1744.04 1541.37 1744.04 1537.76 Q1744.04 1534.15 1741.71 1532.04 Q1739.37 1529.94 1735.36 1529.94 Q1733.49 1529.94 1731.61 1530.35 Q1729.76 1530.77 1727.82 1531.65 L1727.82 1514.29 Z\" fill=\"#000000\" fill-rule=\"evenodd\" fill-opacity=\"1\" /><path clip-path=\"url(#clip680)\" d=\"M2088.86 1529.7 Q2085.71 1529.7 2083.86 1531.86 Q2082.03 1534.01 2082.03 1537.76 Q2082.03 1541.49 2083.86 1543.66 Q2085.71 1545.82 2088.86 1545.82 Q2092.01 1545.82 2093.83 1543.66 Q2095.69 1541.49 2095.69 1537.76 Q2095.69 1534.01 2093.83 1531.86 Q2092.01 1529.7 2088.86 1529.7 M2098.14 1515.05 L2098.14 1519.31 Q2096.38 1518.48 2094.57 1518.04 Q2092.79 1517.6 2091.03 1517.6 Q2086.4 1517.6 2083.95 1520.72 Q2081.52 1523.85 2081.17 1530.17 Q2082.54 1528.15 2084.6 1527.09 Q2086.66 1526 2089.13 1526 Q2094.34 1526 2097.35 1529.17 Q2100.38 1532.32 2100.38 1537.76 Q2100.38 1543.08 2097.24 1546.3 Q2094.09 1549.52 2088.86 1549.52 Q2082.86 1549.52 2079.69 1544.94 Q2076.52 1540.33 2076.52 1531.6 Q2076.52 1523.41 2080.41 1518.55 Q2084.3 1513.66 2090.85 1513.66 Q2092.61 1513.66 2094.39 1514.01 Q2096.19 1514.36 2098.14 1515.05 Z\" fill=\"#000000\" fill-rule=\"evenodd\" fill-opacity=\"1\" /><path clip-path=\"url(#clip680)\" d=\"M2107.26 1514.29 L2129.48 1514.29 L2129.48 1516.28 L2116.94 1548.85 L2112.05 1548.85 L2123.86 1518.22 L2107.26 1518.22 L2107.26 1514.29 Z\" fill=\"#000000\" fill-rule=\"evenodd\" fill-opacity=\"1\" /><path clip-path=\"url(#clip680)\" d=\"M2142.63 1544.91 L2158.95 1544.91 L2158.95 1548.85 L2137 1548.85 L2137 1544.91 Q2139.67 1542.16 2144.25 1537.53 Q2148.86 1532.88 2150.04 1531.53 Q2152.28 1529.01 2153.16 1527.27 Q2154.06 1525.51 2154.06 1523.82 Q2154.06 1521.07 2152.12 1519.33 Q2150.2 1517.6 2147.1 1517.6 Q2144.9 1517.6 2142.44 1518.36 Q2140.01 1519.13 2137.24 1520.68 L2137.24 1515.95 Q2140.06 1514.82 2142.51 1514.24 Q2144.97 1513.66 2147 1513.66 Q2152.38 1513.66 2155.57 1516.35 Q2158.76 1519.03 2158.76 1523.52 Q2158.76 1525.65 2157.95 1527.57 Q2157.17 1529.47 2155.06 1532.07 Q2154.48 1532.74 2151.38 1535.95 Q2148.28 1539.15 2142.63 1544.91 Z\" fill=\"#000000\" fill-rule=\"evenodd\" fill-opacity=\"1\" /><path clip-path=\"url(#clip680)\" d=\"M2168.76 1542.97 L2173.65 1542.97 L2173.65 1548.85 L2168.76 1548.85 L2168.76 1542.97 Z\" fill=\"#000000\" fill-rule=\"evenodd\" fill-opacity=\"1\" /><path clip-path=\"url(#clip680)\" d=\"M2183.88 1514.29 L2202.24 1514.29 L2202.24 1518.22 L2188.16 1518.22 L2188.16 1526.7 Q2189.18 1526.35 2190.2 1526.19 Q2191.22 1526 2192.24 1526 Q2198.02 1526 2201.4 1529.17 Q2204.78 1532.34 2204.78 1537.76 Q2204.78 1543.34 2201.31 1546.44 Q2197.84 1549.52 2191.52 1549.52 Q2189.34 1549.52 2187.07 1549.15 Q2184.83 1548.78 2182.42 1548.04 L2182.42 1543.34 Q2184.5 1544.47 2186.73 1545.03 Q2188.95 1545.58 2191.43 1545.58 Q2195.43 1545.58 2197.77 1543.48 Q2200.11 1541.37 2200.11 1537.76 Q2200.11 1534.15 2197.77 1532.04 Q2195.43 1529.94 2191.43 1529.94 Q2189.55 1529.94 2187.68 1530.35 Q2185.82 1530.77 2183.88 1531.65 L2183.88 1514.29 Z\" fill=\"#000000\" fill-rule=\"evenodd\" fill-opacity=\"1\" /><path clip-path=\"url(#clip680)\" d=\"M2224 1517.37 Q2220.38 1517.37 2218.56 1520.93 Q2216.75 1524.47 2216.75 1531.6 Q2216.75 1538.71 2218.56 1542.27 Q2220.38 1545.82 2224 1545.82 Q2227.63 1545.82 2229.43 1542.27 Q2231.26 1538.71 2231.26 1531.6 Q2231.26 1524.47 2229.43 1520.93 Q2227.63 1517.37 2224 1517.37 M2224 1513.66 Q2229.81 1513.66 2232.86 1518.27 Q2235.94 1522.85 2235.94 1531.6 Q2235.94 1540.33 2232.86 1544.94 Q2229.81 1549.52 2224 1549.52 Q2218.19 1549.52 2215.11 1544.94 Q2212.05 1540.33 2212.05 1531.6 Q2212.05 1522.85 2215.11 1518.27 Q2218.19 1513.66 2224 1513.66 Z\" fill=\"#000000\" fill-rule=\"evenodd\" fill-opacity=\"1\" /><polyline clip-path=\"url(#clip682)\" style=\"stroke:#000000; stroke-linecap:butt; stroke-linejoin:round; stroke-width:2; stroke-opacity:0.1; fill:none\" points=\"\n",
       "  244.514,1459.69 2352.76,1459.69 \n",
       "  \"/>\n",
       "<polyline clip-path=\"url(#clip682)\" style=\"stroke:#000000; stroke-linecap:butt; stroke-linejoin:round; stroke-width:2; stroke-opacity:0.1; fill:none\" points=\"\n",
       "  244.514,1166.18 2352.76,1166.18 \n",
       "  \"/>\n",
       "<polyline clip-path=\"url(#clip682)\" style=\"stroke:#000000; stroke-linecap:butt; stroke-linejoin:round; stroke-width:2; stroke-opacity:0.1; fill:none\" points=\"\n",
       "  244.514,872.668 2352.76,872.668 \n",
       "  \"/>\n",
       "<polyline clip-path=\"url(#clip682)\" style=\"stroke:#000000; stroke-linecap:butt; stroke-linejoin:round; stroke-width:2; stroke-opacity:0.1; fill:none\" points=\"\n",
       "  244.514,579.154 2352.76,579.154 \n",
       "  \"/>\n",
       "<polyline clip-path=\"url(#clip682)\" style=\"stroke:#000000; stroke-linecap:butt; stroke-linejoin:round; stroke-width:2; stroke-opacity:0.1; fill:none\" points=\"\n",
       "  244.514,285.641 2352.76,285.641 \n",
       "  \"/>\n",
       "<polyline clip-path=\"url(#clip680)\" style=\"stroke:#000000; stroke-linecap:butt; stroke-linejoin:round; stroke-width:4; stroke-opacity:1; fill:none\" points=\"\n",
       "  244.514,1486.45 244.514,47.2441 \n",
       "  \"/>\n",
       "<polyline clip-path=\"url(#clip680)\" style=\"stroke:#000000; stroke-linecap:butt; stroke-linejoin:round; stroke-width:4; stroke-opacity:1; fill:none\" points=\"\n",
       "  244.514,1459.69 263.412,1459.69 \n",
       "  \"/>\n",
       "<polyline clip-path=\"url(#clip680)\" style=\"stroke:#000000; stroke-linecap:butt; stroke-linejoin:round; stroke-width:4; stroke-opacity:1; fill:none\" points=\"\n",
       "  244.514,1166.18 263.412,1166.18 \n",
       "  \"/>\n",
       "<polyline clip-path=\"url(#clip680)\" style=\"stroke:#000000; stroke-linecap:butt; stroke-linejoin:round; stroke-width:4; stroke-opacity:1; fill:none\" points=\"\n",
       "  244.514,872.668 263.412,872.668 \n",
       "  \"/>\n",
       "<polyline clip-path=\"url(#clip680)\" style=\"stroke:#000000; stroke-linecap:butt; stroke-linejoin:round; stroke-width:4; stroke-opacity:1; fill:none\" points=\"\n",
       "  244.514,579.154 263.412,579.154 \n",
       "  \"/>\n",
       "<polyline clip-path=\"url(#clip680)\" style=\"stroke:#000000; stroke-linecap:butt; stroke-linejoin:round; stroke-width:4; stroke-opacity:1; fill:none\" points=\"\n",
       "  244.514,285.641 263.412,285.641 \n",
       "  \"/>\n",
       "<path clip-path=\"url(#clip680)\" d=\"M51.6634 1473.04 L59.3023 1473.04 L59.3023 1446.67 L50.9921 1448.34 L50.9921 1444.08 L59.256 1442.41 L63.9319 1442.41 L63.9319 1473.04 L71.5707 1473.04 L71.5707 1476.97 L51.6634 1476.97 L51.6634 1473.04 Z\" fill=\"#000000\" fill-rule=\"evenodd\" fill-opacity=\"1\" /><path clip-path=\"url(#clip680)\" d=\"M95.1817 1458.34 Q98.5382 1459.06 100.413 1461.33 Q102.311 1463.59 102.311 1466.93 Q102.311 1472.04 98.7928 1474.84 Q95.2743 1477.65 88.7928 1477.65 Q86.6169 1477.65 84.3021 1477.21 Q82.0105 1476.79 79.5568 1475.93 L79.5568 1471.42 Q81.5012 1472.55 83.816 1473.13 Q86.1308 1473.71 88.654 1473.71 Q93.0521 1473.71 95.3437 1471.97 Q97.6585 1470.24 97.6585 1466.93 Q97.6585 1463.87 95.5058 1462.16 Q93.3762 1460.42 89.5567 1460.42 L85.529 1460.42 L85.529 1456.58 L89.7419 1456.58 Q93.191 1456.58 95.0197 1455.22 Q96.8484 1453.83 96.8484 1451.23 Q96.8484 1448.57 94.9502 1447.16 Q93.0752 1445.72 89.5567 1445.72 Q87.6354 1445.72 85.4364 1446.14 Q83.2373 1446.56 80.5984 1447.44 L80.5984 1443.27 Q83.2605 1442.53 85.5753 1442.16 Q87.9132 1441.79 89.9734 1441.79 Q95.2974 1441.79 98.3993 1444.22 Q101.501 1446.63 101.501 1450.75 Q101.501 1453.62 99.8576 1455.61 Q98.2141 1457.58 95.1817 1458.34 Z\" fill=\"#000000\" fill-rule=\"evenodd\" fill-opacity=\"1\" /><path clip-path=\"url(#clip680)\" d=\"M124.024 1446.49 L112.219 1464.94 L124.024 1464.94 L124.024 1446.49 M122.797 1442.41 L128.677 1442.41 L128.677 1464.94 L133.607 1464.94 L133.607 1468.83 L128.677 1468.83 L128.677 1476.97 L124.024 1476.97 L124.024 1468.83 L108.422 1468.83 L108.422 1464.31 L122.797 1442.41 Z\" fill=\"#000000\" fill-rule=\"evenodd\" fill-opacity=\"1\" /><path clip-path=\"url(#clip680)\" d=\"M141.385 1442.41 L159.742 1442.41 L159.742 1446.35 L145.668 1446.35 L145.668 1454.82 Q146.686 1454.47 147.705 1454.31 Q148.723 1454.13 149.742 1454.13 Q155.529 1454.13 158.908 1457.3 Q162.288 1460.47 162.288 1465.89 Q162.288 1471.47 158.816 1474.57 Q155.343 1477.65 149.024 1477.65 Q146.848 1477.65 144.58 1477.28 Q142.334 1476.91 139.927 1476.16 L139.927 1471.47 Q142.01 1472.6 144.232 1473.16 Q146.455 1473.71 148.931 1473.71 Q152.936 1473.71 155.274 1471.6 Q157.612 1469.5 157.612 1465.89 Q157.612 1462.28 155.274 1460.17 Q152.936 1458.06 148.931 1458.06 Q147.056 1458.06 145.181 1458.48 Q143.33 1458.9 141.385 1459.78 L141.385 1442.41 Z\" fill=\"#000000\" fill-rule=\"evenodd\" fill-opacity=\"1\" /><path clip-path=\"url(#clip680)\" d=\"M171.501 1471.09 L176.385 1471.09 L176.385 1476.97 L171.501 1476.97 L171.501 1471.09 Z\" fill=\"#000000\" fill-rule=\"evenodd\" fill-opacity=\"1\" /><path clip-path=\"url(#clip680)\" d=\"M196.57 1445.49 Q192.959 1445.49 191.13 1449.06 Q189.325 1452.6 189.325 1459.73 Q189.325 1466.84 191.13 1470.4 Q192.959 1473.94 196.57 1473.94 Q200.204 1473.94 202.01 1470.4 Q203.839 1466.84 203.839 1459.73 Q203.839 1452.6 202.01 1449.06 Q200.204 1445.49 196.57 1445.49 M196.57 1441.79 Q202.38 1441.79 205.436 1446.4 Q208.514 1450.98 208.514 1459.73 Q208.514 1468.46 205.436 1473.06 Q202.38 1477.65 196.57 1477.65 Q190.76 1477.65 187.681 1473.06 Q184.626 1468.46 184.626 1459.73 Q184.626 1450.98 187.681 1446.4 Q190.76 1441.79 196.57 1441.79 Z\" fill=\"#000000\" fill-rule=\"evenodd\" fill-opacity=\"1\" /><path clip-path=\"url(#clip680)\" d=\"M52.6588 1179.53 L60.2976 1179.53 L60.2976 1153.16 L51.9875 1154.83 L51.9875 1150.57 L60.2513 1148.9 L64.9272 1148.9 L64.9272 1179.53 L72.5661 1179.53 L72.5661 1183.46 L52.6588 1183.46 L52.6588 1179.53 Z\" fill=\"#000000\" fill-rule=\"evenodd\" fill-opacity=\"1\" /><path clip-path=\"url(#clip680)\" d=\"M96.1771 1164.83 Q99.5335 1165.54 101.409 1167.81 Q103.307 1170.08 103.307 1173.41 Q103.307 1178.53 99.7882 1181.33 Q96.2697 1184.13 89.7882 1184.13 Q87.6123 1184.13 85.2975 1183.69 Q83.0058 1183.28 80.5522 1182.42 L80.5522 1177.91 Q82.4966 1179.04 84.8114 1179.62 Q87.1262 1180.2 89.6493 1180.2 Q94.0475 1180.2 96.3391 1178.46 Q98.6539 1176.73 98.6539 1173.41 Q98.6539 1170.36 96.5011 1168.65 Q94.3715 1166.91 90.5521 1166.91 L86.5243 1166.91 L86.5243 1163.07 L90.7373 1163.07 Q94.1863 1163.07 96.015 1161.7 Q97.8437 1160.31 97.8437 1157.72 Q97.8437 1155.06 95.9456 1153.65 Q94.0706 1152.21 90.5521 1152.21 Q88.6308 1152.21 86.4318 1152.63 Q84.2327 1153.04 81.5938 1153.92 L81.5938 1149.76 Q84.2558 1149.02 86.5706 1148.65 Q88.9086 1148.28 90.9688 1148.28 Q96.2928 1148.28 99.3946 1150.71 Q102.496 1153.11 102.496 1157.23 Q102.496 1160.1 100.853 1162.1 Q99.2095 1164.06 96.1771 1164.83 Z\" fill=\"#000000\" fill-rule=\"evenodd\" fill-opacity=\"1\" /><path clip-path=\"url(#clip680)\" d=\"M125.02 1152.98 L113.214 1171.42 L125.02 1171.42 L125.02 1152.98 M123.793 1148.9 L129.672 1148.9 L129.672 1171.42 L134.603 1171.42 L134.603 1175.31 L129.672 1175.31 L129.672 1183.46 L125.02 1183.46 L125.02 1175.31 L109.418 1175.31 L109.418 1170.8 L123.793 1148.9 Z\" fill=\"#000000\" fill-rule=\"evenodd\" fill-opacity=\"1\" /><path clip-path=\"url(#clip680)\" d=\"M141.154 1148.9 L163.376 1148.9 L163.376 1150.89 L150.83 1183.46 L145.945 1183.46 L157.751 1152.84 L141.154 1152.84 L141.154 1148.9 Z\" fill=\"#000000\" fill-rule=\"evenodd\" fill-opacity=\"1\" /><path clip-path=\"url(#clip680)\" d=\"M172.496 1177.58 L177.38 1177.58 L177.38 1183.46 L172.496 1183.46 L172.496 1177.58 Z\" fill=\"#000000\" fill-rule=\"evenodd\" fill-opacity=\"1\" /><path clip-path=\"url(#clip680)\" d=\"M187.612 1148.9 L205.968 1148.9 L205.968 1152.84 L191.894 1152.84 L191.894 1161.31 Q192.913 1160.96 193.931 1160.8 Q194.95 1160.61 195.968 1160.61 Q201.755 1160.61 205.135 1163.79 Q208.514 1166.96 208.514 1172.37 Q208.514 1177.95 205.042 1181.05 Q201.57 1184.13 195.251 1184.13 Q193.075 1184.13 190.806 1183.76 Q188.561 1183.39 186.153 1182.65 L186.153 1177.95 Q188.237 1179.09 190.459 1179.64 Q192.681 1180.2 195.158 1180.2 Q199.163 1180.2 201.501 1178.09 Q203.839 1175.98 203.839 1172.37 Q203.839 1168.76 201.501 1166.66 Q199.163 1164.55 195.158 1164.55 Q193.283 1164.55 191.408 1164.97 Q189.556 1165.38 187.612 1166.26 L187.612 1148.9 Z\" fill=\"#000000\" fill-rule=\"evenodd\" fill-opacity=\"1\" /><path clip-path=\"url(#clip680)\" d=\"M51.6634 886.013 L59.3023 886.013 L59.3023 859.647 L50.9921 861.314 L50.9921 857.054 L59.256 855.388 L63.9319 855.388 L63.9319 886.013 L71.5707 886.013 L71.5707 889.948 L51.6634 889.948 L51.6634 886.013 Z\" fill=\"#000000\" fill-rule=\"evenodd\" fill-opacity=\"1\" /><path clip-path=\"url(#clip680)\" d=\"M95.1817 871.314 Q98.5382 872.031 100.413 874.3 Q102.311 876.568 102.311 879.902 Q102.311 885.017 98.7928 887.818 Q95.2743 890.619 88.7928 890.619 Q86.6169 890.619 84.3021 890.179 Q82.0105 889.763 79.5568 888.906 L79.5568 884.392 Q81.5012 885.526 83.816 886.105 Q86.1308 886.684 88.654 886.684 Q93.0521 886.684 95.3437 884.948 Q97.6585 883.212 97.6585 879.902 Q97.6585 876.846 95.5058 875.133 Q93.3762 873.397 89.5567 873.397 L85.529 873.397 L85.529 869.554 L89.7419 869.554 Q93.191 869.554 95.0197 868.189 Q96.8484 866.8 96.8484 864.207 Q96.8484 861.545 94.9502 860.133 Q93.0752 858.698 89.5567 858.698 Q87.6354 858.698 85.4364 859.115 Q83.2373 859.531 80.5984 860.411 L80.5984 856.244 Q83.2605 855.504 85.5753 855.133 Q87.9132 854.763 89.9734 854.763 Q95.2974 854.763 98.3993 857.193 Q101.501 859.601 101.501 863.721 Q101.501 866.591 99.8576 868.582 Q98.2141 870.55 95.1817 871.314 Z\" fill=\"#000000\" fill-rule=\"evenodd\" fill-opacity=\"1\" /><path clip-path=\"url(#clip680)\" d=\"M111.223 855.388 L129.58 855.388 L129.58 859.323 L115.506 859.323 L115.506 867.795 Q116.524 867.448 117.543 867.286 Q118.561 867.101 119.58 867.101 Q125.367 867.101 128.746 870.272 Q132.126 873.443 132.126 878.86 Q132.126 884.439 128.654 887.54 Q125.182 890.619 118.862 890.619 Q116.686 890.619 114.418 890.249 Q112.172 889.878 109.765 889.138 L109.765 884.439 Q111.848 885.573 114.07 886.128 Q116.293 886.684 118.77 886.684 Q122.774 886.684 125.112 884.577 Q127.45 882.471 127.45 878.86 Q127.45 875.249 125.112 873.142 Q122.774 871.036 118.77 871.036 Q116.895 871.036 115.02 871.452 Q113.168 871.869 111.223 872.749 L111.223 855.388 Z\" fill=\"#000000\" fill-rule=\"evenodd\" fill-opacity=\"1\" /><path clip-path=\"url(#clip680)\" d=\"M151.339 858.466 Q147.728 858.466 145.899 862.031 Q144.093 865.573 144.093 872.702 Q144.093 879.809 145.899 883.374 Q147.728 886.915 151.339 886.915 Q154.973 886.915 156.779 883.374 Q158.607 879.809 158.607 872.702 Q158.607 865.573 156.779 862.031 Q154.973 858.466 151.339 858.466 M151.339 854.763 Q157.149 854.763 160.205 859.369 Q163.283 863.953 163.283 872.702 Q163.283 881.429 160.205 886.036 Q157.149 890.619 151.339 890.619 Q145.529 890.619 142.45 886.036 Q139.394 881.429 139.394 872.702 Q139.394 863.953 142.45 859.369 Q145.529 854.763 151.339 854.763 Z\" fill=\"#000000\" fill-rule=\"evenodd\" fill-opacity=\"1\" /><path clip-path=\"url(#clip680)\" d=\"M171.501 884.068 L176.385 884.068 L176.385 889.948 L171.501 889.948 L171.501 884.068 Z\" fill=\"#000000\" fill-rule=\"evenodd\" fill-opacity=\"1\" /><path clip-path=\"url(#clip680)\" d=\"M196.57 858.466 Q192.959 858.466 191.13 862.031 Q189.325 865.573 189.325 872.702 Q189.325 879.809 191.13 883.374 Q192.959 886.915 196.57 886.915 Q200.204 886.915 202.01 883.374 Q203.839 879.809 203.839 872.702 Q203.839 865.573 202.01 862.031 Q200.204 858.466 196.57 858.466 M196.57 854.763 Q202.38 854.763 205.436 859.369 Q208.514 863.953 208.514 872.702 Q208.514 881.429 205.436 886.036 Q202.38 890.619 196.57 890.619 Q190.76 890.619 187.681 886.036 Q184.626 881.429 184.626 872.702 Q184.626 863.953 187.681 859.369 Q190.76 854.763 196.57 854.763 Z\" fill=\"#000000\" fill-rule=\"evenodd\" fill-opacity=\"1\" /><path clip-path=\"url(#clip680)\" d=\"M52.6588 592.499 L60.2976 592.499 L60.2976 566.134 L51.9875 567.8 L51.9875 563.541 L60.2513 561.874 L64.9272 561.874 L64.9272 592.499 L72.5661 592.499 L72.5661 596.434 L52.6588 596.434 L52.6588 592.499 Z\" fill=\"#000000\" fill-rule=\"evenodd\" fill-opacity=\"1\" /><path clip-path=\"url(#clip680)\" d=\"M96.1771 577.8 Q99.5335 578.518 101.409 580.786 Q103.307 583.055 103.307 586.388 Q103.307 591.504 99.7882 594.305 Q96.2697 597.106 89.7882 597.106 Q87.6123 597.106 85.2975 596.666 Q83.0058 596.249 80.5522 595.393 L80.5522 590.879 Q82.4966 592.013 84.8114 592.592 Q87.1262 593.171 89.6493 593.171 Q94.0475 593.171 96.3391 591.434 Q98.6539 589.698 98.6539 586.388 Q98.6539 583.333 96.5011 581.62 Q94.3715 579.884 90.5521 579.884 L86.5243 579.884 L86.5243 576.041 L90.7373 576.041 Q94.1863 576.041 96.015 574.675 Q97.8437 573.286 97.8437 570.694 Q97.8437 568.032 95.9456 566.62 Q94.0706 565.185 90.5521 565.185 Q88.6308 565.185 86.4318 565.601 Q84.2327 566.018 81.5938 566.898 L81.5938 562.731 Q84.2558 561.99 86.5706 561.62 Q88.9086 561.249 90.9688 561.249 Q96.2928 561.249 99.3946 563.68 Q102.496 566.087 102.496 570.208 Q102.496 573.078 100.853 575.069 Q99.2095 577.036 96.1771 577.8 Z\" fill=\"#000000\" fill-rule=\"evenodd\" fill-opacity=\"1\" /><path clip-path=\"url(#clip680)\" d=\"M112.219 561.874 L130.575 561.874 L130.575 565.81 L116.501 565.81 L116.501 574.282 Q117.52 573.935 118.538 573.772 Q119.557 573.587 120.575 573.587 Q126.362 573.587 129.742 576.759 Q133.121 579.93 133.121 585.346 Q133.121 590.925 129.649 594.027 Q126.177 597.106 119.857 597.106 Q117.682 597.106 115.413 596.735 Q113.168 596.365 110.76 595.624 L110.76 590.925 Q112.844 592.059 115.066 592.615 Q117.288 593.171 119.765 593.171 Q123.77 593.171 126.107 591.064 Q128.445 588.958 128.445 585.346 Q128.445 581.735 126.107 579.629 Q123.77 577.522 119.765 577.522 Q117.89 577.522 116.015 577.939 Q114.163 578.356 112.219 579.235 L112.219 561.874 Z\" fill=\"#000000\" fill-rule=\"evenodd\" fill-opacity=\"1\" /><path clip-path=\"url(#clip680)\" d=\"M146.362 592.499 L162.681 592.499 L162.681 596.434 L140.737 596.434 L140.737 592.499 Q143.399 589.745 147.982 585.115 Q152.589 580.462 153.769 579.12 Q156.015 576.597 156.894 574.86 Q157.797 573.101 157.797 571.411 Q157.797 568.657 155.853 566.921 Q153.931 565.185 150.83 565.185 Q148.63 565.185 146.177 565.948 Q143.746 566.712 140.968 568.263 L140.968 563.541 Q143.793 562.407 146.246 561.828 Q148.7 561.249 150.737 561.249 Q156.107 561.249 159.302 563.935 Q162.496 566.62 162.496 571.11 Q162.496 573.24 161.686 575.161 Q160.899 577.059 158.792 579.652 Q158.214 580.323 155.112 583.541 Q152.01 586.735 146.362 592.499 Z\" fill=\"#000000\" fill-rule=\"evenodd\" fill-opacity=\"1\" /><path clip-path=\"url(#clip680)\" d=\"M172.496 590.555 L177.38 590.555 L177.38 596.434 L172.496 596.434 L172.496 590.555 Z\" fill=\"#000000\" fill-rule=\"evenodd\" fill-opacity=\"1\" /><path clip-path=\"url(#clip680)\" d=\"M187.612 561.874 L205.968 561.874 L205.968 565.81 L191.894 565.81 L191.894 574.282 Q192.913 573.935 193.931 573.772 Q194.95 573.587 195.968 573.587 Q201.755 573.587 205.135 576.759 Q208.514 579.93 208.514 585.346 Q208.514 590.925 205.042 594.027 Q201.57 597.106 195.251 597.106 Q193.075 597.106 190.806 596.735 Q188.561 596.365 186.153 595.624 L186.153 590.925 Q188.237 592.059 190.459 592.615 Q192.681 593.171 195.158 593.171 Q199.163 593.171 201.501 591.064 Q203.839 588.958 203.839 585.346 Q203.839 581.735 201.501 579.629 Q199.163 577.522 195.158 577.522 Q193.283 577.522 191.408 577.939 Q189.556 578.356 187.612 579.235 L187.612 561.874 Z\" fill=\"#000000\" fill-rule=\"evenodd\" fill-opacity=\"1\" /><path clip-path=\"url(#clip680)\" d=\"M51.6634 298.986 L59.3023 298.986 L59.3023 272.62 L50.9921 274.287 L50.9921 270.028 L59.256 268.361 L63.9319 268.361 L63.9319 298.986 L71.5707 298.986 L71.5707 302.921 L51.6634 302.921 L51.6634 298.986 Z\" fill=\"#000000\" fill-rule=\"evenodd\" fill-opacity=\"1\" /><path clip-path=\"url(#clip680)\" d=\"M95.1817 284.287 Q98.5382 285.004 100.413 287.273 Q102.311 289.541 102.311 292.875 Q102.311 297.99 98.7928 300.791 Q95.2743 303.592 88.7928 303.592 Q86.6169 303.592 84.3021 303.152 Q82.0105 302.736 79.5568 301.879 L79.5568 297.365 Q81.5012 298.5 83.816 299.078 Q86.1308 299.657 88.654 299.657 Q93.0521 299.657 95.3437 297.921 Q97.6585 296.185 97.6585 292.875 Q97.6585 289.819 95.5058 288.106 Q93.3762 286.37 89.5567 286.37 L85.529 286.37 L85.529 282.528 L89.7419 282.528 Q93.191 282.528 95.0197 281.162 Q96.8484 279.773 96.8484 277.18 Q96.8484 274.518 94.9502 273.106 Q93.0752 271.671 89.5567 271.671 Q87.6354 271.671 85.4364 272.088 Q83.2373 272.504 80.5984 273.384 L80.5984 269.217 Q83.2605 268.477 85.5753 268.106 Q87.9132 267.736 89.9734 267.736 Q95.2974 267.736 98.3993 270.167 Q101.501 272.574 101.501 276.694 Q101.501 279.565 99.8576 281.555 Q98.2141 283.523 95.1817 284.287 Z\" fill=\"#000000\" fill-rule=\"evenodd\" fill-opacity=\"1\" /><path clip-path=\"url(#clip680)\" d=\"M111.223 268.361 L129.58 268.361 L129.58 272.296 L115.506 272.296 L115.506 280.768 Q116.524 280.421 117.543 280.259 Q118.561 280.074 119.58 280.074 Q125.367 280.074 128.746 283.245 Q132.126 286.416 132.126 291.833 Q132.126 297.412 128.654 300.514 Q125.182 303.592 118.862 303.592 Q116.686 303.592 114.418 303.222 Q112.172 302.852 109.765 302.111 L109.765 297.412 Q111.848 298.546 114.07 299.102 Q116.293 299.657 118.77 299.657 Q122.774 299.657 125.112 297.551 Q127.45 295.444 127.45 291.833 Q127.45 288.222 125.112 286.116 Q122.774 284.009 118.77 284.009 Q116.895 284.009 115.02 284.426 Q113.168 284.842 111.223 285.722 L111.223 268.361 Z\" fill=\"#000000\" fill-rule=\"evenodd\" fill-opacity=\"1\" /><path clip-path=\"url(#clip680)\" d=\"M141.385 268.361 L159.742 268.361 L159.742 272.296 L145.668 272.296 L145.668 280.768 Q146.686 280.421 147.705 280.259 Q148.723 280.074 149.742 280.074 Q155.529 280.074 158.908 283.245 Q162.288 286.416 162.288 291.833 Q162.288 297.412 158.816 300.514 Q155.343 303.592 149.024 303.592 Q146.848 303.592 144.58 303.222 Q142.334 302.852 139.927 302.111 L139.927 297.412 Q142.01 298.546 144.232 299.102 Q146.455 299.657 148.931 299.657 Q152.936 299.657 155.274 297.551 Q157.612 295.444 157.612 291.833 Q157.612 288.222 155.274 286.116 Q152.936 284.009 148.931 284.009 Q147.056 284.009 145.181 284.426 Q143.33 284.842 141.385 285.722 L141.385 268.361 Z\" fill=\"#000000\" fill-rule=\"evenodd\" fill-opacity=\"1\" /><path clip-path=\"url(#clip680)\" d=\"M171.501 297.041 L176.385 297.041 L176.385 302.921 L171.501 302.921 L171.501 297.041 Z\" fill=\"#000000\" fill-rule=\"evenodd\" fill-opacity=\"1\" /><path clip-path=\"url(#clip680)\" d=\"M196.57 271.44 Q192.959 271.44 191.13 275.004 Q189.325 278.546 189.325 285.676 Q189.325 292.782 191.13 296.347 Q192.959 299.889 196.57 299.889 Q200.204 299.889 202.01 296.347 Q203.839 292.782 203.839 285.676 Q203.839 278.546 202.01 275.004 Q200.204 271.44 196.57 271.44 M196.57 267.736 Q202.38 267.736 205.436 272.342 Q208.514 276.926 208.514 285.676 Q208.514 294.403 205.436 299.009 Q202.38 303.592 196.57 303.592 Q190.76 303.592 187.681 299.009 Q184.626 294.403 184.626 285.676 Q184.626 276.926 187.681 272.342 Q190.76 267.736 196.57 267.736 Z\" fill=\"#000000\" fill-rule=\"evenodd\" fill-opacity=\"1\" /><polyline clip-path=\"url(#clip682)\" style=\"stroke:#009af9; stroke-linecap:butt; stroke-linejoin:round; stroke-width:4; stroke-opacity:1; fill:none\" points=\"\n",
       "  304.182,87.9763 503.072,223.75 701.963,359.524 900.854,495.298 1099.74,631.072 1298.64,766.846 1497.53,902.62 1696.42,1038.39 1895.31,1174.17 2094.2,1309.94 \n",
       "  2293.09,1445.72 \n",
       "  \"/>\n",
       "<circle clip-path=\"url(#clip682)\" cx=\"304.182\" cy=\"87.9763\" r=\"14\" fill=\"#00ffff\" fill-rule=\"evenodd\" fill-opacity=\"1\" stroke=\"#000000\" stroke-opacity=\"1\" stroke-width=\"3.2\"/>\n",
       "<circle clip-path=\"url(#clip682)\" cx=\"503.072\" cy=\"223.75\" r=\"14\" fill=\"#00ffff\" fill-rule=\"evenodd\" fill-opacity=\"1\" stroke=\"#000000\" stroke-opacity=\"1\" stroke-width=\"3.2\"/>\n",
       "<circle clip-path=\"url(#clip682)\" cx=\"701.963\" cy=\"359.524\" r=\"14\" fill=\"#00ffff\" fill-rule=\"evenodd\" fill-opacity=\"1\" stroke=\"#000000\" stroke-opacity=\"1\" stroke-width=\"3.2\"/>\n",
       "<circle clip-path=\"url(#clip682)\" cx=\"900.854\" cy=\"495.298\" r=\"14\" fill=\"#00ffff\" fill-rule=\"evenodd\" fill-opacity=\"1\" stroke=\"#000000\" stroke-opacity=\"1\" stroke-width=\"3.2\"/>\n",
       "<circle clip-path=\"url(#clip682)\" cx=\"1099.74\" cy=\"631.072\" r=\"14\" fill=\"#00ffff\" fill-rule=\"evenodd\" fill-opacity=\"1\" stroke=\"#000000\" stroke-opacity=\"1\" stroke-width=\"3.2\"/>\n",
       "<circle clip-path=\"url(#clip682)\" cx=\"1298.64\" cy=\"766.846\" r=\"14\" fill=\"#00ffff\" fill-rule=\"evenodd\" fill-opacity=\"1\" stroke=\"#000000\" stroke-opacity=\"1\" stroke-width=\"3.2\"/>\n",
       "<circle clip-path=\"url(#clip682)\" cx=\"1497.53\" cy=\"902.62\" r=\"14\" fill=\"#00ffff\" fill-rule=\"evenodd\" fill-opacity=\"1\" stroke=\"#000000\" stroke-opacity=\"1\" stroke-width=\"3.2\"/>\n",
       "<circle clip-path=\"url(#clip682)\" cx=\"1696.42\" cy=\"1038.39\" r=\"14\" fill=\"#00ffff\" fill-rule=\"evenodd\" fill-opacity=\"1\" stroke=\"#000000\" stroke-opacity=\"1\" stroke-width=\"3.2\"/>\n",
       "<circle clip-path=\"url(#clip682)\" cx=\"1895.31\" cy=\"1174.17\" r=\"14\" fill=\"#00ffff\" fill-rule=\"evenodd\" fill-opacity=\"1\" stroke=\"#000000\" stroke-opacity=\"1\" stroke-width=\"3.2\"/>\n",
       "<circle clip-path=\"url(#clip682)\" cx=\"2094.2\" cy=\"1309.94\" r=\"14\" fill=\"#00ffff\" fill-rule=\"evenodd\" fill-opacity=\"1\" stroke=\"#000000\" stroke-opacity=\"1\" stroke-width=\"3.2\"/>\n",
       "<circle clip-path=\"url(#clip682)\" cx=\"2293.09\" cy=\"1445.72\" r=\"14\" fill=\"#00ffff\" fill-rule=\"evenodd\" fill-opacity=\"1\" stroke=\"#000000\" stroke-opacity=\"1\" stroke-width=\"3.2\"/>\n",
       "<path clip-path=\"url(#clip680)\" d=\"\n",
       "M1995.8 250.738 L2282.48 250.738 L2282.48 95.2176 L1995.8 95.2176  Z\n",
       "  \" fill=\"#ffffff\" fill-rule=\"evenodd\" fill-opacity=\"1\"/>\n",
       "<polyline clip-path=\"url(#clip680)\" style=\"stroke:#000000; stroke-linecap:butt; stroke-linejoin:round; stroke-width:4; stroke-opacity:1; fill:none\" points=\"\n",
       "  1995.8,250.738 2282.48,250.738 2282.48,95.2176 1995.8,95.2176 1995.8,250.738 \n",
       "  \"/>\n",
       "<polyline clip-path=\"url(#clip680)\" style=\"stroke:#009af9; stroke-linecap:butt; stroke-linejoin:round; stroke-width:4; stroke-opacity:1; fill:none\" points=\"\n",
       "  2019.23,147.058 2159.78,147.058 \n",
       "  \"/>\n",
       "<path clip-path=\"url(#clip680)\" d=\"M2197.04 166.745 Q2195.24 171.375 2193.53 172.787 Q2191.81 174.199 2188.94 174.199 L2185.54 174.199 L2185.54 170.634 L2188.04 170.634 Q2189.8 170.634 2190.77 169.8 Q2191.74 168.967 2192.92 165.865 L2193.69 163.921 L2183.2 138.412 L2187.71 138.412 L2195.82 158.689 L2203.92 138.412 L2208.43 138.412 L2197.04 166.745 Z\" fill=\"#000000\" fill-rule=\"evenodd\" fill-opacity=\"1\" /><path clip-path=\"url(#clip680)\" d=\"M2215.72 160.402 L2223.36 160.402 L2223.36 134.037 L2215.05 135.703 L2215.05 131.444 L2223.32 129.778 L2227.99 129.778 L2227.99 160.402 L2235.63 160.402 L2235.63 164.338 L2215.72 164.338 L2215.72 160.402 Z\" fill=\"#000000\" fill-rule=\"evenodd\" fill-opacity=\"1\" /><circle clip-path=\"url(#clip680)\" cx=\"2089.5\" cy=\"198.898\" r=\"23\" fill=\"#00ffff\" fill-rule=\"evenodd\" fill-opacity=\"1\" stroke=\"#000000\" stroke-opacity=\"1\" stroke-width=\"5.12\"/>\n",
       "<path clip-path=\"url(#clip680)\" d=\"M2197.04 218.585 Q2195.24 223.215 2193.53 224.627 Q2191.81 226.039 2188.94 226.039 L2185.54 226.039 L2185.54 222.474 L2188.04 222.474 Q2189.8 222.474 2190.77 221.64 Q2191.74 220.807 2192.92 217.705 L2193.69 215.761 L2183.2 190.252 L2187.71 190.252 L2195.82 210.529 L2203.92 190.252 L2208.43 190.252 L2197.04 218.585 Z\" fill=\"#000000\" fill-rule=\"evenodd\" fill-opacity=\"1\" /><path clip-path=\"url(#clip680)\" d=\"M2218.94 212.242 L2235.26 212.242 L2235.26 216.178 L2213.32 216.178 L2213.32 212.242 Q2215.98 209.488 2220.56 204.858 Q2225.17 200.205 2226.35 198.863 Q2228.59 196.34 2229.47 194.604 Q2230.38 192.844 2230.38 191.155 Q2230.38 188.4 2228.43 186.664 Q2226.51 184.928 2223.41 184.928 Q2221.21 184.928 2218.76 185.692 Q2216.33 186.455 2213.55 188.006 L2213.55 183.284 Q2216.37 182.15 2218.83 181.571 Q2221.28 180.993 2223.32 180.993 Q2228.69 180.993 2231.88 183.678 Q2235.08 186.363 2235.08 190.854 Q2235.08 192.983 2234.27 194.905 Q2233.48 196.803 2231.37 199.395 Q2230.79 200.067 2227.69 203.284 Q2224.59 206.479 2218.94 212.242 Z\" fill=\"#000000\" fill-rule=\"evenodd\" fill-opacity=\"1\" /></svg>\n"
      ]
     },
     "execution_count": 195,
     "metadata": {},
     "output_type": "execute_result"
    }
   ],
   "source": [
    "sort!(eps_res,:Emissions)\n",
    "plot(eps_res[!,:Emissions],eps_res[!,:Resource_Use])\n",
    "plot!(eps_res[!,:Emissions],eps_res[!,:Resource_Use], seriestype = :scatter, color=\"cyan\")"
   ]
  },
  {
   "cell_type": "code",
   "execution_count": 169,
   "id": "d6c28607-e0ac-4c31-9e7e-41b4a3149a24",
   "metadata": {},
   "outputs": [
    {
     "data": {
      "text/html": [
       "<div class=\"data-frame\"><p>11 rows × 2 columns</p><table class=\"data-frame\"><thead><tr><th></th><th>Emissions</th><th>Resource_Use</th></tr><tr><th></th><th title=\"Float64\">Float64</th><th title=\"Float64\">Float64</th></tr></thead><tbody><tr><th>1</th><td>671.549</td><td>1356.68</td></tr><tr><th>2</th><td>671.651</td><td>1355.53</td></tr><tr><th>3</th><td>671.753</td><td>1354.37</td></tr><tr><th>4</th><td>671.855</td><td>1353.21</td></tr><tr><th>5</th><td>671.957</td><td>1352.06</td></tr><tr><th>6</th><td>672.06</td><td>1350.9</td></tr><tr><th>7</th><td>672.162</td><td>1349.74</td></tr><tr><th>8</th><td>672.264</td><td>1348.59</td></tr><tr><th>9</th><td>672.366</td><td>1347.43</td></tr><tr><th>10</th><td>672.468</td><td>1346.28</td></tr><tr><th>11</th><td>672.57</td><td>1345.12</td></tr></tbody></table></div>"
      ],
      "text/latex": [
       "\\begin{tabular}{r|cc}\n",
       "\t& Emissions & Resource\\_Use\\\\\n",
       "\t\\hline\n",
       "\t& Float64 & Float64\\\\\n",
       "\t\\hline\n",
       "\t1 & 671.549 & 1356.68 \\\\\n",
       "\t2 & 671.651 & 1355.53 \\\\\n",
       "\t3 & 671.753 & 1354.37 \\\\\n",
       "\t4 & 671.855 & 1353.21 \\\\\n",
       "\t5 & 671.957 & 1352.06 \\\\\n",
       "\t6 & 672.06 & 1350.9 \\\\\n",
       "\t7 & 672.162 & 1349.74 \\\\\n",
       "\t8 & 672.264 & 1348.59 \\\\\n",
       "\t9 & 672.366 & 1347.43 \\\\\n",
       "\t10 & 672.468 & 1346.28 \\\\\n",
       "\t11 & 672.57 & 1345.12 \\\\\n",
       "\\end{tabular}\n"
      ],
      "text/plain": [
       "\u001b[1m11×2 DataFrame\u001b[0m\n",
       "\u001b[1m Row \u001b[0m│\u001b[1m Emissions \u001b[0m\u001b[1m Resource_Use \u001b[0m\n",
       "\u001b[1m     \u001b[0m│\u001b[90m Float64   \u001b[0m\u001b[90m Float64      \u001b[0m\n",
       "─────┼─────────────────────────\n",
       "   1 │   671.549       1356.68\n",
       "   2 │   671.651       1355.53\n",
       "   3 │   671.753       1354.37\n",
       "   4 │   671.855       1353.21\n",
       "   5 │   671.957       1352.06\n",
       "   6 │   672.06        1350.9\n",
       "   7 │   672.162       1349.74\n",
       "   8 │   672.264       1348.59\n",
       "   9 │   672.366       1347.43\n",
       "  10 │   672.468       1346.28\n",
       "  11 │   672.57        1345.12"
      ]
     },
     "execution_count": 169,
     "metadata": {},
     "output_type": "execute_result"
    }
   ],
   "source": [
    "eps_res"
   ]
  },
  {
   "cell_type": "markdown",
   "id": "cf598f6d-5bd5-4527-bfbc-c0c9911bf560",
   "metadata": {},
   "source": [
    "## Sensitivity optimization"
   ]
  },
  {
   "cell_type": "code",
   "execution_count": 170,
   "id": "7edc6820-6bd8-41b7-8d23-18907869db38",
   "metadata": {},
   "outputs": [
    {
     "data": {
      "text/plain": [
       "sens_opt_decarb_em (generic function with 1 method)"
      ]
     },
     "execution_count": 170,
     "metadata": {},
     "output_type": "execute_result"
    }
   ],
   "source": [
    "function sens_opt_decarb_em()\n",
    "    dcrb =  Model(BARON.Optimizer)\n",
    "    @variable(dcrb,s[j=1:size(A_mat,2)] ≥ 0)\n",
    "    @variable(dcrb,f[i=1:size(A_mat,1)] ≥ 0 )\n",
    "    @variable(dcrb,g[k=1:size(B_mat,1)])\n",
    "    \n",
    "    \n",
    "    @variable(dcrb,y1[i=1:size(A_mat,1),j=1:size(A_mat,2)],Bin)\n",
    "    @variable(dcrb,y2[i=1:size(A_mat,1),j=1:size(A_mat,2)],Bin)\n",
    "    @variable(dcrb,y[i=1:size(A_mat,1),j=1:size(A_mat,2)],Bin)\n",
    "    @constraint(dcrb,[i=1:size(A_mat,1),j=1:size(A_mat,2)],y[i,j] == y1[i,j]+y2[i,j])\n",
    "    @constraint(dcrb,sum(y[i,j] for i in 1:size(A_mat,1), j=1:size(A_mat,2)) ≤ 10) \n",
    "    \n",
    "    @constraint(dcrb,[i=1:size(A_mat,1)],f[i] ≥ f_val[i])\n",
    "    @constraint(dcrb,[i=1:size(A_mat,1)], f[i]==sum(A_mat[i,j]*(1+0.1*y1[i,j]-0.1*y2[i,j])*s[j] for j in 1:size(A_mat,2)))\n",
    "    @constraint(dcrb,[k=1:size(B_mat,1)],g[k]==sum(B_mat[k,j]*s[j] for j in 1:size(B_mat,2)))\n",
    "    @variable(dcrb,obj)\n",
    "    @constraint(dcrb,obj==sum(g[k] for k in 3:4)+g[9])\n",
    "    @objective(dcrb,Min,obj)\n",
    "    optimize!(dcrb)\n",
    "    return JuMP.value.(s),JuMP.value.(f),JuMP.value.(obj),JuMP.value.(g),JuMP.value.(y1),JuMP.value.(y2)\n",
    "end\n",
    "    "
   ]
  },
  {
   "cell_type": "code",
   "execution_count": 171,
   "id": "8b8d40de-e667-4d0d-aaca-dc9a9bb6faaa",
   "metadata": {},
   "outputs": [
    {
     "data": {
      "text/plain": [
       "sens_opt_decarb_ru (generic function with 1 method)"
      ]
     },
     "execution_count": 171,
     "metadata": {},
     "output_type": "execute_result"
    }
   ],
   "source": [
    "function sens_opt_decarb_ru()\n",
    "    dcrb =  Model(BARON.Optimizer)\n",
    "    @variable(dcrb,s[j=1:size(A_mat,2)] ≥ 0)\n",
    "    @variable(dcrb,f[i=1:size(A_mat,1)] ≥ 0 )\n",
    "    @variable(dcrb,g[k=1:size(B_mat,1)])\n",
    "    \n",
    "    \n",
    "    @variable(dcrb,y1[i=1:size(A_mat,1),j=1:size(A_mat,2)],Bin)\n",
    "    @variable(dcrb,y2[i=1:size(A_mat,1),j=1:size(A_mat,2)],Bin)\n",
    "    @variable(dcrb,y[i=1:size(A_mat,1),j=1:size(A_mat,2)],Bin)\n",
    "    @constraint(dcrb,[i=1:size(A_mat,1),j=1:size(A_mat,2)],y[i,j] == y1[i,j]+y2[i,j])\n",
    "    @constraint(dcrb,sum(y[i,j] for i in 1:size(A_mat,1), j=1:size(A_mat,2)) ≤ 10) \n",
    "    \n",
    "    @constraint(dcrb,[i=1:size(A_mat,1)],f[i] ≥ f_val[i])\n",
    "    @constraint(dcrb,[i=1:size(A_mat,1)], f[i]==sum(A_mat[i,j]*(1+0.1*y1[i,j]-0.1*y2[i,j])*s[j] for j in 1:size(A_mat,2)))\n",
    "    @constraint(dcrb,[k=1:size(B_mat,1)],g[k]==sum(B_mat[k,j]*s[j] for j in 1:size(B_mat,2)))\n",
    "    @variable(dcrb,obj)\n",
    "    @constraint(dcrb,obj==-1*(sum(g[k] for k in 1:2)+sum(g[5:8])))\n",
    "    @objective(dcrb,Min,obj)\n",
    "    optimize!(dcrb)\n",
    "    return JuMP.value.(s),JuMP.value.(f),JuMP.value.(obj),JuMP.value.(g),JuMP.value.(y1),JuMP.value.(y2)\n",
    "end\n",
    "    "
   ]
  },
  {
   "cell_type": "code",
   "execution_count": 172,
   "id": "9faec047-a9c1-4ff3-937e-9330f97358de",
   "metadata": {},
   "outputs": [
    {
     "data": {
      "text/plain": [
       "sens_opt_decarb_eps (generic function with 2 methods)"
      ]
     },
     "execution_count": 172,
     "metadata": {},
     "output_type": "execute_result"
    }
   ],
   "source": [
    "function sens_opt_decarb_eps(lb,ub,ep)\n",
    "    dcrb =  Model(BARON.Optimizer)\n",
    "    set_optimizer_attribute(dcrb,\"PrLevel\",0)\n",
    "    @variable(dcrb,s[j=1:size(A_mat,2)] ≥ 0)\n",
    "    @variable(dcrb,f[i=1:size(A_mat,1)] ≥ 0 )\n",
    "    @variable(dcrb,g[k=1:size(B_mat,1)])\n",
    "    \n",
    "    \n",
    "    @variable(dcrb,y1[i=1:size(A_mat,1),j=1:size(A_mat,2)],Bin)\n",
    "    @variable(dcrb,y2[i=1:size(A_mat,1),j=1:size(A_mat,2)],Bin)\n",
    "    @variable(dcrb,y[i=1:size(A_mat,1),j=1:size(A_mat,2)],Bin)\n",
    "    @constraint(dcrb,[i=1:size(A_mat,1),j=1:size(A_mat,2)],y[i,j] == y1[i,j]+y2[i,j])\n",
    "    @constraint(dcrb,sum(y[i,j] for i in 1:size(A_mat,1), j=1:size(A_mat,2)) ≤ 10) \n",
    "    \n",
    "    @constraint(dcrb,[i=1:size(A_mat,1)],f[i] ≥ f_val[i])\n",
    "    @constraint(dcrb,[i=1:size(A_mat,1)], f[i]==sum(A_mat[i,j]*(1+0.1*y1[i,j]-0.1*y2[i,j])*s[j] for j in 1:size(A_mat,2)))\n",
    "    @constraint(dcrb,[k=1:size(B_mat,1)],g[k]==sum(B_mat[k,j]*s[j] for j in 1:size(B_mat,2)))\n",
    "    @variable(dcrb,obj)\n",
    "    @constraint(dcrb,-1*(sum(g[k] for k in 1:2)+sum(g[5:8])) ≤ lb+(ub-lb)*ep)\n",
    "    @constraint(dcrb,obj==sum(g[k] for k in 3:4)+g[9])\n",
    "    @objective(dcrb,Min,obj)\n",
    "    optimize!(dcrb)\n",
    "    return JuMP.value.(s),JuMP.value.(f),JuMP.value.(obj),JuMP.value.(g),JuMP.value.(y1),JuMP.value.(y2)\n",
    "end\n",
    "    "
   ]
  },
  {
   "cell_type": "code",
   "execution_count": 175,
   "id": "9170a86c-a3f6-433c-a41f-101fcefe076b",
   "metadata": {},
   "outputs": [
    {
     "name": "stdout",
     "output_type": "stream",
     "text": [
      "===========================================================================\n",
      " BARON version 21.1.13. Built: LNX-64 Wed Jan 13 16:09:31 EST 2021\n",
      "\n",
      " BARON is a product of The Optimization Firm.\n",
      " For information on BARON, see https://minlp.com/about-baron\n",
      " Licensee: Bhavik R. Bakshi at The Ohio State University, bakshi.2@osu.edu.\n",
      "\n",
      " If you use this software, please cite publications from\n",
      " https://minlp.com/baron-publications, such as: \n",
      "\n",
      " Kilinc, M. and N. V. Sahinidis, Exploiting integrality in the global\n",
      " optimization of mixed-integer nonlinear programming problems in BARON,\n",
      " Optimization Methods and Software, 33, 540-562, 2018.\n",
      "===========================================================================\n",
      " This BARON run may utilize the following subsolver(s)\n",
      " For LP/MIP/QP: CLP/CBC                                         \n",
      " For NLP: IPOPT, FILTERSD, FILTERSQP\n",
      "===========================================================================\n",
      " Doing local search\n",
      " Preprocessing found feasible solution with value  597.359644723     \n",
      " Solving bounding LP\n",
      " Starting multi-start local search\n",
      " Done with local search\n",
      "===========================================================================\n",
      "  Iteration    Open nodes         Time (s)    Lower bound      Upper bound\n",
      "*         1             1             1.89     254.786          595.525    \n",
      "          1             0             1.90     595.524          595.525    \n",
      "\n",
      "                         *** Normal completion ***            \n",
      "\n",
      " Wall clock time:                     1.90\n",
      " Total CPU time used:                 1.90\n",
      "\n",
      " Total no. of BaR iterations:       1\n",
      " Best solution found at node:       1\n",
      " Max. no. of nodes in memory:       1\n",
      " \n",
      " All done\n",
      "===========================================================================\n",
      " Unable to find/load CPLEX library libcplex.so: cannot open shared object file: No such file or directory\n",
      " Unable to find/load CPLEX library libcplex2010.so: cannot open shared object file: No such file or directory\n"
     ]
    },
    {
     "data": {
      "text/plain": [
       "([0.7526016289435181, 0.8879841577540107, 0.9113257882135315, 1.6061159879167946, 0.3465715670482331, 3.057922229234247, 0.0, 3.057922229234247, 0.9090909090909091, 1.0  …  1.0, 0.8597492981087163, 0.9274340909092365, 0.9090909090909091, 1.0, 1.0, 1.0, 0.9999999999999999, 1.0, 1.00192869860631], [25.891018048, 40.254667052, 0.754126315000008, 42.891233347, 10.572503059, 12.947543133, 0.0, 18.77653206459606, 0.0, 43.6  …  14.67692308, 6.520258063, 9.33513253, 41.93128333, 6.951724138, 19.835001744205595, 7.2, 8.346, 1.923287671, 209.52317024608138], 595.5249420877806, [-64.51914813519942, -127.86426974387184, 71.11094156793646, 37.188095242025625, -567.3110358997135, 0.0, -349.42811087544044, -137.7977943922808, 487.2259052778185], [0.0 1.0 … 0.0 0.0; 0.0 0.0 … 0.0 0.0; … ; 0.0 0.0 … 0.0 0.0; 0.0 0.0 … 0.0 0.0], [0.0 0.0 … 0.0 0.0; 0.0 0.0 … 0.0 0.0; … ; 0.0 0.0 … 0.0 0.0; 0.0 0.0 … 0.0 0.0])"
      ]
     },
     "execution_count": 175,
     "metadata": {},
     "output_type": "execute_result"
    }
   ],
   "source": [
    "s,f,obj_em,g_em,y1,y2=sens_opt_decarb_em()"
   ]
  },
  {
   "cell_type": "code",
   "execution_count": 176,
   "id": "a2412201-bcae-44b7-a4fb-d17ac27816ce",
   "metadata": {},
   "outputs": [
    {
     "name": "stdout",
     "output_type": "stream",
     "text": [
      " Positive perturbations \n",
      "\n",
      "Methanol Manufacture ---- Methanol \n",
      "Steam Cracker ---- Ethylene \n",
      "Steam Cracker ---- Butadiene \n",
      "Urea Synthesis ---- Urea \n",
      "EG Production ---- Ethylene glycol \n",
      "PET Production ---- Polyethylene Terephthalate (PET)\n",
      "\n",
      " Negative perturbations \n",
      "\n",
      "Methanol Manufacture ---- Syngas\n",
      "Urea Synthesis ---- Syngas\n",
      "Formaldehyde production ---- Methanol \n"
     ]
    }
   ],
   "source": [
    "print(\" Positive perturbations \\n\\n\")\n",
    "\n",
    "for i in 1:size(findall(x->x==1, y1),1)\n",
    "    print(nodes_val[findall(x->x==1, y1)[i][2]]*\" ---- \"*product_val[findall(x->x==1, y1)[i][1]]*\"\\n\")\n",
    "end   \n",
    "print(\"\\n Negative perturbations \\n\\n\")\n",
    "for i in 1:size(findall(x->x==1, y2),1)\n",
    "    print(nodes_val[findall(x->x==1, y2)[i][2]]*\" ---- \"*product_val[findall(x->x==1, y2)[i][1]]*\"\\n\")\n",
    "end   "
   ]
  },
  {
   "cell_type": "code",
   "execution_count": 190,
   "id": "30565294-91ea-4180-9e49-c41388cdafcc",
   "metadata": {},
   "outputs": [
    {
     "name": "stdout",
     "output_type": "stream",
     "text": [
      "\n"
     ]
    }
   ],
   "source": [
    "\n",
    "per_em=\"\"\n",
    "for i in 1:size(findall(x->x==1, y1),1)\n",
    "    pos_em=nodes_val[findall(x->x==1, y1)[i][2]]*\" ---- \"*product_val[findall(x->x==1, y1)[i][1]]*\"\\n\"\n",
    "    per_em=per_em*pos_em\n",
    "end   \n",
    "per_em=per_em*\"\\n\\n\"\n",
    "for i in 1:size(findall(x->x==1, y2),1)\n",
    "    neg_em=nodes_val[findall(x->x==1, y2)[i][2]]*\" ---- \"*product_val[findall(x->x==1, y2)[i][1]]*\"\\n\"\n",
    "    per_em=per_em*neg_em\n",
    "end  \n",
    "per_em=replace(per_em,\"\\n\"=>\" | \")\n",
    "print(\"\\n\")"
   ]
  },
  {
   "cell_type": "code",
   "execution_count": 191,
   "id": "194a83e7-d88f-4db3-bd91-be6eca5941bf",
   "metadata": {},
   "outputs": [
    {
     "name": "stdout",
     "output_type": "stream",
     "text": [
      "===========================================================================\n",
      " BARON version 21.1.13. Built: LNX-64 Wed Jan 13 16:09:31 EST 2021\n",
      "\n",
      " BARON is a product of The Optimization Firm.\n",
      " For information on BARON, see https://minlp.com/about-baron\n",
      " Licensee: Bhavik R. Bakshi at The Ohio State University, bakshi.2@osu.edu.\n",
      "\n",
      " If you use this software, please cite publications from\n",
      " https://minlp.com/baron-publications, such as: \n",
      "\n",
      " Kilinc, M. and N. V. Sahinidis, Exploiting integrality in the global\n",
      " optimization of mixed-integer nonlinear programming problems in BARON,\n",
      " Optimization Methods and Software, 33, 540-562, 2018.\n",
      "===========================================================================\n",
      " This BARON run may utilize the following subsolver(s)\n",
      " For LP/MIP/QP: CLP/CBC                                         \n",
      " For NLP: IPOPT, FILTERSD, FILTERSQP\n",
      "===========================================================================\n",
      " Doing local search\n",
      " Preprocessing found feasible solution with value  1268.11783715     \n",
      " Solving bounding LP\n",
      " Starting multi-start local search\n",
      " Done with local search\n",
      "===========================================================================\n",
      "  Iteration    Open nodes         Time (s)    Lower bound      Upper bound\n",
      "*         1             1             2.08     669.812          1228.04    \n",
      "*         1             1             2.24     1202.19          1209.05    \n",
      "*         1             1             3.42     1202.19          1208.87    \n",
      "          1             1             4.04     1202.19          1208.87    \n",
      "         21             0             5.91     1208.87          1208.87    \n",
      "\n",
      " Calculating duals\n",
      "\n",
      "                         *** Normal completion ***            \n",
      "\n",
      " Wall clock time:                     5.92\n",
      " Total CPU time used:                 5.91\n",
      "\n",
      " Total no. of BaR iterations:      21\n",
      " Best solution found at node:       1\n",
      " Max. no. of nodes in memory:       3\n",
      " \n",
      " All done\n",
      "===========================================================================\n",
      " Unable to find/load CPLEX library libcplex.so: cannot open shared object file: No such file or directory\n",
      " Unable to find/load CPLEX library libcplex2010.so: cannot open shared object file: No such file or directory\n"
     ]
    },
    {
     "data": {
      "text/plain": [
       "([0.766257817873317, 0.9090909090909092, 0.9131669527684222, 1.9466870238611387, 0.05583963216006455, 1.4743699629825955, 1.4743699629825957, 1.4743699629825955, 0.9090909090909092, 1.0  …  1.0, 0.9999999999999999, 1.0000000000000002, 1.0, 1.0, 1.0, 1.0, 0.9999999999999998, 1.0, 0.9120689029035804], [25.891018048, 40.254667052, 0.7541263150000079, 42.891233347, 10.572503058999999, 12.947543133, 0.0, 0.0, 0.0, 43.6  …  14.67692308, 6.520258062999999, 9.33513253, 41.93128333, 6.951724138, 19.875074682588277, 7.2, 8.346, 1.923287671, 209.8048744521929], 1208.874985862631, [-65.81701565009274, -124.3481344367868, 73.40324359624506, 38.22242981270875, -528.1305915398124, 0.0, -351.289730706093, -139.2895135298463, 490.57924424621217], [0.0 1.0 … 0.0 0.0; 0.0 0.0 … 0.0 0.0; … ; 0.0 0.0 … 0.0 0.0; 0.0 0.0 … 0.0 1.0], [0.0 0.0 … 0.0 0.0; 0.0 0.0 … 0.0 0.0; … ; 0.0 0.0 … 0.0 0.0; 0.0 0.0 … 0.0 0.0])"
      ]
     },
     "execution_count": 191,
     "metadata": {},
     "output_type": "execute_result"
    }
   ],
   "source": [
    "s,f,obj_ru,g_ru,y1,y2=sens_opt_decarb_ru()"
   ]
  },
  {
   "cell_type": "code",
   "execution_count": 189,
   "id": "0a1609c1-9160-46cc-b3ee-1e8f3d0ac2f0",
   "metadata": {},
   "outputs": [
    {
     "name": "stdout",
     "output_type": "stream",
     "text": [
      " Positive perturbations \n",
      "\n",
      "Syngas Production ---- Syngas\n",
      "Methanol Manufacture ---- Methanol \n",
      "Steam Cracker ---- Ethylene \n",
      "Steam Cracker ---- Butadiene \n",
      "Urea Synthesis ---- Urea \n",
      "Catalytic Reformer ---- Toluene \n",
      "Catalytic Reformer ---- Xylene \n",
      "Catalytic Reformer ---- Gasoline Additives\n",
      "\n",
      "\n",
      " Negative perturbations \n",
      "\n",
      "Urea Synthesis ---- Syngas\n",
      "PTA Production ---- Xylene \n",
      "\n"
     ]
    }
   ],
   "source": [
    "print(\" Positive perturbations \\n\\n\")\n",
    "per_ru=\"\"\n",
    "for i in 1:size(findall(x->x==1, y1),1)\n",
    "    pos_ru=nodes_val[findall(x->x==1, y1)[i][2]]*\" ---- \"*product_val[findall(x->x==1, y1)[i][1]]*\"\\n\"\n",
    "    print(pos_ru)\n",
    "    per_ru=per_ru*pos_ru\n",
    "end   \n",
    "print(\"\\n\\n Negative perturbations \\n\\n\")\n",
    "per_ru=per_ru*\"\\n\\n\"\n",
    "for i in 1:size(findall(x->x==1, y2),1)\n",
    "    neg_ru=nodes_val[findall(x->x==1, y2)[i][2]]*\" ---- \"*product_val[findall(x->x==1, y2)[i][1]]*\"\\n\"\n",
    "    print(neg_ru)\n",
    "    per_ru=per_ru*neg_ru\n",
    "end  \n",
    "per_ru=replace(per_ru,\"\\n\"=>\" | \")\n",
    "print(\"\\n\")"
   ]
  },
  {
   "cell_type": "code",
   "execution_count": 192,
   "id": "402b05a2-c218-49d2-b3d0-c5c7e41b3097",
   "metadata": {},
   "outputs": [
    {
     "data": {
      "text/plain": [
       "get_per_str (generic function with 1 method)"
      ]
     },
     "execution_count": 192,
     "metadata": {},
     "output_type": "execute_result"
    }
   ],
   "source": [
    "function get_per_str(y1,y2)\n",
    "    per_em=\"\"\n",
    "    for i in 1:size(findall(x->x==1, y1),1)\n",
    "        pos_em=nodes_val[findall(x->x==1, y1)[i][2]]*\" ---- \"*product_val[findall(x->x==1, y1)[i][1]]*\"\\n\"\n",
    "        per_em=per_em*pos_em\n",
    "    end   \n",
    "    per_em=per_em*\"\\n\\n\"\n",
    "    for i in 1:size(findall(x->x==1, y2),1)\n",
    "        neg_em=nodes_val[findall(x->x==1, y2)[i][2]]*\" ---- \"*product_val[findall(x->x==1, y2)[i][1]]*\"\\n\"\n",
    "        per_em=per_em*neg_em\n",
    "    end  \n",
    "    per_em=replace(per_em,\"\\n\"=>\" | \")\n",
    "    print(\"\\n\")\n",
    "    return per_em\n",
    "end\n"
   ]
  },
  {
   "cell_type": "code",
   "execution_count": 193,
   "id": "6c232bb9-54d3-4781-bd48-cfc5d625a6ec",
   "metadata": {},
   "outputs": [
    {
     "name": "stdout",
     "output_type": "stream",
     "text": [
      " Unable to find/load CPLEX library libcplex.so: cannot open shared object file: No such file or directory\n",
      " Unable to find/load CPLEX library libcplex2010.so: cannot open shared object file: No such file or directory\n",
      "\n",
      " Unable to find/load CPLEX library libcplex.so: cannot open shared object file: No such file or directory\n",
      " Unable to find/load CPLEX library libcplex2010.so: cannot open shared object file: No such file or directory\n",
      "\n",
      " Unable to find/load CPLEX library libcplex.so: cannot open shared object file: No such file or directory\n",
      " Unable to find/load CPLEX library libcplex2010.so: cannot open shared object file: No such file or directory\n",
      "\n",
      " Unable to find/load CPLEX library libcplex.so: cannot open shared object file: No such file or directory\n",
      " Unable to find/load CPLEX library libcplex2010.so: cannot open shared object file: No such file or directory\n",
      "\n",
      " Unable to find/load CPLEX library libcplex.so: cannot open shared object file: No such file or directory\n",
      " Unable to find/load CPLEX library libcplex2010.so: cannot open shared object file: No such file or directory\n",
      "\n",
      " Unable to find/load CPLEX library libcplex.so: cannot open shared object file: No such file or directory\n",
      " Unable to find/load CPLEX library libcplex2010.so: cannot open shared object file: No such file or directory\n",
      "\n",
      " Unable to find/load CPLEX library libcplex.so: cannot open shared object file: No such file or directory\n",
      " Unable to find/load CPLEX library libcplex2010.so: cannot open shared object file: No such file or directory\n",
      "\n",
      " Unable to find/load CPLEX library libcplex.so: cannot open shared object file: No such file or directory\n",
      " Unable to find/load CPLEX library libcplex2010.so: cannot open shared object file: No such file or directory\n",
      "\n",
      " Unable to find/load CPLEX library libcplex.so: cannot open shared object file: No such file or directory\n",
      " Unable to find/load CPLEX library libcplex2010.so: cannot open shared object file: No such file or directory\n",
      "\n"
     ]
    },
    {
     "data": {
      "text/html": [
       "<div class=\"data-frame\"><p>11 rows × 2 columns</p><table class=\"data-frame\"><thead><tr><th></th><th>Emissions</th><th>Resource_Use</th></tr><tr><th></th><th title=\"Float64\">Float64</th><th title=\"Float64\">Float64</th></tr></thead><tbody><tr><th>1</th><td>671.549</td><td>1356.68</td></tr><tr><th>2</th><td>671.651</td><td>1355.53</td></tr><tr><th>3</th><td>671.753</td><td>1354.37</td></tr><tr><th>4</th><td>671.855</td><td>1353.21</td></tr><tr><th>5</th><td>671.957</td><td>1352.06</td></tr><tr><th>6</th><td>672.06</td><td>1350.9</td></tr><tr><th>7</th><td>672.162</td><td>1349.74</td></tr><tr><th>8</th><td>672.264</td><td>1348.59</td></tr><tr><th>9</th><td>672.366</td><td>1347.43</td></tr><tr><th>10</th><td>672.468</td><td>1346.28</td></tr><tr><th>11</th><td>672.57</td><td>1345.12</td></tr></tbody></table></div>"
      ],
      "text/latex": [
       "\\begin{tabular}{r|cc}\n",
       "\t& Emissions & Resource\\_Use\\\\\n",
       "\t\\hline\n",
       "\t& Float64 & Float64\\\\\n",
       "\t\\hline\n",
       "\t1 & 671.549 & 1356.68 \\\\\n",
       "\t2 & 671.651 & 1355.53 \\\\\n",
       "\t3 & 671.753 & 1354.37 \\\\\n",
       "\t4 & 671.855 & 1353.21 \\\\\n",
       "\t5 & 671.957 & 1352.06 \\\\\n",
       "\t6 & 672.06 & 1350.9 \\\\\n",
       "\t7 & 672.162 & 1349.74 \\\\\n",
       "\t8 & 672.264 & 1348.59 \\\\\n",
       "\t9 & 672.366 & 1347.43 \\\\\n",
       "\t10 & 672.468 & 1346.28 \\\\\n",
       "\t11 & 672.57 & 1345.12 \\\\\n",
       "\\end{tabular}\n"
      ],
      "text/plain": [
       "\u001b[1m11×2 DataFrame\u001b[0m\n",
       "\u001b[1m Row \u001b[0m│\u001b[1m Emissions \u001b[0m\u001b[1m Resource_Use \u001b[0m\n",
       "\u001b[1m     \u001b[0m│\u001b[90m Float64   \u001b[0m\u001b[90m Float64      \u001b[0m\n",
       "─────┼─────────────────────────\n",
       "   1 │   671.549       1356.68\n",
       "   2 │   671.651       1355.53\n",
       "   3 │   671.753       1354.37\n",
       "   4 │   671.855       1353.21\n",
       "   5 │   671.957       1352.06\n",
       "   6 │   672.06        1350.9\n",
       "   7 │   672.162       1349.74\n",
       "   8 │   672.264       1348.59\n",
       "   9 │   672.366       1347.43\n",
       "  10 │   672.468       1346.28\n",
       "  11 │   672.57        1345.12"
      ]
     },
     "execution_count": 193,
     "metadata": {},
     "output_type": "execute_result"
    }
   ],
   "source": [
    "ub_em=(sum(g_ru[3:4])+sum(g_ru[9:9]))\n",
    "ub=-1*(sum(g_em[1:2])+sum(g_em[5:8]))\n",
    "lb=obj_ru\n",
    "\n",
    "e_vec=[0.1 0.2 0.3 0.4 0.5 0.6 0.7 0.8 0.9]\n",
    "eps_res_sens=DataFrame(Emissions=[obj_em,ub_em], Resource_Use=[ub,lb], Perturbations=[per_em,per_ru])\n",
    "for i in 1:size(e_vec,2)\n",
    "    s,f,obj_eps,g_eps,y1,y2=sens_opt_decarb_eps(lb,ub,e_vec[i])\n",
    "    temp_ru=-1*(sum(g_eps[1:2])+sum(g_eps[5:8]))\n",
    "    #eps_res=eps_res.append({'Emissions':obj_eps,'Resource_Use':temp_ru})\n",
    "    push!(eps_res_sens,[obj_eps, temp_ru,get_per_str(y1,y2)])\n",
    "end"
   ]
  },
  {
   "cell_type": "code",
   "execution_count": 196,
   "id": "84255ae1-0600-45de-a53d-b9b2c8a94e5f",
   "metadata": {},
   "outputs": [
    {
     "data": {
      "image/svg+xml": [
       "<?xml version=\"1.0\" encoding=\"utf-8\"?>\n",
       "<svg xmlns=\"http://www.w3.org/2000/svg\" xmlns:xlink=\"http://www.w3.org/1999/xlink\" width=\"600\" height=\"400\" viewBox=\"0 0 2400 1600\">\n",
       "<defs>\n",
       "  <clipPath id=\"clip720\">\n",
       "    <rect x=\"0\" y=\"0\" width=\"2400\" height=\"1600\"/>\n",
       "  </clipPath>\n",
       "</defs>\n",
       "<path clip-path=\"url(#clip720)\" d=\"\n",
       "M0 1600 L2400 1600 L2400 0 L0 0  Z\n",
       "  \" fill=\"#ffffff\" fill-rule=\"evenodd\" fill-opacity=\"1\"/>\n",
       "<defs>\n",
       "  <clipPath id=\"clip721\">\n",
       "    <rect x=\"480\" y=\"0\" width=\"1681\" height=\"1600\"/>\n",
       "  </clipPath>\n",
       "</defs>\n",
       "<path clip-path=\"url(#clip720)\" d=\"\n",
       "M199.283 1486.45 L2352.76 1486.45 L2352.76 47.2441 L199.283 47.2441  Z\n",
       "  \" fill=\"#ffffff\" fill-rule=\"evenodd\" fill-opacity=\"1\"/>\n",
       "<defs>\n",
       "  <clipPath id=\"clip722\">\n",
       "    <rect x=\"199\" y=\"47\" width=\"2154\" height=\"1440\"/>\n",
       "  </clipPath>\n",
       "</defs>\n",
       "<polyline clip-path=\"url(#clip722)\" style=\"stroke:#000000; stroke-linecap:butt; stroke-linejoin:round; stroke-width:2; stroke-opacity:0.1; fill:none\" points=\"\n",
       "  404.71,1486.45 404.71,47.2441 \n",
       "  \"/>\n",
       "<polyline clip-path=\"url(#clip722)\" style=\"stroke:#000000; stroke-linecap:butt; stroke-linejoin:round; stroke-width:2; stroke-opacity:0.1; fill:none\" points=\"\n",
       "  708.839,1486.45 708.839,47.2441 \n",
       "  \"/>\n",
       "<polyline clip-path=\"url(#clip722)\" style=\"stroke:#000000; stroke-linecap:butt; stroke-linejoin:round; stroke-width:2; stroke-opacity:0.1; fill:none\" points=\"\n",
       "  1012.97,1486.45 1012.97,47.2441 \n",
       "  \"/>\n",
       "<polyline clip-path=\"url(#clip722)\" style=\"stroke:#000000; stroke-linecap:butt; stroke-linejoin:round; stroke-width:2; stroke-opacity:0.1; fill:none\" points=\"\n",
       "  1317.1,1486.45 1317.1,47.2441 \n",
       "  \"/>\n",
       "<polyline clip-path=\"url(#clip722)\" style=\"stroke:#000000; stroke-linecap:butt; stroke-linejoin:round; stroke-width:2; stroke-opacity:0.1; fill:none\" points=\"\n",
       "  1621.23,1486.45 1621.23,47.2441 \n",
       "  \"/>\n",
       "<polyline clip-path=\"url(#clip722)\" style=\"stroke:#000000; stroke-linecap:butt; stroke-linejoin:round; stroke-width:2; stroke-opacity:0.1; fill:none\" points=\"\n",
       "  1925.36,1486.45 1925.36,47.2441 \n",
       "  \"/>\n",
       "<polyline clip-path=\"url(#clip722)\" style=\"stroke:#000000; stroke-linecap:butt; stroke-linejoin:round; stroke-width:2; stroke-opacity:0.1; fill:none\" points=\"\n",
       "  2229.49,1486.45 2229.49,47.2441 \n",
       "  \"/>\n",
       "<polyline clip-path=\"url(#clip720)\" style=\"stroke:#000000; stroke-linecap:butt; stroke-linejoin:round; stroke-width:4; stroke-opacity:1; fill:none\" points=\"\n",
       "  199.283,1486.45 2352.76,1486.45 \n",
       "  \"/>\n",
       "<polyline clip-path=\"url(#clip720)\" style=\"stroke:#000000; stroke-linecap:butt; stroke-linejoin:round; stroke-width:4; stroke-opacity:1; fill:none\" points=\"\n",
       "  404.71,1486.45 404.71,1467.55 \n",
       "  \"/>\n",
       "<polyline clip-path=\"url(#clip720)\" style=\"stroke:#000000; stroke-linecap:butt; stroke-linejoin:round; stroke-width:4; stroke-opacity:1; fill:none\" points=\"\n",
       "  708.839,1486.45 708.839,1467.55 \n",
       "  \"/>\n",
       "<polyline clip-path=\"url(#clip720)\" style=\"stroke:#000000; stroke-linecap:butt; stroke-linejoin:round; stroke-width:4; stroke-opacity:1; fill:none\" points=\"\n",
       "  1012.97,1486.45 1012.97,1467.55 \n",
       "  \"/>\n",
       "<polyline clip-path=\"url(#clip720)\" style=\"stroke:#000000; stroke-linecap:butt; stroke-linejoin:round; stroke-width:4; stroke-opacity:1; fill:none\" points=\"\n",
       "  1317.1,1486.45 1317.1,1467.55 \n",
       "  \"/>\n",
       "<polyline clip-path=\"url(#clip720)\" style=\"stroke:#000000; stroke-linecap:butt; stroke-linejoin:round; stroke-width:4; stroke-opacity:1; fill:none\" points=\"\n",
       "  1621.23,1486.45 1621.23,1467.55 \n",
       "  \"/>\n",
       "<polyline clip-path=\"url(#clip720)\" style=\"stroke:#000000; stroke-linecap:butt; stroke-linejoin:round; stroke-width:4; stroke-opacity:1; fill:none\" points=\"\n",
       "  1925.36,1486.45 1925.36,1467.55 \n",
       "  \"/>\n",
       "<polyline clip-path=\"url(#clip720)\" style=\"stroke:#000000; stroke-linecap:butt; stroke-linejoin:round; stroke-width:4; stroke-opacity:1; fill:none\" points=\"\n",
       "  2229.49,1486.45 2229.49,1467.55 \n",
       "  \"/>\n",
       "<path clip-path=\"url(#clip720)\" d=\"M364.247 1514.29 L382.603 1514.29 L382.603 1518.22 L368.529 1518.22 L368.529 1526.7 Q369.548 1526.35 370.566 1526.19 Q371.585 1526 372.603 1526 Q378.39 1526 381.77 1529.17 Q385.15 1532.34 385.15 1537.76 Q385.15 1543.34 381.677 1546.44 Q378.205 1549.52 371.886 1549.52 Q369.71 1549.52 367.441 1549.15 Q365.196 1548.78 362.789 1548.04 L362.789 1543.34 Q364.872 1544.47 367.094 1545.03 Q369.316 1545.58 371.793 1545.58 Q375.798 1545.58 378.136 1543.48 Q380.474 1541.37 380.474 1537.76 Q380.474 1534.15 378.136 1532.04 Q375.798 1529.94 371.793 1529.94 Q369.918 1529.94 368.043 1530.35 Q366.191 1530.77 364.247 1531.65 L364.247 1514.29 Z\" fill=\"#000000\" fill-rule=\"evenodd\" fill-opacity=\"1\" /><path clip-path=\"url(#clip720)\" d=\"M394.501 1548.13 L394.501 1543.87 Q396.261 1544.7 398.066 1545.14 Q399.872 1545.58 401.608 1545.58 Q406.237 1545.58 408.668 1542.48 Q411.122 1539.36 411.469 1533.01 Q410.126 1535.01 408.066 1536.07 Q406.006 1537.13 403.506 1537.13 Q398.321 1537.13 395.288 1534.01 Q392.279 1530.86 392.279 1525.42 Q392.279 1520.1 395.427 1516.88 Q398.575 1513.66 403.807 1513.66 Q409.802 1513.66 412.95 1518.27 Q416.122 1522.85 416.122 1531.6 Q416.122 1539.77 412.233 1544.66 Q408.367 1549.52 401.816 1549.52 Q400.057 1549.52 398.251 1549.17 Q396.446 1548.82 394.501 1548.13 M403.807 1533.48 Q406.955 1533.48 408.784 1531.32 Q410.636 1529.17 410.636 1525.42 Q410.636 1521.7 408.784 1519.54 Q406.955 1517.37 403.807 1517.37 Q400.659 1517.37 398.807 1519.54 Q396.978 1521.7 396.978 1525.42 Q396.978 1529.17 398.807 1531.32 Q400.659 1533.48 403.807 1533.48 Z\" fill=\"#000000\" fill-rule=\"evenodd\" fill-opacity=\"1\" /><path clip-path=\"url(#clip720)\" d=\"M435.103 1529.7 Q431.955 1529.7 430.103 1531.86 Q428.274 1534.01 428.274 1537.76 Q428.274 1541.49 430.103 1543.66 Q431.955 1545.82 435.103 1545.82 Q438.251 1545.82 440.08 1543.66 Q441.932 1541.49 441.932 1537.76 Q441.932 1534.01 440.08 1531.86 Q438.251 1529.7 435.103 1529.7 M444.385 1515.05 L444.385 1519.31 Q442.626 1518.48 440.821 1518.04 Q439.038 1517.6 437.279 1517.6 Q432.649 1517.6 430.196 1520.72 Q427.765 1523.85 427.418 1530.17 Q428.784 1528.15 430.844 1527.09 Q432.904 1526 435.381 1526 Q440.589 1526 443.598 1529.17 Q446.631 1532.32 446.631 1537.76 Q446.631 1543.08 443.483 1546.3 Q440.334 1549.52 435.103 1549.52 Q429.108 1549.52 425.936 1544.94 Q422.765 1540.33 422.765 1531.6 Q422.765 1523.41 426.654 1518.55 Q430.543 1513.66 437.094 1513.66 Q438.853 1513.66 440.635 1514.01 Q442.441 1514.36 444.385 1515.05 Z\" fill=\"#000000\" fill-rule=\"evenodd\" fill-opacity=\"1\" /><path clip-path=\"url(#clip720)\" d=\"M668.909 1514.29 L687.265 1514.29 L687.265 1518.22 L673.191 1518.22 L673.191 1526.7 Q674.21 1526.35 675.228 1526.19 Q676.247 1526 677.265 1526 Q683.052 1526 686.432 1529.17 Q689.812 1532.34 689.812 1537.76 Q689.812 1543.34 686.339 1546.44 Q682.867 1549.52 676.548 1549.52 Q674.372 1549.52 672.103 1549.15 Q669.858 1548.78 667.451 1548.04 L667.451 1543.34 Q669.534 1544.47 671.756 1545.03 Q673.978 1545.58 676.455 1545.58 Q680.46 1545.58 682.798 1543.48 Q685.136 1541.37 685.136 1537.76 Q685.136 1534.15 682.798 1532.04 Q680.46 1529.94 676.455 1529.94 Q674.58 1529.94 672.705 1530.35 Q670.853 1530.77 668.909 1531.65 L668.909 1514.29 Z\" fill=\"#000000\" fill-rule=\"evenodd\" fill-opacity=\"1\" /><path clip-path=\"url(#clip720)\" d=\"M699.163 1548.13 L699.163 1543.87 Q700.923 1544.7 702.728 1545.14 Q704.534 1545.58 706.27 1545.58 Q710.899 1545.58 713.33 1542.48 Q715.784 1539.36 716.131 1533.01 Q714.788 1535.01 712.728 1536.07 Q710.668 1537.13 708.168 1537.13 Q702.983 1537.13 699.95 1534.01 Q696.941 1530.86 696.941 1525.42 Q696.941 1520.1 700.089 1516.88 Q703.237 1513.66 708.469 1513.66 Q714.464 1513.66 717.612 1518.27 Q720.784 1522.85 720.784 1531.6 Q720.784 1539.77 716.895 1544.66 Q713.029 1549.52 706.478 1549.52 Q704.719 1549.52 702.913 1549.17 Q701.108 1548.82 699.163 1548.13 M708.469 1533.48 Q711.617 1533.48 713.446 1531.32 Q715.298 1529.17 715.298 1525.42 Q715.298 1521.7 713.446 1519.54 Q711.617 1517.37 708.469 1517.37 Q705.321 1517.37 703.469 1519.54 Q701.64 1521.7 701.64 1525.42 Q701.64 1529.17 703.469 1531.32 Q705.321 1533.48 708.469 1533.48 Z\" fill=\"#000000\" fill-rule=\"evenodd\" fill-opacity=\"1\" /><path clip-path=\"url(#clip720)\" d=\"M728.006 1514.29 L750.228 1514.29 L750.228 1516.28 L737.682 1548.85 L732.797 1548.85 L744.603 1518.22 L728.006 1518.22 L728.006 1514.29 Z\" fill=\"#000000\" fill-rule=\"evenodd\" fill-opacity=\"1\" /><path clip-path=\"url(#clip720)\" d=\"M972.633 1514.29 L990.99 1514.29 L990.99 1518.22 L976.916 1518.22 L976.916 1526.7 Q977.934 1526.35 978.953 1526.19 Q979.971 1526 980.99 1526 Q986.777 1526 990.156 1529.17 Q993.536 1532.34 993.536 1537.76 Q993.536 1543.34 990.064 1546.44 Q986.592 1549.52 980.272 1549.52 Q978.096 1549.52 975.828 1549.15 Q973.582 1548.78 971.175 1548.04 L971.175 1543.34 Q973.258 1544.47 975.481 1545.03 Q977.703 1545.58 980.18 1545.58 Q984.184 1545.58 986.522 1543.48 Q988.86 1541.37 988.86 1537.76 Q988.86 1534.15 986.522 1532.04 Q984.184 1529.94 980.18 1529.94 Q978.305 1529.94 976.43 1530.35 Q974.578 1530.77 972.633 1531.65 L972.633 1514.29 Z\" fill=\"#000000\" fill-rule=\"evenodd\" fill-opacity=\"1\" /><path clip-path=\"url(#clip720)\" d=\"M1002.89 1548.13 L1002.89 1543.87 Q1004.65 1544.7 1006.45 1545.14 Q1008.26 1545.58 1009.99 1545.58 Q1014.62 1545.58 1017.05 1542.48 Q1019.51 1539.36 1019.86 1533.01 Q1018.51 1535.01 1016.45 1536.07 Q1014.39 1537.13 1011.89 1537.13 Q1006.71 1537.13 1003.67 1534.01 Q1000.67 1530.86 1000.67 1525.42 Q1000.67 1520.1 1003.81 1516.88 Q1006.96 1513.66 1012.19 1513.66 Q1018.19 1513.66 1021.34 1518.27 Q1024.51 1522.85 1024.51 1531.6 Q1024.51 1539.77 1020.62 1544.66 Q1016.75 1549.52 1010.2 1549.52 Q1008.44 1549.52 1006.64 1549.17 Q1004.83 1548.82 1002.89 1548.13 M1012.19 1533.48 Q1015.34 1533.48 1017.17 1531.32 Q1019.02 1529.17 1019.02 1525.42 Q1019.02 1521.7 1017.17 1519.54 Q1015.34 1517.37 1012.19 1517.37 Q1009.05 1517.37 1007.19 1519.54 Q1005.36 1521.7 1005.36 1525.42 Q1005.36 1529.17 1007.19 1531.32 Q1009.05 1533.48 1012.19 1533.48 Z\" fill=\"#000000\" fill-rule=\"evenodd\" fill-opacity=\"1\" /><path clip-path=\"url(#clip720)\" d=\"M1042.91 1532.44 Q1039.58 1532.44 1037.66 1534.22 Q1035.76 1536 1035.76 1539.13 Q1035.76 1542.25 1037.66 1544.03 Q1039.58 1545.82 1042.91 1545.82 Q1046.24 1545.82 1048.17 1544.03 Q1050.09 1542.23 1050.09 1539.13 Q1050.09 1536 1048.17 1534.22 Q1046.27 1532.44 1042.91 1532.44 M1038.23 1530.45 Q1035.23 1529.7 1033.54 1527.64 Q1031.87 1525.58 1031.87 1522.62 Q1031.87 1518.48 1034.81 1516.07 Q1037.77 1513.66 1042.91 1513.66 Q1048.07 1513.66 1051.01 1516.07 Q1053.95 1518.48 1053.95 1522.62 Q1053.95 1525.58 1052.26 1527.64 Q1050.6 1529.7 1047.61 1530.45 Q1050.99 1531.23 1052.86 1533.52 Q1054.76 1535.82 1054.76 1539.13 Q1054.76 1544.15 1051.68 1546.83 Q1048.63 1549.52 1042.91 1549.52 Q1037.19 1549.52 1034.11 1546.83 Q1031.06 1544.15 1031.06 1539.13 Q1031.06 1535.82 1032.96 1533.52 Q1034.86 1531.23 1038.23 1530.45 M1036.52 1523.06 Q1036.52 1525.75 1038.19 1527.25 Q1039.88 1528.76 1042.91 1528.76 Q1045.92 1528.76 1047.61 1527.25 Q1049.32 1525.75 1049.32 1523.06 Q1049.32 1520.38 1047.61 1518.87 Q1045.92 1517.37 1042.91 1517.37 Q1039.88 1517.37 1038.19 1518.87 Q1036.52 1520.38 1036.52 1523.06 Z\" fill=\"#000000\" fill-rule=\"evenodd\" fill-opacity=\"1\" /><path clip-path=\"url(#clip720)\" d=\"M1276.81 1514.29 L1295.17 1514.29 L1295.17 1518.22 L1281.09 1518.22 L1281.09 1526.7 Q1282.11 1526.35 1283.13 1526.19 Q1284.15 1526 1285.17 1526 Q1290.95 1526 1294.33 1529.17 Q1297.71 1532.34 1297.71 1537.76 Q1297.71 1543.34 1294.24 1546.44 Q1290.77 1549.52 1284.45 1549.52 Q1282.27 1549.52 1280 1549.15 Q1277.76 1548.78 1275.35 1548.04 L1275.35 1543.34 Q1277.43 1544.47 1279.66 1545.03 Q1281.88 1545.58 1284.36 1545.58 Q1288.36 1545.58 1290.7 1543.48 Q1293.04 1541.37 1293.04 1537.76 Q1293.04 1534.15 1290.7 1532.04 Q1288.36 1529.94 1284.36 1529.94 Q1282.48 1529.94 1280.61 1530.35 Q1278.75 1530.77 1276.81 1531.65 L1276.81 1514.29 Z\" fill=\"#000000\" fill-rule=\"evenodd\" fill-opacity=\"1\" /><path clip-path=\"url(#clip720)\" d=\"M1307.06 1548.13 L1307.06 1543.87 Q1308.82 1544.7 1310.63 1545.14 Q1312.43 1545.58 1314.17 1545.58 Q1318.8 1545.58 1321.23 1542.48 Q1323.68 1539.36 1324.03 1533.01 Q1322.69 1535.01 1320.63 1536.07 Q1318.57 1537.13 1316.07 1537.13 Q1310.88 1537.13 1307.85 1534.01 Q1304.84 1530.86 1304.84 1525.42 Q1304.84 1520.1 1307.99 1516.88 Q1311.14 1513.66 1316.37 1513.66 Q1322.36 1513.66 1325.51 1518.27 Q1328.68 1522.85 1328.68 1531.6 Q1328.68 1539.77 1324.8 1544.66 Q1320.93 1549.52 1314.38 1549.52 Q1312.62 1549.52 1310.81 1549.17 Q1309.01 1548.82 1307.06 1548.13 M1316.37 1533.48 Q1319.52 1533.48 1321.35 1531.32 Q1323.2 1529.17 1323.2 1525.42 Q1323.2 1521.7 1321.35 1519.54 Q1319.52 1517.37 1316.37 1517.37 Q1313.22 1517.37 1311.37 1519.54 Q1309.54 1521.7 1309.54 1525.42 Q1309.54 1529.17 1311.37 1531.32 Q1313.22 1533.48 1316.37 1533.48 Z\" fill=\"#000000\" fill-rule=\"evenodd\" fill-opacity=\"1\" /><path clip-path=\"url(#clip720)\" d=\"M1337.23 1548.13 L1337.23 1543.87 Q1338.98 1544.7 1340.79 1545.14 Q1342.6 1545.58 1344.33 1545.58 Q1348.96 1545.58 1351.39 1542.48 Q1353.85 1539.36 1354.19 1533.01 Q1352.85 1535.01 1350.79 1536.07 Q1348.73 1537.13 1346.23 1537.13 Q1341.04 1537.13 1338.01 1534.01 Q1335 1530.86 1335 1525.42 Q1335 1520.1 1338.15 1516.88 Q1341.3 1513.66 1346.53 1513.66 Q1352.53 1513.66 1355.67 1518.27 Q1358.85 1522.85 1358.85 1531.6 Q1358.85 1539.77 1354.96 1544.66 Q1351.09 1549.52 1344.54 1549.52 Q1342.78 1549.52 1340.98 1549.17 Q1339.17 1548.82 1337.23 1548.13 M1346.53 1533.48 Q1349.68 1533.48 1351.51 1531.32 Q1353.36 1529.17 1353.36 1525.42 Q1353.36 1521.7 1351.51 1519.54 Q1349.68 1517.37 1346.53 1517.37 Q1343.38 1517.37 1341.53 1519.54 Q1339.7 1521.7 1339.7 1525.42 Q1339.7 1529.17 1341.53 1531.32 Q1343.38 1533.48 1346.53 1533.48 Z\" fill=\"#000000\" fill-rule=\"evenodd\" fill-opacity=\"1\" /><path clip-path=\"url(#clip720)\" d=\"M1591.55 1529.7 Q1588.4 1529.7 1586.55 1531.86 Q1584.72 1534.01 1584.72 1537.76 Q1584.72 1541.49 1586.55 1543.66 Q1588.4 1545.82 1591.55 1545.82 Q1594.7 1545.82 1596.53 1543.66 Q1598.38 1541.49 1598.38 1537.76 Q1598.38 1534.01 1596.53 1531.86 Q1594.7 1529.7 1591.55 1529.7 M1600.83 1515.05 L1600.83 1519.31 Q1599.08 1518.48 1597.27 1518.04 Q1595.49 1517.6 1593.73 1517.6 Q1589.1 1517.6 1586.64 1520.72 Q1584.21 1523.85 1583.87 1530.17 Q1585.23 1528.15 1587.29 1527.09 Q1589.35 1526 1591.83 1526 Q1597.04 1526 1600.05 1529.17 Q1603.08 1532.32 1603.08 1537.76 Q1603.08 1543.08 1599.93 1546.3 Q1596.78 1549.52 1591.55 1549.52 Q1585.56 1549.52 1582.39 1544.94 Q1579.21 1540.33 1579.21 1531.6 Q1579.21 1523.41 1583.1 1518.55 Q1586.99 1513.66 1593.54 1513.66 Q1595.3 1513.66 1597.08 1514.01 Q1598.89 1514.36 1600.83 1515.05 Z\" fill=\"#000000\" fill-rule=\"evenodd\" fill-opacity=\"1\" /><path clip-path=\"url(#clip720)\" d=\"M1621.14 1517.37 Q1617.52 1517.37 1615.7 1520.93 Q1613.89 1524.47 1613.89 1531.6 Q1613.89 1538.71 1615.7 1542.27 Q1617.52 1545.82 1621.14 1545.82 Q1624.77 1545.82 1626.58 1542.27 Q1628.4 1538.71 1628.4 1531.6 Q1628.4 1524.47 1626.58 1520.93 Q1624.77 1517.37 1621.14 1517.37 M1621.14 1513.66 Q1626.95 1513.66 1630 1518.27 Q1633.08 1522.85 1633.08 1531.6 Q1633.08 1540.33 1630 1544.94 Q1626.95 1549.52 1621.14 1549.52 Q1615.33 1549.52 1612.25 1544.94 Q1609.19 1540.33 1609.19 1531.6 Q1609.19 1522.85 1612.25 1518.27 Q1615.33 1513.66 1621.14 1513.66 Z\" fill=\"#000000\" fill-rule=\"evenodd\" fill-opacity=\"1\" /><path clip-path=\"url(#clip720)\" d=\"M1651.3 1517.37 Q1647.69 1517.37 1645.86 1520.93 Q1644.05 1524.47 1644.05 1531.6 Q1644.05 1538.71 1645.86 1542.27 Q1647.69 1545.82 1651.3 1545.82 Q1654.93 1545.82 1656.74 1542.27 Q1658.57 1538.71 1658.57 1531.6 Q1658.57 1524.47 1656.74 1520.93 Q1654.93 1517.37 1651.3 1517.37 M1651.3 1513.66 Q1657.11 1513.66 1660.16 1518.27 Q1663.24 1522.85 1663.24 1531.6 Q1663.24 1540.33 1660.16 1544.94 Q1657.11 1549.52 1651.3 1549.52 Q1645.49 1549.52 1642.41 1544.94 Q1639.35 1540.33 1639.35 1531.6 Q1639.35 1522.85 1642.41 1518.27 Q1645.49 1513.66 1651.3 1513.66 Z\" fill=\"#000000\" fill-rule=\"evenodd\" fill-opacity=\"1\" /><path clip-path=\"url(#clip720)\" d=\"M1896.3 1529.7 Q1893.15 1529.7 1891.3 1531.86 Q1889.47 1534.01 1889.47 1537.76 Q1889.47 1541.49 1891.3 1543.66 Q1893.15 1545.82 1896.3 1545.82 Q1899.44 1545.82 1901.27 1543.66 Q1903.12 1541.49 1903.12 1537.76 Q1903.12 1534.01 1901.27 1531.86 Q1899.44 1529.7 1896.3 1529.7 M1905.58 1515.05 L1905.58 1519.31 Q1903.82 1518.48 1902.01 1518.04 Q1900.23 1517.6 1898.47 1517.6 Q1893.84 1517.6 1891.39 1520.72 Q1888.96 1523.85 1888.61 1530.17 Q1889.98 1528.15 1892.04 1527.09 Q1894.1 1526 1896.57 1526 Q1901.78 1526 1904.79 1529.17 Q1907.82 1532.32 1907.82 1537.76 Q1907.82 1543.08 1904.67 1546.3 Q1901.53 1549.52 1896.3 1549.52 Q1890.3 1549.52 1887.13 1544.94 Q1883.96 1540.33 1883.96 1531.6 Q1883.96 1523.41 1887.85 1518.55 Q1891.73 1513.66 1898.29 1513.66 Q1900.05 1513.66 1901.83 1514.01 Q1903.63 1514.36 1905.58 1515.05 Z\" fill=\"#000000\" fill-rule=\"evenodd\" fill-opacity=\"1\" /><path clip-path=\"url(#clip720)\" d=\"M1925.88 1517.37 Q1922.27 1517.37 1920.44 1520.93 Q1918.63 1524.47 1918.63 1531.6 Q1918.63 1538.71 1920.44 1542.27 Q1922.27 1545.82 1925.88 1545.82 Q1929.51 1545.82 1931.32 1542.27 Q1933.15 1538.71 1933.15 1531.6 Q1933.15 1524.47 1931.32 1520.93 Q1929.51 1517.37 1925.88 1517.37 M1925.88 1513.66 Q1931.69 1513.66 1934.74 1518.27 Q1937.82 1522.85 1937.82 1531.6 Q1937.82 1540.33 1934.74 1544.94 Q1931.69 1549.52 1925.88 1549.52 Q1920.07 1549.52 1916.99 1544.94 Q1913.93 1540.33 1913.93 1531.6 Q1913.93 1522.85 1916.99 1518.27 Q1920.07 1513.66 1925.88 1513.66 Z\" fill=\"#000000\" fill-rule=\"evenodd\" fill-opacity=\"1\" /><path clip-path=\"url(#clip720)\" d=\"M1946.85 1544.91 L1954.49 1544.91 L1954.49 1518.55 L1946.18 1520.21 L1946.18 1515.95 L1954.44 1514.29 L1959.12 1514.29 L1959.12 1544.91 L1966.76 1544.91 L1966.76 1548.85 L1946.85 1548.85 L1946.85 1544.91 Z\" fill=\"#000000\" fill-rule=\"evenodd\" fill-opacity=\"1\" /><path clip-path=\"url(#clip720)\" d=\"M2200.61 1529.7 Q2197.46 1529.7 2195.61 1531.86 Q2193.78 1534.01 2193.78 1537.76 Q2193.78 1541.49 2195.61 1543.66 Q2197.46 1545.82 2200.61 1545.82 Q2203.76 1545.82 2205.59 1543.66 Q2207.44 1541.49 2207.44 1537.76 Q2207.44 1534.01 2205.59 1531.86 Q2203.76 1529.7 2200.61 1529.7 M2209.89 1515.05 L2209.89 1519.31 Q2208.13 1518.48 2206.33 1518.04 Q2204.55 1517.6 2202.79 1517.6 Q2198.16 1517.6 2195.7 1520.72 Q2193.27 1523.85 2192.92 1530.17 Q2194.29 1528.15 2196.35 1527.09 Q2198.41 1526 2200.89 1526 Q2206.1 1526 2209.11 1529.17 Q2212.14 1532.32 2212.14 1537.76 Q2212.14 1543.08 2208.99 1546.3 Q2205.84 1549.52 2200.61 1549.52 Q2194.61 1549.52 2191.44 1544.94 Q2188.27 1540.33 2188.27 1531.6 Q2188.27 1523.41 2192.16 1518.55 Q2196.05 1513.66 2202.6 1513.66 Q2204.36 1513.66 2206.14 1514.01 Q2207.95 1514.36 2209.89 1515.05 Z\" fill=\"#000000\" fill-rule=\"evenodd\" fill-opacity=\"1\" /><path clip-path=\"url(#clip720)\" d=\"M2230.19 1517.37 Q2226.58 1517.37 2224.75 1520.93 Q2222.95 1524.47 2222.95 1531.6 Q2222.95 1538.71 2224.75 1542.27 Q2226.58 1545.82 2230.19 1545.82 Q2233.83 1545.82 2235.63 1542.27 Q2237.46 1538.71 2237.46 1531.6 Q2237.46 1524.47 2235.63 1520.93 Q2233.83 1517.37 2230.19 1517.37 M2230.19 1513.66 Q2236 1513.66 2239.06 1518.27 Q2242.14 1522.85 2242.14 1531.6 Q2242.14 1540.33 2239.06 1544.94 Q2236 1549.52 2230.19 1549.52 Q2224.38 1549.52 2221.3 1544.94 Q2218.25 1540.33 2218.25 1531.6 Q2218.25 1522.85 2221.3 1518.27 Q2224.38 1513.66 2230.19 1513.66 Z\" fill=\"#000000\" fill-rule=\"evenodd\" fill-opacity=\"1\" /><path clip-path=\"url(#clip720)\" d=\"M2254.38 1544.91 L2270.7 1544.91 L2270.7 1548.85 L2248.76 1548.85 L2248.76 1544.91 Q2251.42 1542.16 2256 1537.53 Q2260.61 1532.88 2261.79 1531.53 Q2264.04 1529.01 2264.92 1527.27 Q2265.82 1525.51 2265.82 1523.82 Q2265.82 1521.07 2263.87 1519.33 Q2261.95 1517.6 2258.85 1517.6 Q2256.65 1517.6 2254.2 1518.36 Q2251.77 1519.13 2248.99 1520.68 L2248.99 1515.95 Q2251.81 1514.82 2254.27 1514.24 Q2256.72 1513.66 2258.76 1513.66 Q2264.13 1513.66 2267.32 1516.35 Q2270.52 1519.03 2270.52 1523.52 Q2270.52 1525.65 2269.71 1527.57 Q2268.92 1529.47 2266.81 1532.07 Q2266.23 1532.74 2263.13 1535.95 Q2260.03 1539.15 2254.38 1544.91 Z\" fill=\"#000000\" fill-rule=\"evenodd\" fill-opacity=\"1\" /><polyline clip-path=\"url(#clip722)\" style=\"stroke:#000000; stroke-linecap:butt; stroke-linejoin:round; stroke-width:2; stroke-opacity:0.1; fill:none\" points=\"\n",
       "  199.283,1405.57 2352.76,1405.57 \n",
       "  \"/>\n",
       "<polyline clip-path=\"url(#clip722)\" style=\"stroke:#000000; stroke-linecap:butt; stroke-linejoin:round; stroke-width:2; stroke-opacity:0.1; fill:none\" points=\"\n",
       "  199.283,1048.69 2352.76,1048.69 \n",
       "  \"/>\n",
       "<polyline clip-path=\"url(#clip722)\" style=\"stroke:#000000; stroke-linecap:butt; stroke-linejoin:round; stroke-width:2; stroke-opacity:0.1; fill:none\" points=\"\n",
       "  199.283,691.819 2352.76,691.819 \n",
       "  \"/>\n",
       "<polyline clip-path=\"url(#clip722)\" style=\"stroke:#000000; stroke-linecap:butt; stroke-linejoin:round; stroke-width:2; stroke-opacity:0.1; fill:none\" points=\"\n",
       "  199.283,334.946 2352.76,334.946 \n",
       "  \"/>\n",
       "<polyline clip-path=\"url(#clip720)\" style=\"stroke:#000000; stroke-linecap:butt; stroke-linejoin:round; stroke-width:4; stroke-opacity:1; fill:none\" points=\"\n",
       "  199.283,1486.45 199.283,47.2441 \n",
       "  \"/>\n",
       "<polyline clip-path=\"url(#clip720)\" style=\"stroke:#000000; stroke-linecap:butt; stroke-linejoin:round; stroke-width:4; stroke-opacity:1; fill:none\" points=\"\n",
       "  199.283,1405.57 218.181,1405.57 \n",
       "  \"/>\n",
       "<polyline clip-path=\"url(#clip720)\" style=\"stroke:#000000; stroke-linecap:butt; stroke-linejoin:round; stroke-width:4; stroke-opacity:1; fill:none\" points=\"\n",
       "  199.283,1048.69 218.181,1048.69 \n",
       "  \"/>\n",
       "<polyline clip-path=\"url(#clip720)\" style=\"stroke:#000000; stroke-linecap:butt; stroke-linejoin:round; stroke-width:4; stroke-opacity:1; fill:none\" points=\"\n",
       "  199.283,691.819 218.181,691.819 \n",
       "  \"/>\n",
       "<polyline clip-path=\"url(#clip720)\" style=\"stroke:#000000; stroke-linecap:butt; stroke-linejoin:round; stroke-width:4; stroke-opacity:1; fill:none\" points=\"\n",
       "  199.283,334.946 218.181,334.946 \n",
       "  \"/>\n",
       "<path clip-path=\"url(#clip720)\" d=\"M51.6634 1418.91 L59.3023 1418.91 L59.3023 1392.55 L50.9921 1394.21 L50.9921 1389.95 L59.256 1388.29 L63.9319 1388.29 L63.9319 1418.91 L71.5707 1418.91 L71.5707 1422.85 L51.6634 1422.85 L51.6634 1418.91 Z\" fill=\"#000000\" fill-rule=\"evenodd\" fill-opacity=\"1\" /><path clip-path=\"url(#clip720)\" d=\"M85.0429 1418.91 L101.362 1418.91 L101.362 1422.85 L79.4179 1422.85 L79.4179 1418.91 Q82.0799 1416.16 86.6632 1411.53 Q91.2697 1406.87 92.4502 1405.53 Q94.6956 1403.01 95.5752 1401.27 Q96.478 1399.51 96.478 1397.82 Q96.478 1395.07 94.5336 1393.33 Q92.6123 1391.6 89.5104 1391.6 Q87.3114 1391.6 84.8577 1392.36 Q82.4271 1393.12 79.6494 1394.68 L79.6494 1389.95 Q82.4734 1388.82 84.9271 1388.24 Q87.3808 1387.66 89.4178 1387.66 Q94.7882 1387.66 97.9826 1390.35 Q101.177 1393.03 101.177 1397.52 Q101.177 1399.65 100.367 1401.57 Q99.5798 1403.47 97.4734 1406.06 Q96.8947 1406.74 93.7928 1409.95 Q90.691 1413.15 85.0429 1418.91 Z\" fill=\"#000000\" fill-rule=\"evenodd\" fill-opacity=\"1\" /><path clip-path=\"url(#clip720)\" d=\"M111.987 1418.91 L119.626 1418.91 L119.626 1392.55 L111.316 1394.21 L111.316 1389.95 L119.58 1388.29 L124.256 1388.29 L124.256 1418.91 L131.894 1418.91 L131.894 1422.85 L111.987 1422.85 L111.987 1418.91 Z\" fill=\"#000000\" fill-rule=\"evenodd\" fill-opacity=\"1\" /><path clip-path=\"url(#clip720)\" d=\"M151.339 1391.37 Q147.728 1391.37 145.899 1394.93 Q144.093 1398.47 144.093 1405.6 Q144.093 1412.71 145.899 1416.27 Q147.728 1419.81 151.339 1419.81 Q154.973 1419.81 156.779 1416.27 Q158.607 1412.71 158.607 1405.6 Q158.607 1398.47 156.779 1394.93 Q154.973 1391.37 151.339 1391.37 M151.339 1387.66 Q157.149 1387.66 160.205 1392.27 Q163.283 1396.85 163.283 1405.6 Q163.283 1414.33 160.205 1418.93 Q157.149 1423.52 151.339 1423.52 Q145.529 1423.52 142.45 1418.93 Q139.394 1414.33 139.394 1405.6 Q139.394 1396.85 142.45 1392.27 Q145.529 1387.66 151.339 1387.66 Z\" fill=\"#000000\" fill-rule=\"evenodd\" fill-opacity=\"1\" /><path clip-path=\"url(#clip720)\" d=\"M51.6634 1062.04 L59.3023 1062.04 L59.3023 1035.67 L50.9921 1037.34 L50.9921 1033.08 L59.256 1031.41 L63.9319 1031.41 L63.9319 1062.04 L71.5707 1062.04 L71.5707 1065.97 L51.6634 1065.97 L51.6634 1062.04 Z\" fill=\"#000000\" fill-rule=\"evenodd\" fill-opacity=\"1\" /><path clip-path=\"url(#clip720)\" d=\"M85.0429 1062.04 L101.362 1062.04 L101.362 1065.97 L79.4179 1065.97 L79.4179 1062.04 Q82.0799 1059.28 86.6632 1054.65 Q91.2697 1050 92.4502 1048.66 Q94.6956 1046.14 95.5752 1044.4 Q96.478 1042.64 96.478 1040.95 Q96.478 1038.2 94.5336 1036.46 Q92.6123 1034.72 89.5104 1034.72 Q87.3114 1034.72 84.8577 1035.49 Q82.4271 1036.25 79.6494 1037.8 L79.6494 1033.08 Q82.4734 1031.95 84.9271 1031.37 Q87.3808 1030.79 89.4178 1030.79 Q94.7882 1030.79 97.9826 1033.47 Q101.177 1036.16 101.177 1040.65 Q101.177 1042.78 100.367 1044.7 Q99.5798 1046.6 97.4734 1049.19 Q96.8947 1049.86 93.7928 1053.08 Q90.691 1056.27 85.0429 1062.04 Z\" fill=\"#000000\" fill-rule=\"evenodd\" fill-opacity=\"1\" /><path clip-path=\"url(#clip720)\" d=\"M115.205 1062.04 L131.524 1062.04 L131.524 1065.97 L109.58 1065.97 L109.58 1062.04 Q112.242 1059.28 116.825 1054.65 Q121.432 1050 122.612 1048.66 Q124.857 1046.14 125.737 1044.4 Q126.64 1042.64 126.64 1040.95 Q126.64 1038.2 124.695 1036.46 Q122.774 1034.72 119.672 1034.72 Q117.473 1034.72 115.02 1035.49 Q112.589 1036.25 109.811 1037.8 L109.811 1033.08 Q112.635 1031.95 115.089 1031.37 Q117.543 1030.79 119.58 1030.79 Q124.95 1030.79 128.144 1033.47 Q131.339 1036.16 131.339 1040.65 Q131.339 1042.78 130.529 1044.7 Q129.742 1046.6 127.635 1049.19 Q127.057 1049.86 123.955 1053.08 Q120.853 1056.27 115.205 1062.04 Z\" fill=\"#000000\" fill-rule=\"evenodd\" fill-opacity=\"1\" /><path clip-path=\"url(#clip720)\" d=\"M151.339 1034.49 Q147.728 1034.49 145.899 1038.06 Q144.093 1041.6 144.093 1048.73 Q144.093 1055.83 145.899 1059.4 Q147.728 1062.94 151.339 1062.94 Q154.973 1062.94 156.779 1059.4 Q158.607 1055.83 158.607 1048.73 Q158.607 1041.6 156.779 1038.06 Q154.973 1034.49 151.339 1034.49 M151.339 1030.79 Q157.149 1030.79 160.205 1035.39 Q163.283 1039.98 163.283 1048.73 Q163.283 1057.45 160.205 1062.06 Q157.149 1066.64 151.339 1066.64 Q145.529 1066.64 142.45 1062.06 Q139.394 1057.45 139.394 1048.73 Q139.394 1039.98 142.45 1035.39 Q145.529 1030.79 151.339 1030.79 Z\" fill=\"#000000\" fill-rule=\"evenodd\" fill-opacity=\"1\" /><path clip-path=\"url(#clip720)\" d=\"M51.6634 705.164 L59.3023 705.164 L59.3023 678.799 L50.9921 680.465 L50.9921 676.206 L59.256 674.539 L63.9319 674.539 L63.9319 705.164 L71.5707 705.164 L71.5707 709.099 L51.6634 709.099 L51.6634 705.164 Z\" fill=\"#000000\" fill-rule=\"evenodd\" fill-opacity=\"1\" /><path clip-path=\"url(#clip720)\" d=\"M85.0429 705.164 L101.362 705.164 L101.362 709.099 L79.4179 709.099 L79.4179 705.164 Q82.0799 702.41 86.6632 697.78 Q91.2697 693.127 92.4502 691.785 Q94.6956 689.262 95.5752 687.525 Q96.478 685.766 96.478 684.076 Q96.478 681.322 94.5336 679.586 Q92.6123 677.85 89.5104 677.85 Q87.3114 677.85 84.8577 678.613 Q82.4271 679.377 79.6494 680.928 L79.6494 676.206 Q82.4734 675.072 84.9271 674.493 Q87.3808 673.914 89.4178 673.914 Q94.7882 673.914 97.9826 676.6 Q101.177 679.285 101.177 683.775 Q101.177 685.905 100.367 687.826 Q99.5798 689.725 97.4734 692.317 Q96.8947 692.988 93.7928 696.206 Q90.691 699.4 85.0429 705.164 Z\" fill=\"#000000\" fill-rule=\"evenodd\" fill-opacity=\"1\" /><path clip-path=\"url(#clip720)\" d=\"M125.344 690.465 Q128.7 691.183 130.575 693.451 Q132.473 695.72 132.473 699.053 Q132.473 704.169 128.955 706.97 Q125.436 709.771 118.955 709.771 Q116.779 709.771 114.464 709.331 Q112.172 708.914 109.719 708.058 L109.719 703.544 Q111.663 704.678 113.978 705.257 Q116.293 705.836 118.816 705.836 Q123.214 705.836 125.506 704.099 Q127.82 702.363 127.82 699.053 Q127.82 695.998 125.668 694.285 Q123.538 692.549 119.719 692.549 L115.691 692.549 L115.691 688.706 L119.904 688.706 Q123.353 688.706 125.182 687.34 Q127.01 685.951 127.01 683.359 Q127.01 680.697 125.112 679.285 Q123.237 677.85 119.719 677.85 Q117.797 677.85 115.598 678.266 Q113.399 678.683 110.76 679.563 L110.76 675.396 Q113.422 674.655 115.737 674.285 Q118.075 673.914 120.135 673.914 Q125.459 673.914 128.561 676.345 Q131.663 678.752 131.663 682.873 Q131.663 685.743 130.019 687.734 Q128.376 689.701 125.344 690.465 Z\" fill=\"#000000\" fill-rule=\"evenodd\" fill-opacity=\"1\" /><path clip-path=\"url(#clip720)\" d=\"M151.339 677.618 Q147.728 677.618 145.899 681.183 Q144.093 684.725 144.093 691.854 Q144.093 698.961 145.899 702.525 Q147.728 706.067 151.339 706.067 Q154.973 706.067 156.779 702.525 Q158.607 698.961 158.607 691.854 Q158.607 684.725 156.779 681.183 Q154.973 677.618 151.339 677.618 M151.339 673.914 Q157.149 673.914 160.205 678.521 Q163.283 683.104 163.283 691.854 Q163.283 700.581 160.205 705.187 Q157.149 709.771 151.339 709.771 Q145.529 709.771 142.45 705.187 Q139.394 700.581 139.394 691.854 Q139.394 683.104 142.45 678.521 Q145.529 673.914 151.339 673.914 Z\" fill=\"#000000\" fill-rule=\"evenodd\" fill-opacity=\"1\" /><path clip-path=\"url(#clip720)\" d=\"M51.6634 348.291 L59.3023 348.291 L59.3023 321.925 L50.9921 323.592 L50.9921 319.332 L59.256 317.666 L63.9319 317.666 L63.9319 348.291 L71.5707 348.291 L71.5707 352.226 L51.6634 352.226 L51.6634 348.291 Z\" fill=\"#000000\" fill-rule=\"evenodd\" fill-opacity=\"1\" /><path clip-path=\"url(#clip720)\" d=\"M85.0429 348.291 L101.362 348.291 L101.362 352.226 L79.4179 352.226 L79.4179 348.291 Q82.0799 345.536 86.6632 340.906 Q91.2697 336.254 92.4502 334.911 Q94.6956 332.388 95.5752 330.652 Q96.478 328.893 96.478 327.203 Q96.478 324.448 94.5336 322.712 Q92.6123 320.976 89.5104 320.976 Q87.3114 320.976 84.8577 321.74 Q82.4271 322.504 79.6494 324.055 L79.6494 319.332 Q82.4734 318.198 84.9271 317.619 Q87.3808 317.041 89.4178 317.041 Q94.7882 317.041 97.9826 319.726 Q101.177 322.411 101.177 326.902 Q101.177 329.031 100.367 330.953 Q99.5798 332.851 97.4734 335.443 Q96.8947 336.115 93.7928 339.332 Q90.691 342.527 85.0429 348.291 Z\" fill=\"#000000\" fill-rule=\"evenodd\" fill-opacity=\"1\" /><path clip-path=\"url(#clip720)\" d=\"M124.024 321.74 L112.219 340.189 L124.024 340.189 L124.024 321.74 M122.797 317.666 L128.677 317.666 L128.677 340.189 L133.607 340.189 L133.607 344.078 L128.677 344.078 L128.677 352.226 L124.024 352.226 L124.024 344.078 L108.422 344.078 L108.422 339.564 L122.797 317.666 Z\" fill=\"#000000\" fill-rule=\"evenodd\" fill-opacity=\"1\" /><path clip-path=\"url(#clip720)\" d=\"M151.339 320.744 Q147.728 320.744 145.899 324.309 Q144.093 327.851 144.093 334.98 Q144.093 342.087 145.899 345.652 Q147.728 349.193 151.339 349.193 Q154.973 349.193 156.779 345.652 Q158.607 342.087 158.607 334.98 Q158.607 327.851 156.779 324.309 Q154.973 320.744 151.339 320.744 M151.339 317.041 Q157.149 317.041 160.205 321.647 Q163.283 326.23 163.283 334.98 Q163.283 343.707 160.205 348.314 Q157.149 352.897 151.339 352.897 Q145.529 352.897 142.45 348.314 Q139.394 343.707 139.394 334.98 Q139.394 326.23 142.45 321.647 Q145.529 317.041 151.339 317.041 Z\" fill=\"#000000\" fill-rule=\"evenodd\" fill-opacity=\"1\" /><polyline clip-path=\"url(#clip722)\" style=\"stroke:#ff0000; stroke-linecap:butt; stroke-linejoin:round; stroke-width:4; stroke-opacity:1; fill:none\" points=\"\n",
       "  260.231,87.9763 397.053,376.904 509.423,495.298 596.456,687.295 682.293,824.577 755.743,902.62 883.529,1038.39 1011.31,1174.17 1139.53,1309.94 \n",
       "  2291.81,1445.72 \n",
       "  \"/>\n",
       "<circle clip-path=\"url(#clip722)\" cx=\"260.231\" cy=\"87.9763\" r=\"14\" fill=\"#ff0000\" fill-rule=\"evenodd\" fill-opacity=\"1\" stroke=\"#000000\" stroke-opacity=\"1\" stroke-width=\"3.2\"/>\n",
       "<circle clip-path=\"url(#clip722)\" cx=\"397.053\" cy=\"376.904\" r=\"14\" fill=\"#ff0000\" fill-rule=\"evenodd\" fill-opacity=\"1\" stroke=\"#000000\" stroke-opacity=\"1\" stroke-width=\"3.2\"/>\n",
       "<circle clip-path=\"url(#clip722)\" cx=\"397.053\" cy=\"376.904\" r=\"14\" fill=\"#ff0000\" fill-rule=\"evenodd\" fill-opacity=\"1\" stroke=\"#000000\" stroke-opacity=\"1\" stroke-width=\"3.2\"/>\n",
       "<circle clip-path=\"url(#clip722)\" cx=\"509.423\" cy=\"495.298\" r=\"14\" fill=\"#ff0000\" fill-rule=\"evenodd\" fill-opacity=\"1\" stroke=\"#000000\" stroke-opacity=\"1\" stroke-width=\"3.2\"/>\n",
       "<circle clip-path=\"url(#clip722)\" cx=\"596.456\" cy=\"687.295\" r=\"14\" fill=\"#ff0000\" fill-rule=\"evenodd\" fill-opacity=\"1\" stroke=\"#000000\" stroke-opacity=\"1\" stroke-width=\"3.2\"/>\n",
       "<circle clip-path=\"url(#clip722)\" cx=\"682.293\" cy=\"824.577\" r=\"14\" fill=\"#ff0000\" fill-rule=\"evenodd\" fill-opacity=\"1\" stroke=\"#000000\" stroke-opacity=\"1\" stroke-width=\"3.2\"/>\n",
       "<circle clip-path=\"url(#clip722)\" cx=\"755.743\" cy=\"902.62\" r=\"14\" fill=\"#ff0000\" fill-rule=\"evenodd\" fill-opacity=\"1\" stroke=\"#000000\" stroke-opacity=\"1\" stroke-width=\"3.2\"/>\n",
       "<circle clip-path=\"url(#clip722)\" cx=\"883.529\" cy=\"1038.39\" r=\"14\" fill=\"#ff0000\" fill-rule=\"evenodd\" fill-opacity=\"1\" stroke=\"#000000\" stroke-opacity=\"1\" stroke-width=\"3.2\"/>\n",
       "<circle clip-path=\"url(#clip722)\" cx=\"1011.31\" cy=\"1174.17\" r=\"14\" fill=\"#ff0000\" fill-rule=\"evenodd\" fill-opacity=\"1\" stroke=\"#000000\" stroke-opacity=\"1\" stroke-width=\"3.2\"/>\n",
       "<circle clip-path=\"url(#clip722)\" cx=\"1139.53\" cy=\"1309.94\" r=\"14\" fill=\"#ff0000\" fill-rule=\"evenodd\" fill-opacity=\"1\" stroke=\"#000000\" stroke-opacity=\"1\" stroke-width=\"3.2\"/>\n",
       "<circle clip-path=\"url(#clip722)\" cx=\"2291.81\" cy=\"1445.72\" r=\"14\" fill=\"#ff0000\" fill-rule=\"evenodd\" fill-opacity=\"1\" stroke=\"#000000\" stroke-opacity=\"1\" stroke-width=\"3.2\"/>\n",
       "<path clip-path=\"url(#clip720)\" d=\"\n",
       "M1989.27 250.738 L2280.97 250.738 L2280.97 95.2176 L1989.27 95.2176  Z\n",
       "  \" fill=\"#ffffff\" fill-rule=\"evenodd\" fill-opacity=\"1\"/>\n",
       "<polyline clip-path=\"url(#clip720)\" style=\"stroke:#000000; stroke-linecap:butt; stroke-linejoin:round; stroke-width:4; stroke-opacity:1; fill:none\" points=\"\n",
       "  1989.27,250.738 2280.97,250.738 2280.97,95.2176 1989.27,95.2176 1989.27,250.738 \n",
       "  \"/>\n",
       "<polyline clip-path=\"url(#clip720)\" style=\"stroke:#ff0000; stroke-linecap:butt; stroke-linejoin:round; stroke-width:4; stroke-opacity:1; fill:none\" points=\"\n",
       "  2013.2,147.058 2156.76,147.058 \n",
       "  \"/>\n",
       "<path clip-path=\"url(#clip720)\" d=\"M2194.53 166.745 Q2192.73 171.375 2191.01 172.787 Q2189.3 174.199 2186.43 174.199 L2183.03 174.199 L2183.03 170.634 L2185.53 170.634 Q2187.29 170.634 2188.26 169.8 Q2189.23 168.967 2190.41 165.865 L2191.17 163.921 L2180.69 138.412 L2185.2 138.412 L2193.3 158.689 L2201.41 138.412 L2205.92 138.412 L2194.53 166.745 Z\" fill=\"#000000\" fill-rule=\"evenodd\" fill-opacity=\"1\" /><path clip-path=\"url(#clip720)\" d=\"M2213.21 160.402 L2220.85 160.402 L2220.85 134.037 L2212.54 135.703 L2212.54 131.444 L2220.8 129.778 L2225.48 129.778 L2225.48 160.402 L2233.12 160.402 L2233.12 164.338 L2213.21 164.338 L2213.21 160.402 Z\" fill=\"#000000\" fill-rule=\"evenodd\" fill-opacity=\"1\" /><circle clip-path=\"url(#clip720)\" cx=\"2084.98\" cy=\"198.898\" r=\"23\" fill=\"#ff0000\" fill-rule=\"evenodd\" fill-opacity=\"1\" stroke=\"#000000\" stroke-opacity=\"1\" stroke-width=\"5.12\"/>\n",
       "<path clip-path=\"url(#clip720)\" d=\"M2194.53 218.585 Q2192.73 223.215 2191.01 224.627 Q2189.3 226.039 2186.43 226.039 L2183.03 226.039 L2183.03 222.474 L2185.53 222.474 Q2187.29 222.474 2188.26 221.64 Q2189.23 220.807 2190.41 217.705 L2191.17 215.761 L2180.69 190.252 L2185.2 190.252 L2193.3 210.529 L2201.41 190.252 L2205.92 190.252 L2194.53 218.585 Z\" fill=\"#000000\" fill-rule=\"evenodd\" fill-opacity=\"1\" /><path clip-path=\"url(#clip720)\" d=\"M2216.43 212.242 L2232.75 212.242 L2232.75 216.178 L2210.8 216.178 L2210.8 212.242 Q2213.47 209.488 2218.05 204.858 Q2222.66 200.205 2223.84 198.863 Q2226.08 196.34 2226.96 194.604 Q2227.86 192.844 2227.86 191.155 Q2227.86 188.4 2225.92 186.664 Q2224 184.928 2220.9 184.928 Q2218.7 184.928 2216.24 185.692 Q2213.81 186.455 2211.04 188.006 L2211.04 183.284 Q2213.86 182.15 2216.31 181.571 Q2218.77 180.993 2220.8 180.993 Q2226.17 180.993 2229.37 183.678 Q2232.56 186.363 2232.56 190.854 Q2232.56 192.983 2231.75 194.905 Q2230.97 196.803 2228.86 199.395 Q2228.28 200.067 2225.18 203.284 Q2222.08 206.479 2216.43 212.242 Z\" fill=\"#000000\" fill-rule=\"evenodd\" fill-opacity=\"1\" /></svg>\n"
      ]
     },
     "execution_count": 196,
     "metadata": {},
     "output_type": "execute_result"
    }
   ],
   "source": [
    "sort!(eps_res_sens,:Emissions)\n",
    "plot(eps_res_sens[!,:Emissions],eps_res_sens[!,:Resource_Use],color=\"red\")\n",
    "plot!(eps_res_sens[!,:Emissions],eps_res_sens[!,:Resource_Use], seriestype = :scatter, color=\"red\")"
   ]
  },
  {
   "cell_type": "code",
   "execution_count": 197,
   "id": "58d87806-1906-4fa1-89a0-1e49a44c04d2",
   "metadata": {},
   "outputs": [
    {
     "data": {
      "text/html": [
       "<div class=\"data-frame\"><p>11 rows × 3 columns</p><table class=\"data-frame\"><thead><tr><th></th><th>Emissions</th><th>Resource_Use</th><th>Perturbations</th></tr><tr><th></th><th title=\"Float64\">Float64</th><th title=\"Float64\">Float64</th><th title=\"String\">String</th></tr></thead><tbody><tr><th>1</th><td>595.525</td><td>1246.92</td><td>Syngas Production ---- Syngas | Methanol Manufacture ---- Methanol  | Steam Cracker ---- Ethylene  | Steam Cracker ---- Butadiene  | Urea Synthesis ---- Urea  | Catalytic Reformer ---- Toluene  | Catalytic Reformer ---- Xylene  | Catalytic Reformer ---- Gasoline Additives |  |  | Urea Synthesis ---- Syngas | PTA Production ---- Xylene  | </td></tr><tr><th>2</th><td>595.975</td><td>1238.82</td><td>Syngas Production ---- Syngas | Steam Cracker ---- Ethylene  | Steam Cracker ---- Butadiene  | Urea Synthesis ---- Urea  | PP Manufacture ---- Polypropylene  | PET Production ---- Polyethylene Terephthalate (PET) |  |  | Urea Synthesis ---- Syngas | Formaldehyde production ---- Methanol  | </td></tr><tr><th>3</th><td>595.975</td><td>1238.82</td><td>Syngas Production ---- Syngas | Methanol Manufacture ---- Methanol  | Steam Cracker ---- Butadiene  | Urea Synthesis ---- Urea  | PP Manufacture ---- Polypropylene  | PET Production ---- Polyethylene Terephthalate (PET) |  |  | Methanol Manufacture ---- Syngas | Urea Synthesis ---- Syngas | Formaldehyde production ---- Methanol  | </td></tr><tr><th>4</th><td>596.344</td><td>1235.51</td><td>Syngas Production ---- Syngas | Methanol Manufacture ---- Methanol  | Steam Cracker ---- Ethylene  | Steam Cracker ---- Butadiene  | Urea Synthesis ---- Urea  | PP Manufacture ---- Polypropylene  | PET Production ---- Polyethylene Terephthalate (PET) |  |  | Methanol Manufacture ---- Syngas | Urea Synthesis ---- Syngas | Formaldehyde production ---- Methanol  | </td></tr><tr><th>5</th><td>596.63</td><td>1230.13</td><td>Syngas Production ---- Syngas | Methanol Manufacture ---- Methanol  | Steam Cracker ---- Ethylene  | Steam Cracker ---- Propylene  | Steam Cracker ---- Butadiene  | Urea Synthesis ---- Urea  | PP Manufacture ---- Polypropylene  | PET Production ---- Polyethylene Terephthalate (PET) |  |  | Methanol Manufacture ---- Syngas | Urea Synthesis ---- Syngas | </td></tr><tr><th>6</th><td>596.913</td><td>1226.28</td><td>Syngas Production ---- Syngas | Methanol Manufacture ---- Methanol  | Steam Cracker ---- Ethylene  | Steam Cracker ---- Butadiene  | Urea Synthesis ---- Urea  | PTA Production ---- Terephthalic Acid (PTA)  | PET Production ---- Polyethylene Terephthalate (PET) | Catalytic Reformer ---- Toluene  | Catalytic Reformer ---- Gasoline Additives |  |  | Urea Synthesis ---- Syngas | </td></tr><tr><th>7</th><td>597.154</td><td>1224.09</td><td>Syngas Production ---- Syngas | Methanol Manufacture ---- Methanol  | Steam Cracker ---- Ethylene  | Steam Cracker ---- Butadiene  | Urea Synthesis ---- Urea  | PTA Production ---- Terephthalic Acid (PTA)  | PET Production ---- Polyethylene Terephthalate (PET) | Catalytic Reformer ---- Toluene  | Catalytic Reformer ---- Gasoline Additives |  |  | Urea Synthesis ---- Syngas | </td></tr><tr><th>8</th><td>597.574</td><td>1220.29</td><td>Syngas Production ---- Syngas | Methanol Manufacture ---- Methanol  | Steam Cracker ---- Ethylene  | Steam Cracker ---- Butadiene  | Urea Synthesis ---- Urea  | PTA Production ---- Terephthalic Acid (PTA)  | PET Production ---- Polyethylene Terephthalate (PET) |  |  | Urea Synthesis ---- Syngas | </td></tr><tr><th>9</th><td>597.995</td><td>1216.48</td><td>Syngas Production ---- Syngas | Methanol Manufacture ---- Methanol  | Steam Cracker ---- Ethylene  | Steam Cracker ---- Butadiene  | Urea Synthesis ---- Urea  | PTA Production ---- Terephthalic Acid (PTA)  | PET Production ---- Polyethylene Terephthalate (PET) | Catalytic Reformer ---- Toluene  | Catalytic Reformer ---- Gasoline Additives |  |  | Urea Synthesis ---- Syngas | </td></tr><tr><th>10</th><td>598.416</td><td>1212.68</td><td>Syngas Production ---- Syngas | Methanol Manufacture ---- Methanol  | Steam Cracker ---- Ethylene  | Steam Cracker ---- Butadiene  | Urea Synthesis ---- Urea  | PET Production ---- Polyethylene Terephthalate (PET) | Catalytic Reformer ---- Toluene  | Catalytic Reformer ---- Gasoline Additives |  |  | Urea Synthesis ---- Syngas | </td></tr><tr><th>11</th><td>602.205</td><td>1208.87</td><td>Syngas Production ---- Syngas | Methanol Manufacture ---- Methanol  | Steam Cracker ---- Ethylene  | Steam Cracker ---- Butadiene  | Urea Synthesis ---- Urea  | Catalytic Reformer ---- Toluene  | Catalytic Reformer ---- Xylene  | Catalytic Reformer ---- Gasoline Additives |  |  | Urea Synthesis ---- Syngas | PTA Production ---- Xylene  | </td></tr></tbody></table></div>"
      ],
      "text/latex": [
       "\\begin{tabular}{r|ccc}\n",
       "\t& Emissions & Resource\\_Use & Perturbations\\\\\n",
       "\t\\hline\n",
       "\t& Float64 & Float64 & String\\\\\n",
       "\t\\hline\n",
       "\t1 & 595.525 & 1246.92 & Syngas Production ---- Syngas | Methanol Manufacture ---- Methanol  | Steam Cracker ---- Ethylene  | Steam Cracker ---- Butadiene  | Urea Synthesis ---- Urea  | Catalytic Reformer ---- Toluene  | Catalytic Reformer ---- Xylene  | Catalytic Reformer ---- Gasoline Additives |  |  | Urea Synthesis ---- Syngas | PTA Production ---- Xylene  |  \\\\\n",
       "\t2 & 595.975 & 1238.82 & Syngas Production ---- Syngas | Steam Cracker ---- Ethylene  | Steam Cracker ---- Butadiene  | Urea Synthesis ---- Urea  | PP Manufacture ---- Polypropylene  | PET Production ---- Polyethylene Terephthalate (PET) |  |  | Urea Synthesis ---- Syngas | Formaldehyde production ---- Methanol  |  \\\\\n",
       "\t3 & 595.975 & 1238.82 & Syngas Production ---- Syngas | Methanol Manufacture ---- Methanol  | Steam Cracker ---- Butadiene  | Urea Synthesis ---- Urea  | PP Manufacture ---- Polypropylene  | PET Production ---- Polyethylene Terephthalate (PET) |  |  | Methanol Manufacture ---- Syngas | Urea Synthesis ---- Syngas | Formaldehyde production ---- Methanol  |  \\\\\n",
       "\t4 & 596.344 & 1235.51 & Syngas Production ---- Syngas | Methanol Manufacture ---- Methanol  | Steam Cracker ---- Ethylene  | Steam Cracker ---- Butadiene  | Urea Synthesis ---- Urea  | PP Manufacture ---- Polypropylene  | PET Production ---- Polyethylene Terephthalate (PET) |  |  | Methanol Manufacture ---- Syngas | Urea Synthesis ---- Syngas | Formaldehyde production ---- Methanol  |  \\\\\n",
       "\t5 & 596.63 & 1230.13 & Syngas Production ---- Syngas | Methanol Manufacture ---- Methanol  | Steam Cracker ---- Ethylene  | Steam Cracker ---- Propylene  | Steam Cracker ---- Butadiene  | Urea Synthesis ---- Urea  | PP Manufacture ---- Polypropylene  | PET Production ---- Polyethylene Terephthalate (PET) |  |  | Methanol Manufacture ---- Syngas | Urea Synthesis ---- Syngas |  \\\\\n",
       "\t6 & 596.913 & 1226.28 & Syngas Production ---- Syngas | Methanol Manufacture ---- Methanol  | Steam Cracker ---- Ethylene  | Steam Cracker ---- Butadiene  | Urea Synthesis ---- Urea  | PTA Production ---- Terephthalic Acid (PTA)  | PET Production ---- Polyethylene Terephthalate (PET) | Catalytic Reformer ---- Toluene  | Catalytic Reformer ---- Gasoline Additives |  |  | Urea Synthesis ---- Syngas |  \\\\\n",
       "\t7 & 597.154 & 1224.09 & Syngas Production ---- Syngas | Methanol Manufacture ---- Methanol  | Steam Cracker ---- Ethylene  | Steam Cracker ---- Butadiene  | Urea Synthesis ---- Urea  | PTA Production ---- Terephthalic Acid (PTA)  | PET Production ---- Polyethylene Terephthalate (PET) | Catalytic Reformer ---- Toluene  | Catalytic Reformer ---- Gasoline Additives |  |  | Urea Synthesis ---- Syngas |  \\\\\n",
       "\t8 & 597.574 & 1220.29 & Syngas Production ---- Syngas | Methanol Manufacture ---- Methanol  | Steam Cracker ---- Ethylene  | Steam Cracker ---- Butadiene  | Urea Synthesis ---- Urea  | PTA Production ---- Terephthalic Acid (PTA)  | PET Production ---- Polyethylene Terephthalate (PET) |  |  | Urea Synthesis ---- Syngas |  \\\\\n",
       "\t9 & 597.995 & 1216.48 & Syngas Production ---- Syngas | Methanol Manufacture ---- Methanol  | Steam Cracker ---- Ethylene  | Steam Cracker ---- Butadiene  | Urea Synthesis ---- Urea  | PTA Production ---- Terephthalic Acid (PTA)  | PET Production ---- Polyethylene Terephthalate (PET) | Catalytic Reformer ---- Toluene  | Catalytic Reformer ---- Gasoline Additives |  |  | Urea Synthesis ---- Syngas |  \\\\\n",
       "\t10 & 598.416 & 1212.68 & Syngas Production ---- Syngas | Methanol Manufacture ---- Methanol  | Steam Cracker ---- Ethylene  | Steam Cracker ---- Butadiene  | Urea Synthesis ---- Urea  | PET Production ---- Polyethylene Terephthalate (PET) | Catalytic Reformer ---- Toluene  | Catalytic Reformer ---- Gasoline Additives |  |  | Urea Synthesis ---- Syngas |  \\\\\n",
       "\t11 & 602.205 & 1208.87 & Syngas Production ---- Syngas | Methanol Manufacture ---- Methanol  | Steam Cracker ---- Ethylene  | Steam Cracker ---- Butadiene  | Urea Synthesis ---- Urea  | Catalytic Reformer ---- Toluene  | Catalytic Reformer ---- Xylene  | Catalytic Reformer ---- Gasoline Additives |  |  | Urea Synthesis ---- Syngas | PTA Production ---- Xylene  |  \\\\\n",
       "\\end{tabular}\n"
      ],
      "text/plain": [
       "\u001b[1m11×3 DataFrame\u001b[0m\n",
       "\u001b[1m Row \u001b[0m│\u001b[1m Emissions \u001b[0m\u001b[1m Resource_Use \u001b[0m\u001b[1m Perturbations                     \u001b[0m\n",
       "\u001b[1m     \u001b[0m│\u001b[90m Float64   \u001b[0m\u001b[90m Float64      \u001b[0m\u001b[90m String                            \u001b[0m\n",
       "─────┼────────────────────────────────────────────────────────────\n",
       "   1 │   595.525       1246.92  Syngas Production ---- Syngas | …\n",
       "   2 │   595.975       1238.82  Syngas Production ---- Syngas | …\n",
       "   3 │   595.975       1238.82  Syngas Production ---- Syngas | …\n",
       "   4 │   596.344       1235.51  Syngas Production ---- Syngas | …\n",
       "   5 │   596.63        1230.13  Syngas Production ---- Syngas | …\n",
       "   6 │   596.913       1226.28  Syngas Production ---- Syngas | …\n",
       "   7 │   597.154       1224.09  Syngas Production ---- Syngas | …\n",
       "   8 │   597.574       1220.29  Syngas Production ---- Syngas | …\n",
       "   9 │   597.995       1216.48  Syngas Production ---- Syngas | …\n",
       "  10 │   598.416       1212.68  Syngas Production ---- Syngas | …\n",
       "  11 │   602.205       1208.87  Syngas Production ---- Syngas | …"
      ]
     },
     "execution_count": 197,
     "metadata": {},
     "output_type": "execute_result"
    }
   ],
   "source": [
    "eps_res_sens"
   ]
  },
  {
   "cell_type": "code",
   "execution_count": null,
   "id": "e29b1cec-c608-46ac-b1b8-6b1915240418",
   "metadata": {},
   "outputs": [],
   "source": []
  }
 ],
 "metadata": {
  "kernelspec": {
   "display_name": "Julia 1.6.3",
   "language": "julia",
   "name": "julia-1.6"
  },
  "language_info": {
   "file_extension": ".jl",
   "mimetype": "application/julia",
   "name": "julia",
   "version": "1.6.3"
  }
 },
 "nbformat": 4,
 "nbformat_minor": 5
}
