{
 "cells": [
  {
   "cell_type": "code",
   "execution_count": 1,
   "id": "425d6aca-6cae-4e3e-8fe6-51400e6b07c8",
   "metadata": {},
   "outputs": [],
   "source": [
    "using JuMP\n",
    "using CSV\n",
    "using LinearAlgebra\n",
    "using DataFrames\n",
    "using BARON"
   ]
  },
  {
   "cell_type": "code",
   "execution_count": 3,
   "id": "42cf6db4-252b-492a-aa14-4230170345d4",
   "metadata": {},
   "outputs": [
    {
     "data": {
      "text/plain": [
       "30-element Vector{String63}:\n",
       " \"Methanol \"\n",
       " \"Ethylene \"\n",
       " \"Propylene \"\n",
       " \"Toluene \"\n",
       " \"Benzene \"\n",
       " \"Xylene \"\n",
       " \"Butene \"\n",
       " \"Propane \"\n",
       " \"Syngas\"\n",
       " \"Urea \"\n",
       " \"Acrylonitrile\"\n",
       " \"Cyclohexane \"\n",
       " \"Caprolactam \"\n",
       " ⋮\n",
       " \"Vinyl chloride Monomer \"\n",
       " \"Polypropylene \"\n",
       " \"Styrene \"\n",
       " \"Ethylene glycol \"\n",
       " \"Terephthalic Acid (PTA) \"\n",
       " \"Polyethylene Terephthalate (PET)\"\n",
       " \"Propylene Oxide \"\n",
       " \"Butadiene \"\n",
       " \"Acetic Acid \"\n",
       " \"Formaldehyde \"\n",
       " \"Adipic Acid\"\n",
       " \"Gasoline Additives\""
      ]
     },
     "execution_count": 3,
     "metadata": {},
     "output_type": "execute_result"
    }
   ],
   "source": [
    "A_db = CSV.File(\"./A_mat_new.csv\",header=1,delim=\",\") |> DataFrame\n",
    "B_db = CSV.File(\"./B_mat_new.csv\",header=1,delim=\",\") |> DataFrame\n",
    "f_db = CSV.File(\"./f_val_new.csv\",header=1,delim=\",\") |> DataFrame\n",
    "f_val=f_db[!,2]\n",
    "A_mat=Matrix(A_db[:,2:size(A_db,2)])\n",
    "B_mat=Matrix(B_db[:,2:size(B_db,2)])\n",
    "nodes_val=names(A_db)[2:size(A_db,2)]\n",
    "product_val=A_db[!,1]"
   ]
  },
  {
   "cell_type": "code",
   "execution_count": 4,
   "id": "1bd87ef0-99db-4b39-8987-226e8f4af1b7",
   "metadata": {},
   "outputs": [
    {
     "data": {
      "text/html": [
       "<div class=\"data-frame\"><p>9 rows × 28 columns (omitted printing of 23 columns)</p><table class=\"data-frame\"><thead><tr><th></th><th>Column1</th><th>Syngas Production</th><th>Methanol Manufacture</th><th>Steam Cracker</th><th>Hydrodealkylation (THD)</th></tr><tr><th></th><th title=\"String31\">String31</th><th title=\"Float64\">Float64</th><th title=\"Float64\">Float64</th><th title=\"Float64\">Float64</th><th title=\"Float64\">Float64</th></tr></thead><tbody><tr><th>1</th><td>Coal</td><td>-55.6882</td><td>-25.4601</td><td>0.0</td><td>0.0</td></tr><tr><th>2</th><td>Natural Gas</td><td>-52.8947</td><td>-24.0426</td><td>-62.8951</td><td>0.0</td></tr><tr><th>3</th><td>Waste</td><td>20.7175</td><td>11.981</td><td>15.6427</td><td>0.251672</td></tr><tr><th>4</th><td>Environment</td><td>31.7886</td><td>13.2328</td><td>0.0</td><td>0.942308</td></tr><tr><th>5</th><td>Oil</td><td>0.0</td><td>-6.29662</td><td>-241.801</td><td>0.0</td></tr><tr><th>6</th><td>Limestone </td><td>0.0</td><td>0.0</td><td>0.0</td><td>0.0</td></tr><tr><th>7</th><td>Coal Energy</td><td>-59.4291</td><td>-18.6662</td><td>-87.5141</td><td>-0.584625</td></tr><tr><th>8</th><td>NG Energy</td><td>-31.7968</td><td>-9.98711</td><td>0.0</td><td>-0.312796</td></tr><tr><th>9</th><td>Environment Energy</td><td>91.2258</td><td>28.6533</td><td>87.5141</td><td>0.897421</td></tr></tbody></table></div>"
      ],
      "text/latex": [
       "\\begin{tabular}{r|cccccc}\n",
       "\t& Column1 & Syngas Production & Methanol Manufacture & Steam Cracker & Hydrodealkylation (THD) & \\\\\n",
       "\t\\hline\n",
       "\t& String31 & Float64 & Float64 & Float64 & Float64 & \\\\\n",
       "\t\\hline\n",
       "\t1 & Coal & -55.6882 & -25.4601 & 0.0 & 0.0 & $\\dots$ \\\\\n",
       "\t2 & Natural Gas & -52.8947 & -24.0426 & -62.8951 & 0.0 & $\\dots$ \\\\\n",
       "\t3 & Waste & 20.7175 & 11.981 & 15.6427 & 0.251672 & $\\dots$ \\\\\n",
       "\t4 & Environment & 31.7886 & 13.2328 & 0.0 & 0.942308 & $\\dots$ \\\\\n",
       "\t5 & Oil & 0.0 & -6.29662 & -241.801 & 0.0 & $\\dots$ \\\\\n",
       "\t6 & Limestone  & 0.0 & 0.0 & 0.0 & 0.0 & $\\dots$ \\\\\n",
       "\t7 & Coal Energy & -59.4291 & -18.6662 & -87.5141 & -0.584625 & $\\dots$ \\\\\n",
       "\t8 & NG Energy & -31.7968 & -9.98711 & 0.0 & -0.312796 & $\\dots$ \\\\\n",
       "\t9 & Environment Energy & 91.2258 & 28.6533 & 87.5141 & 0.897421 & $\\dots$ \\\\\n",
       "\\end{tabular}\n"
      ],
      "text/plain": [
       "\u001b[1m9×28 DataFrame\u001b[0m\n",
       "\u001b[1m Row \u001b[0m│\u001b[1m Column1            \u001b[0m\u001b[1m Syngas Production \u001b[0m\u001b[1m Methanol Manufacture \u001b[0m\u001b[1m Steam Crac\u001b[0m ⋯\n",
       "\u001b[1m     \u001b[0m│\u001b[90m String31           \u001b[0m\u001b[90m Float64           \u001b[0m\u001b[90m Float64              \u001b[0m\u001b[90m Float64   \u001b[0m ⋯\n",
       "─────┼──────────────────────────────────────────────────────────────────────────\n",
       "   1 │ Coal                         -55.6882             -25.4601          0.0 ⋯\n",
       "   2 │ Natural Gas                  -52.8947             -24.0426        -62.8\n",
       "   3 │ Waste                         20.7175              11.981          15.6\n",
       "   4 │ Environment                   31.7886              13.2328          0.0\n",
       "   5 │ Oil                            0.0                 -6.29662      -241.8 ⋯\n",
       "   6 │ Limestone                      0.0                  0.0             0.0\n",
       "   7 │ Coal Energy                  -59.4291             -18.6662        -87.5\n",
       "   8 │ NG Energy                    -31.7968              -9.98711         0.0\n",
       "   9 │ Environment Energy            91.2258              28.6533         87.5 ⋯\n",
       "\u001b[36m                                                              25 columns omitted\u001b[0m"
      ]
     },
     "execution_count": 4,
     "metadata": {},
     "output_type": "execute_result"
    }
   ],
   "source": [
    "B_db"
   ]
  },
  {
   "cell_type": "code",
   "execution_count": 15,
   "id": "ccd8f1e8-9b66-40a7-b5f4-aff98f3479af",
   "metadata": {},
   "outputs": [
    {
     "data": {
      "text/plain": [
       "opt_decarb (generic function with 1 method)"
      ]
     },
     "execution_count": 15,
     "metadata": {},
     "output_type": "execute_result"
    }
   ],
   "source": [
    "function opt_decarb()\n",
    "    dcrb =  Model(BARON.Optimizer)\n",
    "    @variable(dcrb,s[j=1:size(A_mat,2)] ≥ 0)\n",
    "    @variable(dcrb,f[i=1:size(A_mat,1)] ≥ 0 )\n",
    "    @variable(dcrb,g[k=1:size(B_mat,1)])\n",
    "    @constraint(dcrb,[i=1:size(A_mat,1)],f[i] ≥ f_val[i]/2)\n",
    "    @constraint(dcrb,[i=1:size(A_mat,1)], f[i]==sum(A_mat[i,j]*s[j] for j in 1:size(A_mat,2)))\n",
    "    @constraint(dcrb,[k=1:size(B_mat,1)],g[k]==sum(B_mat[k,j]*s[j] for j in 1:size(B_mat,2)))\n",
    "    @variable(dcrb,obj)\n",
    "    @constraint(dcrb,obj==sum(g[k] for k in 3:4)+g[9])\n",
    "    @objective(dcrb,Min,obj)\n",
    "    optimize!(dcrb)\n",
    "    return JuMP.value.(s),JuMP.value.(f),JuMP.value.(obj)\n",
    "end\n",
    "    "
   ]
  },
  {
   "cell_type": "code",
   "execution_count": 16,
   "id": "1d0ac4af-21cf-4ca8-9f37-30b48e73a27e",
   "metadata": {},
   "outputs": [
    {
     "name": "stdout",
     "output_type": "stream",
     "text": [
      "===========================================================================\n",
      " BARON version 21.1.13. Built: LNX-64 Wed Jan 13 16:09:31 EST 2021\n",
      "\n",
      " BARON is a product of The Optimization Firm.\n",
      " For information on BARON, see https://minlp.com/about-baron\n",
      " Licensee: Bhavik R. Bakshi at The Ohio State University, bakshi.2@osu.edu.\n",
      "\n",
      " If you use this software, please cite publications from\n",
      " https://minlp.com/baron-publications, such as: \n",
      "\n",
      " Khajavirad, A. and N. V. Sahinidis,\n",
      " A hybrid LP/NLP paradigm for global optimization relaxations,\n",
      " Mathematical Programming Computation, 10, 383-421, 2018.\n",
      "===========================================================================\n",
      " This BARON run may utilize the following subsolver(s)\n",
      " For LP/MIP/QP: CLP/CBC                                         \n",
      " For NLP: IPOPT, FILTERSD, FILTERSQP\n",
      "===========================================================================\n",
      " Solving bounding LP\n",
      " Preprocessing found feasible solution with value  335.774356936     \n",
      " Problem solved during preprocessing\n",
      " Lower bound is  335.774356936     \n",
      "\n",
      " Calculating duals\n",
      "\n",
      "                         *** Normal completion ***            \n",
      "\n",
      " Wall clock time:                     0.01\n",
      " Total CPU time used:                 0.00\n",
      "\n",
      " Total no. of BaR iterations:      -1\n",
      " Best solution found at node:      -1\n",
      " Max. no. of nodes in memory:       0\n",
      " \n",
      " All done\n",
      "===========================================================================\n",
      " Unable to find/load CPLEX library libcplex.so: cannot open shared object file: No such file or directory\n",
      " Unable to find/load CPLEX library libcplex2010.so: cannot open shared object file: No such file or directory\n"
     ]
    },
    {
     "data": {
      "text/plain": [
       "([0.4999999999643346, 0.5, 0.5045278323344176, 0.46810720914193826, 0.5347892315026733, 0.9790446607729414, 0.0, 0.9790446607729415, 0.5, 0.5  …  0.5000000000000001, 0.4999999999999999, 0.5, 0.5, 0.5, 0.5000000000000001, 0.5, 0.5, 0.5000000000000001, 0.5], [12.945509024, 20.127333526, 0.377063157500004, 21.4456166735, 5.2862515295, 6.66562665054647, 0.0, 6.01161903004908, 0.0, 21.8  …  7.33846154, 3.2601290315, 4.667566265, 20.965641665, 3.4758620690000006, 9.982769123822573, 3.6, 4.173, 0.9616438355000001, 104.55992055], 335.77435693558664)"
      ]
     },
     "execution_count": 16,
     "metadata": {},
     "output_type": "execute_result"
    }
   ],
   "source": [
    "s,f,obj=opt_decarb()"
   ]
  },
  {
   "cell_type": "code",
   "execution_count": 17,
   "id": "78da24b6-fcc4-4454-9d3c-7c54507d925c",
   "metadata": {},
   "outputs": [
    {
     "data": {
      "text/plain": [
       "335.77435693558664"
      ]
     },
     "execution_count": 17,
     "metadata": {},
     "output_type": "execute_result"
    }
   ],
   "source": [
    "obj"
   ]
  },
  {
   "cell_type": "code",
   "execution_count": 18,
   "id": "3bdc9ca8-b842-40a2-91ba-c2f6693b6e76",
   "metadata": {},
   "outputs": [
    {
     "data": {
      "text/html": [
       "<div class=\"data-frame\"><p>27 rows × 2 columns</p><table class=\"data-frame\"><thead><tr><th></th><th>node</th><th>scaling_factor</th></tr><tr><th></th><th title=\"String\">String</th><th title=\"Float64\">Float64</th></tr></thead><tbody><tr><th>1</th><td>Syngas Production</td><td>0.5</td></tr><tr><th>2</th><td>Methanol Manufacture</td><td>0.5</td></tr><tr><th>3</th><td>Steam Cracker</td><td>0.504528</td></tr><tr><th>4</th><td>Hydrodealkylation (THD)</td><td>0.468107</td></tr><tr><th>5</th><td>Disproportionation (TDP)</td><td>0.534789</td></tr><tr><th>6</th><td>Metathesis</td><td>0.979045</td></tr><tr><th>7</th><td>Dehydrogenation</td><td>0.0</td></tr><tr><th>8</th><td>Refinery</td><td>0.979045</td></tr><tr><th>9</th><td>Urea Synthesis</td><td>0.5</td></tr><tr><th>10</th><td>SOHIO Process</td><td>0.5</td></tr><tr><th>11</th><td>Caprolactam Manufacture</td><td>0.5</td></tr><tr><th>12</th><td>Cumene Production</td><td>0.5</td></tr><tr><th>13</th><td>Hock&apos;s Process</td><td>0.5</td></tr><tr><th>14</th><td>PE Manufacture</td><td>0.5</td></tr><tr><th>15</th><td>PVC Manufacture</td><td>0.5</td></tr><tr><th>16</th><td>VC Production</td><td>0.5</td></tr><tr><th>17</th><td>PP Manufacture</td><td>0.5</td></tr><tr><th>18</th><td>Styrene production</td><td>0.5</td></tr><tr><th>19</th><td>EG Production</td><td>0.5</td></tr><tr><th>20</th><td>PTA Production</td><td>0.5</td></tr><tr><th>21</th><td>PET Production</td><td>0.5</td></tr><tr><th>22</th><td>Propylene Oxide Production</td><td>0.5</td></tr><tr><th>23</th><td>Acetic acid production</td><td>0.5</td></tr><tr><th>24</th><td>Formaldehyde production</td><td>0.5</td></tr><tr><th>25</th><td>Cyclohexane Production</td><td>0.5</td></tr><tr><th>26</th><td>Adipic Acid Production</td><td>0.5</td></tr><tr><th>27</th><td>Catalytic Reformer</td><td>0.5</td></tr></tbody></table></div>"
      ],
      "text/latex": [
       "\\begin{tabular}{r|cc}\n",
       "\t& node & scaling\\_factor\\\\\n",
       "\t\\hline\n",
       "\t& String & Float64\\\\\n",
       "\t\\hline\n",
       "\t1 & Syngas Production & 0.5 \\\\\n",
       "\t2 & Methanol Manufacture & 0.5 \\\\\n",
       "\t3 & Steam Cracker & 0.504528 \\\\\n",
       "\t4 & Hydrodealkylation (THD) & 0.468107 \\\\\n",
       "\t5 & Disproportionation (TDP) & 0.534789 \\\\\n",
       "\t6 & Metathesis & 0.979045 \\\\\n",
       "\t7 & Dehydrogenation & 0.0 \\\\\n",
       "\t8 & Refinery & 0.979045 \\\\\n",
       "\t9 & Urea Synthesis & 0.5 \\\\\n",
       "\t10 & SOHIO Process & 0.5 \\\\\n",
       "\t11 & Caprolactam Manufacture & 0.5 \\\\\n",
       "\t12 & Cumene Production & 0.5 \\\\\n",
       "\t13 & Hock's Process & 0.5 \\\\\n",
       "\t14 & PE Manufacture & 0.5 \\\\\n",
       "\t15 & PVC Manufacture & 0.5 \\\\\n",
       "\t16 & VC Production & 0.5 \\\\\n",
       "\t17 & PP Manufacture & 0.5 \\\\\n",
       "\t18 & Styrene production & 0.5 \\\\\n",
       "\t19 & EG Production & 0.5 \\\\\n",
       "\t20 & PTA Production & 0.5 \\\\\n",
       "\t21 & PET Production & 0.5 \\\\\n",
       "\t22 & Propylene Oxide Production & 0.5 \\\\\n",
       "\t23 & Acetic acid production & 0.5 \\\\\n",
       "\t24 & Formaldehyde production & 0.5 \\\\\n",
       "\t25 & Cyclohexane Production & 0.5 \\\\\n",
       "\t26 & Adipic Acid Production & 0.5 \\\\\n",
       "\t27 & Catalytic Reformer & 0.5 \\\\\n",
       "\\end{tabular}\n"
      ],
      "text/plain": [
       "\u001b[1m27×2 DataFrame\u001b[0m\n",
       "\u001b[1m Row \u001b[0m│\u001b[1m node                       \u001b[0m\u001b[1m scaling_factor \u001b[0m\n",
       "\u001b[1m     \u001b[0m│\u001b[90m String                     \u001b[0m\u001b[90m Float64        \u001b[0m\n",
       "─────┼────────────────────────────────────────────\n",
       "   1 │ Syngas Production                 0.5\n",
       "   2 │ Methanol Manufacture              0.5\n",
       "   3 │ Steam Cracker                     0.504528\n",
       "   4 │ Hydrodealkylation (THD)           0.468107\n",
       "   5 │ Disproportionation (TDP)          0.534789\n",
       "   6 │ Metathesis                        0.979045\n",
       "   7 │ Dehydrogenation                   0.0\n",
       "   8 │ Refinery                          0.979045\n",
       "   9 │ Urea Synthesis                    0.5\n",
       "  10 │ SOHIO Process                     0.5\n",
       "  11 │ Caprolactam Manufacture           0.5\n",
       "  ⋮  │             ⋮                     ⋮\n",
       "  18 │ Styrene production                0.5\n",
       "  19 │ EG Production                     0.5\n",
       "  20 │ PTA Production                    0.5\n",
       "  21 │ PET Production                    0.5\n",
       "  22 │ Propylene Oxide Production        0.5\n",
       "  23 │ Acetic acid production            0.5\n",
       "  24 │ Formaldehyde production           0.5\n",
       "  25 │ Cyclohexane Production            0.5\n",
       "  26 │ Adipic Acid Production            0.5\n",
       "  27 │ Catalytic Reformer                0.5\n",
       "\u001b[36m                                    6 rows omitted\u001b[0m"
      ]
     },
     "execution_count": 18,
     "metadata": {},
     "output_type": "execute_result"
    }
   ],
   "source": [
    "res_f=DataFrame(pdt=product_val, final_demand=f)\n",
    "res_s=DataFrame(node=nodes_val, scaling_factor=s)"
   ]
  },
  {
   "cell_type": "code",
   "execution_count": 19,
   "id": "4f32aa0c-9d24-4c87-b338-ee60dcd648bb",
   "metadata": {},
   "outputs": [
    {
     "data": {
      "text/html": [
       "<div class=\"data-frame\"><p>30 rows × 2 columns</p><table class=\"data-frame\"><thead><tr><th></th><th>pdt</th><th>final_demand</th></tr><tr><th></th><th title=\"String63\">String63</th><th title=\"Float64\">Float64</th></tr></thead><tbody><tr><th>1</th><td>Methanol </td><td>12.9455</td></tr><tr><th>2</th><td>Ethylene </td><td>20.1273</td></tr><tr><th>3</th><td>Propylene </td><td>0.377063</td></tr><tr><th>4</th><td>Toluene </td><td>21.4456</td></tr><tr><th>5</th><td>Benzene </td><td>5.28625</td></tr><tr><th>6</th><td>Xylene </td><td>6.66563</td></tr><tr><th>7</th><td>Butene </td><td>0.0</td></tr><tr><th>8</th><td>Propane </td><td>6.01162</td></tr><tr><th>9</th><td>Syngas</td><td>0.0</td></tr><tr><th>10</th><td>Urea </td><td>21.8</td></tr><tr><th>11</th><td>Acrylonitrile</td><td>2.44528</td></tr><tr><th>12</th><td>Cyclohexane </td><td>0.0</td></tr><tr><th>13</th><td>Caprolactam </td><td>2.18672</td></tr><tr><th>14</th><td>Cumene </td><td>0.0</td></tr><tr><th>15</th><td>Phenol </td><td>1.3713</td></tr><tr><th>16</th><td>Acetone </td><td>2.74259</td></tr><tr><th>17</th><td>Polyethylene </td><td>42.8571</td></tr><tr><th>18</th><td>Polyvinyl chloride </td><td>9.32039</td></tr><tr><th>19</th><td>Vinyl chloride Monomer </td><td>0.0</td></tr><tr><th>20</th><td>Polypropylene </td><td>24.0</td></tr><tr><th>21</th><td>Styrene </td><td>7.33846</td></tr><tr><th>22</th><td>Ethylene glycol </td><td>3.26013</td></tr><tr><th>23</th><td>Terephthalic Acid (PTA) </td><td>4.66757</td></tr><tr><th>24</th><td>Polyethylene Terephthalate (PET)</td><td>20.9656</td></tr><tr><th>25</th><td>Propylene Oxide </td><td>3.47586</td></tr><tr><th>26</th><td>Butadiene </td><td>9.98277</td></tr><tr><th>27</th><td>Acetic Acid </td><td>3.6</td></tr><tr><th>28</th><td>Formaldehyde </td><td>4.173</td></tr><tr><th>29</th><td>Adipic Acid</td><td>0.961644</td></tr><tr><th>30</th><td>Gasoline Additives</td><td>104.56</td></tr></tbody></table></div>"
      ],
      "text/latex": [
       "\\begin{tabular}{r|cc}\n",
       "\t& pdt & final\\_demand\\\\\n",
       "\t\\hline\n",
       "\t& String63 & Float64\\\\\n",
       "\t\\hline\n",
       "\t1 & Methanol  & 12.9455 \\\\\n",
       "\t2 & Ethylene  & 20.1273 \\\\\n",
       "\t3 & Propylene  & 0.377063 \\\\\n",
       "\t4 & Toluene  & 21.4456 \\\\\n",
       "\t5 & Benzene  & 5.28625 \\\\\n",
       "\t6 & Xylene  & 6.66563 \\\\\n",
       "\t7 & Butene  & 0.0 \\\\\n",
       "\t8 & Propane  & 6.01162 \\\\\n",
       "\t9 & Syngas & 0.0 \\\\\n",
       "\t10 & Urea  & 21.8 \\\\\n",
       "\t11 & Acrylonitrile & 2.44528 \\\\\n",
       "\t12 & Cyclohexane  & 0.0 \\\\\n",
       "\t13 & Caprolactam  & 2.18672 \\\\\n",
       "\t14 & Cumene  & 0.0 \\\\\n",
       "\t15 & Phenol  & 1.3713 \\\\\n",
       "\t16 & Acetone  & 2.74259 \\\\\n",
       "\t17 & Polyethylene  & 42.8571 \\\\\n",
       "\t18 & Polyvinyl chloride  & 9.32039 \\\\\n",
       "\t19 & Vinyl chloride Monomer  & 0.0 \\\\\n",
       "\t20 & Polypropylene  & 24.0 \\\\\n",
       "\t21 & Styrene  & 7.33846 \\\\\n",
       "\t22 & Ethylene glycol  & 3.26013 \\\\\n",
       "\t23 & Terephthalic Acid (PTA)  & 4.66757 \\\\\n",
       "\t24 & Polyethylene Terephthalate (PET) & 20.9656 \\\\\n",
       "\t25 & Propylene Oxide  & 3.47586 \\\\\n",
       "\t26 & Butadiene  & 9.98277 \\\\\n",
       "\t27 & Acetic Acid  & 3.6 \\\\\n",
       "\t28 & Formaldehyde  & 4.173 \\\\\n",
       "\t29 & Adipic Acid & 0.961644 \\\\\n",
       "\t30 & Gasoline Additives & 104.56 \\\\\n",
       "\\end{tabular}\n"
      ],
      "text/plain": [
       "\u001b[1m30×2 DataFrame\u001b[0m\n",
       "\u001b[1m Row \u001b[0m│\u001b[1m pdt                              \u001b[0m\u001b[1m final_demand \u001b[0m\n",
       "\u001b[1m     \u001b[0m│\u001b[90m String63                         \u001b[0m\u001b[90m Float64      \u001b[0m\n",
       "─────┼────────────────────────────────────────────────\n",
       "   1 │ Methanol                             12.9455\n",
       "   2 │ Ethylene                             20.1273\n",
       "   3 │ Propylene                             0.377063\n",
       "   4 │ Toluene                              21.4456\n",
       "   5 │ Benzene                               5.28625\n",
       "   6 │ Xylene                                6.66563\n",
       "   7 │ Butene                                0.0\n",
       "   8 │ Propane                               6.01162\n",
       "   9 │ Syngas                                0.0\n",
       "  10 │ Urea                                 21.8\n",
       "  11 │ Acrylonitrile                         2.44528\n",
       "  ⋮  │                ⋮                       ⋮\n",
       "  21 │ Styrene                               7.33846\n",
       "  22 │ Ethylene glycol                       3.26013\n",
       "  23 │ Terephthalic Acid (PTA)               4.66757\n",
       "  24 │ Polyethylene Terephthalate (PET)     20.9656\n",
       "  25 │ Propylene Oxide                       3.47586\n",
       "  26 │ Butadiene                             9.98277\n",
       "  27 │ Acetic Acid                           3.6\n",
       "  28 │ Formaldehyde                          4.173\n",
       "  29 │ Adipic Acid                           0.961644\n",
       "  30 │ Gasoline Additives                  104.56\n",
       "\u001b[36m                                        9 rows omitted\u001b[0m"
      ]
     },
     "execution_count": 19,
     "metadata": {},
     "output_type": "execute_result"
    }
   ],
   "source": [
    "res_f"
   ]
  },
  {
   "cell_type": "code",
   "execution_count": null,
   "id": "9ff3509f-13d6-4c21-9054-bc467b60bf67",
   "metadata": {},
   "outputs": [],
   "source": []
  },
  {
   "cell_type": "code",
   "execution_count": 20,
   "id": "d60a1112-e90b-4ad9-b656-f49de4268a8d",
   "metadata": {},
   "outputs": [
    {
     "data": {
      "text/html": [
       "<div class=\"data-frame\"><p>9 rows × 28 columns (omitted printing of 23 columns)</p><table class=\"data-frame\"><thead><tr><th></th><th>Column1</th><th>Syngas Production</th><th>Methanol Manufacture</th><th>Steam Cracker</th><th>Hydrodealkylation (THD)</th></tr><tr><th></th><th title=\"String31\">String31</th><th title=\"Float64\">Float64</th><th title=\"Float64\">Float64</th><th title=\"Float64\">Float64</th><th title=\"Float64\">Float64</th></tr></thead><tbody><tr><th>1</th><td>Coal</td><td>-55.6882</td><td>-25.4601</td><td>0.0</td><td>0.0</td></tr><tr><th>2</th><td>Natural Gas</td><td>-52.8947</td><td>-24.0426</td><td>-62.8951</td><td>0.0</td></tr><tr><th>3</th><td>Waste</td><td>20.7175</td><td>11.981</td><td>15.6427</td><td>0.251672</td></tr><tr><th>4</th><td>Environment</td><td>31.7886</td><td>13.2328</td><td>0.0</td><td>0.942308</td></tr><tr><th>5</th><td>Oil</td><td>0.0</td><td>-6.29662</td><td>-241.801</td><td>0.0</td></tr><tr><th>6</th><td>Limestone </td><td>0.0</td><td>0.0</td><td>0.0</td><td>0.0</td></tr><tr><th>7</th><td>Coal Energy</td><td>-59.4291</td><td>-18.6662</td><td>-87.5141</td><td>-0.584625</td></tr><tr><th>8</th><td>NG Energy</td><td>-31.7968</td><td>-9.98711</td><td>0.0</td><td>-0.312796</td></tr><tr><th>9</th><td>Environment Energy</td><td>91.2258</td><td>28.6533</td><td>87.5141</td><td>0.897421</td></tr></tbody></table></div>"
      ],
      "text/latex": [
       "\\begin{tabular}{r|cccccc}\n",
       "\t& Column1 & Syngas Production & Methanol Manufacture & Steam Cracker & Hydrodealkylation (THD) & \\\\\n",
       "\t\\hline\n",
       "\t& String31 & Float64 & Float64 & Float64 & Float64 & \\\\\n",
       "\t\\hline\n",
       "\t1 & Coal & -55.6882 & -25.4601 & 0.0 & 0.0 & $\\dots$ \\\\\n",
       "\t2 & Natural Gas & -52.8947 & -24.0426 & -62.8951 & 0.0 & $\\dots$ \\\\\n",
       "\t3 & Waste & 20.7175 & 11.981 & 15.6427 & 0.251672 & $\\dots$ \\\\\n",
       "\t4 & Environment & 31.7886 & 13.2328 & 0.0 & 0.942308 & $\\dots$ \\\\\n",
       "\t5 & Oil & 0.0 & -6.29662 & -241.801 & 0.0 & $\\dots$ \\\\\n",
       "\t6 & Limestone  & 0.0 & 0.0 & 0.0 & 0.0 & $\\dots$ \\\\\n",
       "\t7 & Coal Energy & -59.4291 & -18.6662 & -87.5141 & -0.584625 & $\\dots$ \\\\\n",
       "\t8 & NG Energy & -31.7968 & -9.98711 & 0.0 & -0.312796 & $\\dots$ \\\\\n",
       "\t9 & Environment Energy & 91.2258 & 28.6533 & 87.5141 & 0.897421 & $\\dots$ \\\\\n",
       "\\end{tabular}\n"
      ],
      "text/plain": [
       "\u001b[1m9×28 DataFrame\u001b[0m\n",
       "\u001b[1m Row \u001b[0m│\u001b[1m Column1            \u001b[0m\u001b[1m Syngas Production \u001b[0m\u001b[1m Methanol Manufacture \u001b[0m\u001b[1m Steam Crac\u001b[0m ⋯\n",
       "\u001b[1m     \u001b[0m│\u001b[90m String31           \u001b[0m\u001b[90m Float64           \u001b[0m\u001b[90m Float64              \u001b[0m\u001b[90m Float64   \u001b[0m ⋯\n",
       "─────┼──────────────────────────────────────────────────────────────────────────\n",
       "   1 │ Coal                         -55.6882             -25.4601          0.0 ⋯\n",
       "   2 │ Natural Gas                  -52.8947             -24.0426        -62.8\n",
       "   3 │ Waste                         20.7175              11.981          15.6\n",
       "   4 │ Environment                   31.7886              13.2328          0.0\n",
       "   5 │ Oil                            0.0                 -6.29662      -241.8 ⋯\n",
       "   6 │ Limestone                      0.0                  0.0             0.0\n",
       "   7 │ Coal Energy                  -59.4291             -18.6662        -87.5\n",
       "   8 │ NG Energy                    -31.7968              -9.98711         0.0\n",
       "   9 │ Environment Energy            91.2258              28.6533         87.5 ⋯\n",
       "\u001b[36m                                                              25 columns omitted\u001b[0m"
      ]
     },
     "execution_count": 20,
     "metadata": {},
     "output_type": "execute_result"
    }
   ],
   "source": [
    "B_db"
   ]
  },
  {
   "cell_type": "code",
   "execution_count": 21,
   "id": "14c60387-dc49-4c3d-b201-e6308834b981",
   "metadata": {},
   "outputs": [
    {
     "data": {
      "text/html": [
       "<div class=\"data-frame\"><p>30 rows × 2 columns</p><table class=\"data-frame\"><thead><tr><th></th><th>Product</th><th>Final Demands</th></tr><tr><th></th><th title=\"String63\">String63</th><th title=\"Float64\">Float64</th></tr></thead><tbody><tr><th>1</th><td>Methanol </td><td>25.891</td></tr><tr><th>2</th><td>Ethylene </td><td>40.2547</td></tr><tr><th>3</th><td>Propylene </td><td>0.754126</td></tr><tr><th>4</th><td>Toluene </td><td>42.8912</td></tr><tr><th>5</th><td>Benzene </td><td>10.5725</td></tr><tr><th>6</th><td>Xylene </td><td>12.9475</td></tr><tr><th>7</th><td>Butene </td><td>0.0</td></tr><tr><th>8</th><td>Propane </td><td>0.0</td></tr><tr><th>9</th><td>Syngas</td><td>4.0e-9</td></tr><tr><th>10</th><td>Urea </td><td>43.6</td></tr><tr><th>11</th><td>Acrylonitrile</td><td>4.89057</td></tr><tr><th>12</th><td>Cyclohexane </td><td>0.0</td></tr><tr><th>13</th><td>Caprolactam </td><td>4.37344</td></tr><tr><th>14</th><td>Cumene </td><td>0.0</td></tr><tr><th>15</th><td>Phenol </td><td>2.7426</td></tr><tr><th>16</th><td>Acetone </td><td>5.48518</td></tr><tr><th>17</th><td>Polyethylene </td><td>85.7143</td></tr><tr><th>18</th><td>Polyvinyl chloride </td><td>18.6408</td></tr><tr><th>19</th><td>Vinyl chloride Monomer </td><td>0.0</td></tr><tr><th>20</th><td>Polypropylene </td><td>48.0</td></tr><tr><th>21</th><td>Styrene </td><td>14.6769</td></tr><tr><th>22</th><td>Ethylene glycol </td><td>6.52026</td></tr><tr><th>23</th><td>Terephthalic Acid (PTA) </td><td>9.33513</td></tr><tr><th>24</th><td>Polyethylene Terephthalate (PET)</td><td>41.9313</td></tr><tr><th>25</th><td>Propylene Oxide </td><td>6.95172</td></tr><tr><th>26</th><td>Butadiene </td><td>19.7864</td></tr><tr><th>27</th><td>Acetic Acid </td><td>7.2</td></tr><tr><th>28</th><td>Formaldehyde </td><td>8.346</td></tr><tr><th>29</th><td>Adipic Acid</td><td>1.92329</td></tr><tr><th>30</th><td>Gasoline Additives</td><td>209.12</td></tr></tbody></table></div>"
      ],
      "text/latex": [
       "\\begin{tabular}{r|cc}\n",
       "\t& Product & Final Demands\\\\\n",
       "\t\\hline\n",
       "\t& String63 & Float64\\\\\n",
       "\t\\hline\n",
       "\t1 & Methanol  & 25.891 \\\\\n",
       "\t2 & Ethylene  & 40.2547 \\\\\n",
       "\t3 & Propylene  & 0.754126 \\\\\n",
       "\t4 & Toluene  & 42.8912 \\\\\n",
       "\t5 & Benzene  & 10.5725 \\\\\n",
       "\t6 & Xylene  & 12.9475 \\\\\n",
       "\t7 & Butene  & 0.0 \\\\\n",
       "\t8 & Propane  & 0.0 \\\\\n",
       "\t9 & Syngas & 4.0e-9 \\\\\n",
       "\t10 & Urea  & 43.6 \\\\\n",
       "\t11 & Acrylonitrile & 4.89057 \\\\\n",
       "\t12 & Cyclohexane  & 0.0 \\\\\n",
       "\t13 & Caprolactam  & 4.37344 \\\\\n",
       "\t14 & Cumene  & 0.0 \\\\\n",
       "\t15 & Phenol  & 2.7426 \\\\\n",
       "\t16 & Acetone  & 5.48518 \\\\\n",
       "\t17 & Polyethylene  & 85.7143 \\\\\n",
       "\t18 & Polyvinyl chloride  & 18.6408 \\\\\n",
       "\t19 & Vinyl chloride Monomer  & 0.0 \\\\\n",
       "\t20 & Polypropylene  & 48.0 \\\\\n",
       "\t21 & Styrene  & 14.6769 \\\\\n",
       "\t22 & Ethylene glycol  & 6.52026 \\\\\n",
       "\t23 & Terephthalic Acid (PTA)  & 9.33513 \\\\\n",
       "\t24 & Polyethylene Terephthalate (PET) & 41.9313 \\\\\n",
       "\t25 & Propylene Oxide  & 6.95172 \\\\\n",
       "\t26 & Butadiene  & 19.7864 \\\\\n",
       "\t27 & Acetic Acid  & 7.2 \\\\\n",
       "\t28 & Formaldehyde  & 8.346 \\\\\n",
       "\t29 & Adipic Acid & 1.92329 \\\\\n",
       "\t30 & Gasoline Additives & 209.12 \\\\\n",
       "\\end{tabular}\n"
      ],
      "text/plain": [
       "\u001b[1m30×2 DataFrame\u001b[0m\n",
       "\u001b[1m Row \u001b[0m│\u001b[1m Product                          \u001b[0m\u001b[1m Final Demands \u001b[0m\n",
       "\u001b[1m     \u001b[0m│\u001b[90m String63                         \u001b[0m\u001b[90m Float64       \u001b[0m\n",
       "─────┼─────────────────────────────────────────────────\n",
       "   1 │ Methanol                              25.891\n",
       "   2 │ Ethylene                              40.2547\n",
       "   3 │ Propylene                              0.754126\n",
       "   4 │ Toluene                               42.8912\n",
       "   5 │ Benzene                               10.5725\n",
       "   6 │ Xylene                                12.9475\n",
       "   7 │ Butene                                 0.0\n",
       "   8 │ Propane                                0.0\n",
       "   9 │ Syngas                                 4.0e-9\n",
       "  10 │ Urea                                  43.6\n",
       "  11 │ Acrylonitrile                          4.89057\n",
       "  ⋮  │                ⋮                        ⋮\n",
       "  21 │ Styrene                               14.6769\n",
       "  22 │ Ethylene glycol                        6.52026\n",
       "  23 │ Terephthalic Acid (PTA)                9.33513\n",
       "  24 │ Polyethylene Terephthalate (PET)      41.9313\n",
       "  25 │ Propylene Oxide                        6.95172\n",
       "  26 │ Butadiene                             19.7864\n",
       "  27 │ Acetic Acid                            7.2\n",
       "  28 │ Formaldehyde                           8.346\n",
       "  29 │ Adipic Acid                            1.92329\n",
       "  30 │ Gasoline Additives                   209.12\n",
       "\u001b[36m                                         9 rows omitted\u001b[0m"
      ]
     },
     "execution_count": 21,
     "metadata": {},
     "output_type": "execute_result"
    }
   ],
   "source": [
    "f_db"
   ]
  },
  {
   "cell_type": "code",
   "execution_count": null,
   "id": "062347c3-cac1-42d7-a3e6-38b95be1f163",
   "metadata": {},
   "outputs": [],
   "source": []
  },
  {
   "cell_type": "markdown",
   "id": "cf598f6d-5bd5-4527-bfbc-c0c9911bf560",
   "metadata": {},
   "source": [
    "## Sensitivity optimization"
   ]
  },
  {
   "cell_type": "code",
   "execution_count": 23,
   "id": "7edc6820-6bd8-41b7-8d23-18907869db38",
   "metadata": {},
   "outputs": [
    {
     "data": {
      "text/plain": [
       "sens_opt_decarb (generic function with 1 method)"
      ]
     },
     "execution_count": 23,
     "metadata": {},
     "output_type": "execute_result"
    }
   ],
   "source": [
    "function sens_opt_decarb()\n",
    "    dcrb =  Model(BARON.Optimizer)\n",
    "    @variable(dcrb,s[j=1:size(A_mat,2)] ≥ 0)\n",
    "    @variable(dcrb,f[i=1:size(A_mat,1)] ≥ 0 )\n",
    "    @variable(dcrb,g[k=1:size(B_mat,1)])\n",
    "    \n",
    "    \n",
    "    @variable(dcrb,y1[i=1:size(A_mat,1),j=1:size(A_mat,2)],Bin)\n",
    "    @variable(dcrb,y2[i=1:size(A_mat,1),j=1:size(A_mat,2)],Bin)\n",
    "    @variable(dcrb,y[i=1:size(A_mat,1),j=1:size(A_mat,2)],Bin)\n",
    "    @constraint(dcrb,[i=1:size(A_mat,1),j=1:size(A_mat,2)],y[i,j] == y1[i,j]+y2[i,j])\n",
    "    @constraint(dcrb,sum(y[i,j] for i in 1:size(A_mat,1), j=1:size(A_mat,2)) ≤ 10) \n",
    "    \n",
    "    @constraint(dcrb,[i=1:size(A_mat,1)],f[i] ≥ f_val[i]/2)\n",
    "    @constraint(dcrb,[i=1:size(A_mat,1)], f[i]==sum(A_mat[i,j]*(1+0.1*y1[i,j]-0.1*y2[i,j])*s[j] for j in 1:size(A_mat,2)))\n",
    "    @constraint(dcrb,[k=1:size(B_mat,1)],g[k]==sum(B_mat[k,j]*s[j] for j in 1:size(B_mat,2)))\n",
    "    @variable(dcrb,obj)\n",
    "    @constraint(dcrb,obj==sum(g[k] for k in 3:4)+g[9])\n",
    "    @objective(dcrb,Min,obj)\n",
    "    optimize!(dcrb)\n",
    "    return JuMP.value.(s),JuMP.value.(f),JuMP.value.(obj),JuMP.value.(y1),JuMP.value.(y2)\n",
    "end\n",
    "    "
   ]
  },
  {
   "cell_type": "code",
   "execution_count": 24,
   "id": "9170a86c-a3f6-433c-a41f-101fcefe076b",
   "metadata": {},
   "outputs": [
    {
     "name": "stdout",
     "output_type": "stream",
     "text": [
      "===========================================================================\n",
      " BARON version 21.1.13. Built: LNX-64 Wed Jan 13 16:09:31 EST 2021\n",
      "\n",
      " BARON is a product of The Optimization Firm.\n",
      " For information on BARON, see https://minlp.com/about-baron\n",
      " Licensee: Bhavik R. Bakshi at The Ohio State University, bakshi.2@osu.edu.\n",
      "\n",
      " If you use this software, please cite publications from\n",
      " https://minlp.com/baron-publications, such as: \n",
      "\n",
      " Kilinc, M. and N. V. Sahinidis, Exploiting integrality in the global\n",
      " optimization of mixed-integer nonlinear programming problems in BARON,\n",
      " Optimization Methods and Software, 33, 540-562, 2018.\n",
      "===========================================================================\n",
      " This BARON run may utilize the following subsolver(s)\n",
      " For LP/MIP/QP: CLP/CBC                                         \n",
      " For NLP: IPOPT, FILTERSD, FILTERSQP\n",
      "===========================================================================\n",
      " Doing local search\n",
      " Preprocessing found feasible solution with value  298.679822361     \n",
      " Solving bounding LP\n",
      " Starting multi-start local search\n",
      " Done with local search\n",
      "===========================================================================\n",
      "  Iteration    Open nodes         Time (s)    Lower bound      Upper bound\n",
      "*         1             1             1.79     127.393          297.762    \n",
      "          1             0             1.80     297.762          297.762    \n",
      "\n",
      "                         *** Normal completion ***            \n",
      "\n",
      " Wall clock time:                     1.80\n",
      " Total CPU time used:                 1.80\n",
      "\n",
      " Total no. of BaR iterations:       1\n",
      " Best solution found at node:       1\n",
      " Max. no. of nodes in memory:       1\n",
      " \n",
      " All done\n",
      "===========================================================================\n",
      " Unable to find/load CPLEX library libcplex.so: cannot open shared object file: No such file or directory\n",
      " Unable to find/load CPLEX library libcplex2010.so: cannot open shared object file: No such file or directory\n"
     ]
    },
    {
     "data": {
      "text/plain": [
       "([0.37630081447175906, 0.4439920788770053, 0.45566289410676575, 0.8030579939583976, 0.17328578352411647, 1.5289611146171238, 0.0, 1.5289611146171238, 0.4545454545454546, 0.5  …  0.5, 0.4298746490543581, 0.4637170454546182, 0.45454545454545453, 0.5, 0.5, 0.5, 0.49999999999999994, 0.5, 0.500964349303155], [12.945509024, 20.127333526, 0.377063157500004, 21.4456166735, 5.2862515295, 6.4737715665, 0.0, 9.388266032298032, 0.0, 21.8  …  7.33846154, 3.2601290315, 4.667566265, 20.965641665, 3.475862069, 9.9175008721028, 3.6, 4.173, 0.9616438355, 104.76158512304069], 297.76247104389023, [0.0 1.0 … 0.0 0.0; 0.0 0.0 … 0.0 0.0; … ; 0.0 0.0 … 0.0 0.0; 0.0 0.0 … 0.0 0.0], [0.0 0.0 … 0.0 0.0; 0.0 0.0 … 0.0 0.0; … ; 0.0 0.0 … 0.0 0.0; 0.0 0.0 … 0.0 0.0])"
      ]
     },
     "execution_count": 24,
     "metadata": {},
     "output_type": "execute_result"
    }
   ],
   "source": [
    "s,f,obj,y1,y2=sens_opt_decarb()"
   ]
  },
  {
   "cell_type": "code",
   "execution_count": 25,
   "id": "0a1609c1-9160-46cc-b3ee-1e8f3d0ac2f0",
   "metadata": {},
   "outputs": [
    {
     "name": "stdout",
     "output_type": "stream",
     "text": [
      " Positive perturbations \n",
      "\n",
      "Syngas Production ---- Syngas\n",
      "Methanol Manufacture ---- Methanol \n",
      "Steam Cracker ---- Ethylene \n",
      "Steam Cracker ---- Butadiene \n",
      "Urea Synthesis ---- Urea \n",
      "EG Production ---- Ethylene glycol \n",
      "PET Production ---- Polyethylene Terephthalate (PET)\n",
      "\n",
      " Negative perturbations \n",
      "\n",
      "Methanol Manufacture ---- Syngas\n",
      "Formaldehyde production ---- Methanol \n"
     ]
    }
   ],
   "source": [
    "print(\" Positive perturbations \\n\\n\")\n",
    "\n",
    "for i in 1:size(findall(x->x==1, y1),1)\n",
    "    print(nodes_val[findall(x->x==1, y1)[i][2]]*\" ---- \"*product_val[findall(x->x==1, y1)[i][1]]*\"\\n\")\n",
    "end   \n",
    "print(\"\\n Negative perturbations \\n\\n\")\n",
    "for i in 1:size(findall(x->x==1, y2),1)\n",
    "    print(nodes_val[findall(x->x==1, y2)[i][2]]*\" ---- \"*product_val[findall(x->x==1, y2)[i][1]]*\"\\n\")\n",
    "end   "
   ]
  },
  {
   "cell_type": "code",
   "execution_count": null,
   "id": "6dd1b5ba-743e-4ebc-9e98-69cf5441b556",
   "metadata": {},
   "outputs": [],
   "source": []
  },
  {
   "cell_type": "code",
   "execution_count": null,
   "id": "03b2f2f0-9b29-4e73-83e4-e3c0a9bedda4",
   "metadata": {},
   "outputs": [],
   "source": []
  }
 ],
 "metadata": {
  "kernelspec": {
   "display_name": "Julia 1.6.3",
   "language": "julia",
   "name": "julia-1.6"
  },
  "language_info": {
   "file_extension": ".jl",
   "mimetype": "application/julia",
   "name": "julia",
   "version": "1.6.3"
  }
 },
 "nbformat": 4,
 "nbformat_minor": 5
}
