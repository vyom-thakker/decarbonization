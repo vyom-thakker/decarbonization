{
 "cells": [
  {
   "cell_type": "code",
   "execution_count": 2,
   "id": "425d6aca-6cae-4e3e-8fe6-51400e6b07c8",
   "metadata": {},
   "outputs": [],
   "source": [
    "using JuMP\n",
    "using CSV\n",
    "using LinearAlgebra\n",
    "using DataFrames\n",
    "using BARON"
   ]
  },
  {
   "cell_type": "code",
   "execution_count": 3,
   "id": "42cf6db4-252b-492a-aa14-4230170345d4",
   "metadata": {},
   "outputs": [
    {
     "data": {
      "text/plain": [
       "52-element Vector{String63}:\n",
       " \"Methanol \"\n",
       " \"Ethylene \"\n",
       " \"Propylene \"\n",
       " \"Toluene \"\n",
       " \"Benzene \"\n",
       " \"Xylene \"\n",
       " \"Butene \"\n",
       " \"Propane \"\n",
       " \"Syngas\"\n",
       " \"Urea \"\n",
       " \"Ammonia \"\n",
       " \"Acrylonitrile\"\n",
       " \"Cyclohexane \"\n",
       " ⋮\n",
       " \"Adipic Acid\"\n",
       " \"Nylon 6 6 resin\"\n",
       " \"Polyurethanes\"\n",
       " \"Adipate ester\"\n",
       " \"Packaging\"\n",
       " \"Consumer Goods/Lifestyle\"\n",
       " \"Healthcare & Pharmaceuticals\"\n",
       " \"Electrical/Electronics\"\n",
       " \"Bottles\"\n",
       " \"Sheet/Film\"\n",
       " \"others\"\n",
       " \"Gasoline Additives\""
      ]
     },
     "execution_count": 3,
     "metadata": {},
     "output_type": "execute_result"
    }
   ],
   "source": [
    "A_db = CSV.File(\"./A_mat.csv\",header=1,delim=\",\") |> DataFrame\n",
    "B_db = CSV.File(\"./B_mat.csv\",header=1,delim=\",\") |> DataFrame\n",
    "f_db = CSV.File(\"./f_val.csv\",header=1,delim=\",\") |> DataFrame\n",
    "f_val=f_db[!,2]\n",
    "A_mat=Matrix(A_db[:,2:size(A_db,2)])\n",
    "B_mat=Matrix(B_db[:,2:size(B_db,2)])\n",
    "nodes_val=names(A_db)[2:45]\n",
    "product_val=A_db[!,1]"
   ]
  },
  {
   "cell_type": "code",
   "execution_count": 4,
   "id": "1bd87ef0-99db-4b39-8987-226e8f4af1b7",
   "metadata": {},
   "outputs": [
    {
     "data": {
      "text/html": [
       "<div class=\"data-frame\"><p>8 rows × 45 columns (omitted printing of 40 columns)</p><table class=\"data-frame\"><thead><tr><th></th><th>Column1</th><th>Syngas Production</th><th>Methanol Manufacture</th><th>Steam Cracker</th><th>Hydrodealkylation (THD)</th></tr><tr><th></th><th title=\"String31\">String31</th><th title=\"Float64\">Float64</th><th title=\"Float64\">Float64</th><th title=\"Float64\">Float64</th><th title=\"Float64\">Float64</th></tr></thead><tbody><tr><th>1</th><td>Coal</td><td>-83.5323</td><td>-38.1901</td><td>0.0</td><td>0.0</td></tr><tr><th>2</th><td>Natural Gas</td><td>-79.342</td><td>-36.0639</td><td>-94.3427</td><td>0.0</td></tr><tr><th>3</th><td>Waste</td><td>31.0763</td><td>18.2015</td><td>23.464</td><td>0.377508</td></tr><tr><th>4</th><td>Environment</td><td>47.6829</td><td>19.8492</td><td>0.0</td><td>1.41346</td></tr><tr><th>5</th><td>Oil</td><td>0.0</td><td>-9.44493</td><td>-362.702</td><td>0.0</td></tr><tr><th>6</th><td>Coal Energy</td><td>-89.1436</td><td>-27.9993</td><td>-131.271</td><td>-0.876937</td></tr><tr><th>7</th><td>NG Energy</td><td>-47.6952</td><td>-14.9807</td><td>0.0</td><td>-0.469194</td></tr><tr><th>8</th><td>Environment Energy</td><td>136.839</td><td>42.9799</td><td>131.271</td><td>1.34613</td></tr></tbody></table></div>"
      ],
      "text/latex": [
       "\\begin{tabular}{r|cccccc}\n",
       "\t& Column1 & Syngas Production & Methanol Manufacture & Steam Cracker & Hydrodealkylation (THD) & \\\\\n",
       "\t\\hline\n",
       "\t& String31 & Float64 & Float64 & Float64 & Float64 & \\\\\n",
       "\t\\hline\n",
       "\t1 & Coal & -83.5323 & -38.1901 & 0.0 & 0.0 & $\\dots$ \\\\\n",
       "\t2 & Natural Gas & -79.342 & -36.0639 & -94.3427 & 0.0 & $\\dots$ \\\\\n",
       "\t3 & Waste & 31.0763 & 18.2015 & 23.464 & 0.377508 & $\\dots$ \\\\\n",
       "\t4 & Environment & 47.6829 & 19.8492 & 0.0 & 1.41346 & $\\dots$ \\\\\n",
       "\t5 & Oil & 0.0 & -9.44493 & -362.702 & 0.0 & $\\dots$ \\\\\n",
       "\t6 & Coal Energy & -89.1436 & -27.9993 & -131.271 & -0.876937 & $\\dots$ \\\\\n",
       "\t7 & NG Energy & -47.6952 & -14.9807 & 0.0 & -0.469194 & $\\dots$ \\\\\n",
       "\t8 & Environment Energy & 136.839 & 42.9799 & 131.271 & 1.34613 & $\\dots$ \\\\\n",
       "\\end{tabular}\n"
      ],
      "text/plain": [
       "\u001b[1m8×45 DataFrame\u001b[0m\n",
       "\u001b[1m Row \u001b[0m│\u001b[1m Column1            \u001b[0m\u001b[1m Syngas Production \u001b[0m\u001b[1m Methanol Manufacture \u001b[0m\u001b[1m Steam Crac\u001b[0m ⋯\n",
       "\u001b[1m     \u001b[0m│\u001b[90m String31           \u001b[0m\u001b[90m Float64           \u001b[0m\u001b[90m Float64              \u001b[0m\u001b[90m Float64   \u001b[0m ⋯\n",
       "─────┼──────────────────────────────────────────────────────────────────────────\n",
       "   1 │ Coal                         -83.5323             -38.1901          0.0 ⋯\n",
       "   2 │ Natural Gas                  -79.342              -36.0639        -94.3\n",
       "   3 │ Waste                         31.0763              18.2015         23.4\n",
       "   4 │ Environment                   47.6829              19.8492          0.0\n",
       "   5 │ Oil                            0.0                 -9.44493      -362.7 ⋯\n",
       "   6 │ Coal Energy                  -89.1436             -27.9993       -131.2\n",
       "   7 │ NG Energy                    -47.6952             -14.9807          0.0\n",
       "   8 │ Environment Energy           136.839               42.9799        131.2\n",
       "\u001b[36m                                                              42 columns omitted\u001b[0m"
      ]
     },
     "execution_count": 4,
     "metadata": {},
     "output_type": "execute_result"
    }
   ],
   "source": [
    "B_db"
   ]
  },
  {
   "cell_type": "code",
   "execution_count": 35,
   "id": "ccd8f1e8-9b66-40a7-b5f4-aff98f3479af",
   "metadata": {},
   "outputs": [
    {
     "data": {
      "text/plain": [
       "opt_decarb (generic function with 1 method)"
      ]
     },
     "execution_count": 35,
     "metadata": {},
     "output_type": "execute_result"
    }
   ],
   "source": [
    "function opt_decarb()\n",
    "    dcrb =  Model(BARON.Optimizer)\n",
    "    @variable(dcrb,s[j=1:size(A_mat,2)] ≥ 0)\n",
    "    @variable(dcrb,f[i=1:size(A_mat,1)] ≥ 0 )\n",
    "    @variable(dcrb,g[k=1:size(B_mat,1)])\n",
    "    @constraint(dcrb,[i=1:size(A_mat,1)],f[i] ≥ f_val[i]/2)\n",
    "    @constraint(dcrb,[i=1:size(A_mat,1)], f[i]==sum(A_mat[i,j]*s[j] for j in 1:size(A_mat,2)))\n",
    "    @constraint(dcrb,[k=1:size(B_mat,1)],g[k]==sum(B_mat[k,j]*s[j] for j in 1:size(B_mat,2)))\n",
    "    @variable(dcrb,obj)\n",
    "    @constraint(dcrb,obj==sum(g[k] for k in 3:4)+g[8])\n",
    "    @objective(dcrb,Min,obj)\n",
    "    optimize!(dcrb)\n",
    "    return JuMP.value.(s),JuMP.value.(f),JuMP.value.(obj)\n",
    "end\n",
    "    "
   ]
  },
  {
   "cell_type": "code",
   "execution_count": 36,
   "id": "1d0ac4af-21cf-4ca8-9f37-30b48e73a27e",
   "metadata": {},
   "outputs": [
    {
     "name": "stdout",
     "output_type": "stream",
     "text": [
      "===========================================================================\n",
      " BARON version 21.1.13. Built: LNX-64 Wed Jan 13 16:09:31 EST 2021\n",
      "\n",
      " BARON is a product of The Optimization Firm.\n",
      " For information on BARON, see https://minlp.com/about-baron\n",
      " Licensee: Bhavik R. Bakshi at The Ohio State University, bakshi.2@osu.edu.\n",
      "\n",
      " If you use this software, please cite publications from\n",
      " https://minlp.com/baron-publications, such as: \n",
      "\n",
      " Khajavirad, A. and N. V. Sahinidis,\n",
      " A hybrid LP/NLP paradigm for global optimization relaxations,\n",
      " Mathematical Programming Computation, 10, 383-421, 2018.\n",
      "===========================================================================\n",
      " This BARON run may utilize the following subsolver(s)\n",
      " For LP/MIP/QP: CLP/CBC                                         \n",
      " For NLP: IPOPT, FILTERSD, FILTERSQP\n",
      "===========================================================================\n",
      " Solving bounding LP\n",
      " Preprocessing found feasible solution with value  1007.55300746     \n",
      " Problem solved during preprocessing\n",
      " Lower bound is  1007.55300746     \n",
      "\n",
      " Calculating duals\n",
      "\n",
      "                         *** Normal completion ***            \n",
      "\n",
      " Wall clock time:                     0.00\n",
      " Total CPU time used:                 0.00\n",
      "\n",
      " Total no. of BaR iterations:      -1\n",
      " Best solution found at node:      -1\n",
      " Max. no. of nodes in memory:       0\n",
      " \n",
      " All done\n",
      "===========================================================================\n",
      " Unable to find/load CPLEX library libcplex.so: cannot open shared object file: No such file or directory\n",
      " Unable to find/load CPLEX library libcplex2010.so: cannot open shared object file: No such file or directory\n"
     ]
    },
    {
     "data": {
      "text/plain": [
       "([1.000000000048745, 1.000000000008715, 1.0090556646623505, 0.936214417575971, 1.069578463617712, 0.0, 1.9580893230052303, 0.0, 1.9580893230052308, 1.0  …  1.0, 1.0000000000787401, 1.0, 1.0000000000000002, 1.0, 0.9999999999632565, 1.0000000002140417, 1.0, 0.9999999996881713, 1.0], [38.836527069500015, 33.9216148645, 1.131189476999995, 64.33685002, 15.8587545845, 19.996879946795097, 0.0, 18.03485710456751, 0.0, 65.4  …  0.48082191800000007, 0.24041096000000006, 87.84299584855137, 26.473373702510276, 5.142857144, 10.758058254952063, 44.65681674, 8.805569499, 0.48082191800000007, 313.6797617], 1007.5530074631616)"
      ]
     },
     "execution_count": 36,
     "metadata": {},
     "output_type": "execute_result"
    }
   ],
   "source": [
    "s,f,obj=opt_decarb()"
   ]
  },
  {
   "cell_type": "code",
   "execution_count": 37,
   "id": "78da24b6-fcc4-4454-9d3c-7c54507d925c",
   "metadata": {},
   "outputs": [
    {
     "data": {
      "text/plain": [
       "1007.5530074631616"
      ]
     },
     "execution_count": 37,
     "metadata": {},
     "output_type": "execute_result"
    }
   ],
   "source": [
    "obj"
   ]
  },
  {
   "cell_type": "code",
   "execution_count": 38,
   "id": "3bdc9ca8-b842-40a2-91ba-c2f6693b6e76",
   "metadata": {},
   "outputs": [
    {
     "data": {
      "text/html": [
       "<div class=\"data-frame\"><p>44 rows × 2 columns</p><table class=\"data-frame\"><thead><tr><th></th><th>node</th><th>scaling_factor</th></tr><tr><th></th><th title=\"String\">String</th><th title=\"Float64\">Float64</th></tr></thead><tbody><tr><th>1</th><td>Syngas Production</td><td>1.0</td></tr><tr><th>2</th><td>Methanol Manufacture</td><td>1.0</td></tr><tr><th>3</th><td>Steam Cracker</td><td>1.00906</td></tr><tr><th>4</th><td>Hydrodealkylation (THD)</td><td>0.936214</td></tr><tr><th>5</th><td>Disproportionation (TDP)</td><td>1.06958</td></tr><tr><th>6</th><td>Combustion</td><td>0.0</td></tr><tr><th>7</th><td>Metathesis</td><td>1.95809</td></tr><tr><th>8</th><td>Dehydrogenation</td><td>0.0</td></tr><tr><th>9</th><td>Refinery</td><td>1.95809</td></tr><tr><th>10</th><td>Urea Synthesis</td><td>1.0</td></tr><tr><th>11</th><td>SOHIO Process</td><td>1.0</td></tr><tr><th>12</th><td>Caprolactam Manufacture</td><td>1.0</td></tr><tr><th>13</th><td>Cumene Production</td><td>1.0</td></tr><tr><th>14</th><td>Hock&apos;s Process</td><td>1.0</td></tr><tr><th>15</th><td>PE Manufacture</td><td>1.0</td></tr><tr><th>16</th><td>PVC Manufacture</td><td>1.0</td></tr><tr><th>17</th><td>VC Production</td><td>1.0</td></tr><tr><th>18</th><td>PP Manufacture</td><td>1.0</td></tr><tr><th>19</th><td>Styrene production</td><td>1.0</td></tr><tr><th>20</th><td>EG Production</td><td>1.0</td></tr><tr><th>21</th><td>PTA Production</td><td>1.0</td></tr><tr><th>22</th><td>PET Production</td><td>1.0</td></tr><tr><th>23</th><td>Propylene Oxide Production</td><td>1.0</td></tr><tr><th>24</th><td>Neoprene Manufacture</td><td>0.0</td></tr><tr><th>25</th><td>Cement Manufacture</td><td>0.0</td></tr><tr><th>26</th><td>Electricity</td><td>0.0</td></tr><tr><th>27</th><td>Alumina Refining</td><td>0.0</td></tr><tr><th>28</th><td>Aluminum Smelting</td><td>0.0</td></tr><tr><th>29</th><td>Primary Ingot Casting</td><td>0.0</td></tr><tr><th>30</th><td>BF + BOF</td><td>0.0</td></tr><tr><th>&vellip;</th><td>&vellip;</td><td>&vellip;</td></tr></tbody></table></div>"
      ],
      "text/latex": [
       "\\begin{tabular}{r|cc}\n",
       "\t& node & scaling\\_factor\\\\\n",
       "\t\\hline\n",
       "\t& String & Float64\\\\\n",
       "\t\\hline\n",
       "\t1 & Syngas Production & 1.0 \\\\\n",
       "\t2 & Methanol Manufacture & 1.0 \\\\\n",
       "\t3 & Steam Cracker & 1.00906 \\\\\n",
       "\t4 & Hydrodealkylation (THD) & 0.936214 \\\\\n",
       "\t5 & Disproportionation (TDP) & 1.06958 \\\\\n",
       "\t6 & Combustion & 0.0 \\\\\n",
       "\t7 & Metathesis & 1.95809 \\\\\n",
       "\t8 & Dehydrogenation & 0.0 \\\\\n",
       "\t9 & Refinery & 1.95809 \\\\\n",
       "\t10 & Urea Synthesis & 1.0 \\\\\n",
       "\t11 & SOHIO Process & 1.0 \\\\\n",
       "\t12 & Caprolactam Manufacture & 1.0 \\\\\n",
       "\t13 & Cumene Production & 1.0 \\\\\n",
       "\t14 & Hock's Process & 1.0 \\\\\n",
       "\t15 & PE Manufacture & 1.0 \\\\\n",
       "\t16 & PVC Manufacture & 1.0 \\\\\n",
       "\t17 & VC Production & 1.0 \\\\\n",
       "\t18 & PP Manufacture & 1.0 \\\\\n",
       "\t19 & Styrene production & 1.0 \\\\\n",
       "\t20 & EG Production & 1.0 \\\\\n",
       "\t21 & PTA Production & 1.0 \\\\\n",
       "\t22 & PET Production & 1.0 \\\\\n",
       "\t23 & Propylene Oxide Production & 1.0 \\\\\n",
       "\t24 & Neoprene Manufacture & 0.0 \\\\\n",
       "\t25 & Cement Manufacture & 0.0 \\\\\n",
       "\t26 & Electricity & 0.0 \\\\\n",
       "\t27 & Alumina Refining & 0.0 \\\\\n",
       "\t28 & Aluminum Smelting & 0.0 \\\\\n",
       "\t29 & Primary Ingot Casting & 0.0 \\\\\n",
       "\t30 & BF + BOF & 0.0 \\\\\n",
       "\t$\\dots$ & $\\dots$ & $\\dots$ \\\\\n",
       "\\end{tabular}\n"
      ],
      "text/plain": [
       "\u001b[1m44×2 DataFrame\u001b[0m\n",
       "\u001b[1m Row \u001b[0m│\u001b[1m node                     \u001b[0m\u001b[1m scaling_factor \u001b[0m\n",
       "\u001b[1m     \u001b[0m│\u001b[90m String                   \u001b[0m\u001b[90m Float64        \u001b[0m\n",
       "─────┼──────────────────────────────────────────\n",
       "   1 │ Syngas Production               1.0\n",
       "   2 │ Methanol Manufacture            1.0\n",
       "   3 │ Steam Cracker                   1.00906\n",
       "   4 │ Hydrodealkylation (THD)         0.936214\n",
       "   5 │ Disproportionation (TDP)        1.06958\n",
       "   6 │ Combustion                      0.0\n",
       "   7 │ Metathesis                      1.95809\n",
       "   8 │ Dehydrogenation                 0.0\n",
       "   9 │ Refinery                        1.95809\n",
       "  10 │ Urea Synthesis                  1.0\n",
       "  11 │ SOHIO Process                   1.0\n",
       "  ⋮  │            ⋮                    ⋮\n",
       "  35 │ Formaldehyde production         1.0\n",
       "  36 │ Cyclohexane Production          1.0\n",
       "  37 │ Adipic Acid Production          1.0\n",
       "  38 │ Adipic Acid distribution        1.0\n",
       "  39 │ PE Distribution                 1.0\n",
       "  40 │ PVC Distribution                1.0\n",
       "  41 │ PP Distribution                 1.0\n",
       "  42 │ PET Distribution                1.0\n",
       "  43 │ PTA Distribution                1.0\n",
       "  44 │ Catalytic Reformer              1.0\n",
       "\u001b[36m                                 23 rows omitted\u001b[0m"
      ]
     },
     "execution_count": 38,
     "metadata": {},
     "output_type": "execute_result"
    }
   ],
   "source": [
    "res_f=DataFrame(pdt=product_val, final_demand=f)\n",
    "res_s=DataFrame(node=nodes_val, scaling_factor=s)"
   ]
  },
  {
   "cell_type": "code",
   "execution_count": 39,
   "id": "4f32aa0c-9d24-4c87-b338-ee60dcd648bb",
   "metadata": {},
   "outputs": [
    {
     "data": {
      "text/html": [
       "<div class=\"data-frame\"><p>52 rows × 2 columns</p><table class=\"data-frame\"><thead><tr><th></th><th>pdt</th><th>final_demand</th></tr><tr><th></th><th title=\"String63\">String63</th><th title=\"Float64\">Float64</th></tr></thead><tbody><tr><th>1</th><td>Methanol </td><td>38.8365</td></tr><tr><th>2</th><td>Ethylene </td><td>33.9216</td></tr><tr><th>3</th><td>Propylene </td><td>1.13119</td></tr><tr><th>4</th><td>Toluene </td><td>64.3369</td></tr><tr><th>5</th><td>Benzene </td><td>15.8588</td></tr><tr><th>6</th><td>Xylene </td><td>19.9969</td></tr><tr><th>7</th><td>Butene </td><td>0.0</td></tr><tr><th>8</th><td>Propane </td><td>18.0349</td></tr><tr><th>9</th><td>Syngas</td><td>0.0</td></tr><tr><th>10</th><td>Urea </td><td>65.4</td></tr><tr><th>11</th><td>Ammonia </td><td>0.0</td></tr><tr><th>12</th><td>Acrylonitrile</td><td>7.33585</td></tr><tr><th>13</th><td>Cyclohexane </td><td>0.0</td></tr><tr><th>14</th><td>Caprolactam </td><td>6.56016</td></tr><tr><th>15</th><td>Cumene </td><td>0.0</td></tr><tr><th>16</th><td>Phenol </td><td>4.1139</td></tr><tr><th>17</th><td>Acetone </td><td>8.22777</td></tr><tr><th>18</th><td>Polyethylene </td><td>0.0</td></tr><tr><th>19</th><td>Polyvinyl chloride </td><td>0.0</td></tr><tr><th>20</th><td>Vinyl chloride Monomer </td><td>0.0</td></tr><tr><th>21</th><td>Polypropylene </td><td>0.0</td></tr><tr><th>22</th><td>Styrene </td><td>22.0154</td></tr><tr><th>23</th><td>Ethylene glycol </td><td>9.78039</td></tr><tr><th>24</th><td>Terephthalic Acid (PTA) </td><td>0.0</td></tr><tr><th>25</th><td>Polyethylene Terephthalate (PET)</td><td>0.0</td></tr><tr><th>26</th><td>Propylene Oxide </td><td>10.4276</td></tr><tr><th>27</th><td>Butadiene </td><td>29.9483</td></tr><tr><th>28</th><td>Polychloroprene </td><td>0.0</td></tr><tr><th>29</th><td>Limestone </td><td>0.0</td></tr><tr><th>30</th><td>Steel </td><td>0.0</td></tr><tr><th>&vellip;</th><td>&vellip;</td><td>&vellip;</td></tr></tbody></table></div>"
      ],
      "text/latex": [
       "\\begin{tabular}{r|cc}\n",
       "\t& pdt & final\\_demand\\\\\n",
       "\t\\hline\n",
       "\t& String63 & Float64\\\\\n",
       "\t\\hline\n",
       "\t1 & Methanol  & 38.8365 \\\\\n",
       "\t2 & Ethylene  & 33.9216 \\\\\n",
       "\t3 & Propylene  & 1.13119 \\\\\n",
       "\t4 & Toluene  & 64.3369 \\\\\n",
       "\t5 & Benzene  & 15.8588 \\\\\n",
       "\t6 & Xylene  & 19.9969 \\\\\n",
       "\t7 & Butene  & 0.0 \\\\\n",
       "\t8 & Propane  & 18.0349 \\\\\n",
       "\t9 & Syngas & 0.0 \\\\\n",
       "\t10 & Urea  & 65.4 \\\\\n",
       "\t11 & Ammonia  & 0.0 \\\\\n",
       "\t12 & Acrylonitrile & 7.33585 \\\\\n",
       "\t13 & Cyclohexane  & 0.0 \\\\\n",
       "\t14 & Caprolactam  & 6.56016 \\\\\n",
       "\t15 & Cumene  & 0.0 \\\\\n",
       "\t16 & Phenol  & 4.1139 \\\\\n",
       "\t17 & Acetone  & 8.22777 \\\\\n",
       "\t18 & Polyethylene  & 0.0 \\\\\n",
       "\t19 & Polyvinyl chloride  & 0.0 \\\\\n",
       "\t20 & Vinyl chloride Monomer  & 0.0 \\\\\n",
       "\t21 & Polypropylene  & 0.0 \\\\\n",
       "\t22 & Styrene  & 22.0154 \\\\\n",
       "\t23 & Ethylene glycol  & 9.78039 \\\\\n",
       "\t24 & Terephthalic Acid (PTA)  & 0.0 \\\\\n",
       "\t25 & Polyethylene Terephthalate (PET) & 0.0 \\\\\n",
       "\t26 & Propylene Oxide  & 10.4276 \\\\\n",
       "\t27 & Butadiene  & 29.9483 \\\\\n",
       "\t28 & Polychloroprene  & 0.0 \\\\\n",
       "\t29 & Limestone  & 0.0 \\\\\n",
       "\t30 & Steel  & 0.0 \\\\\n",
       "\t$\\dots$ & $\\dots$ & $\\dots$ \\\\\n",
       "\\end{tabular}\n"
      ],
      "text/plain": [
       "\u001b[1m52×2 DataFrame\u001b[0m\n",
       "\u001b[1m Row \u001b[0m│\u001b[1m pdt                          \u001b[0m\u001b[1m final_demand \u001b[0m\n",
       "\u001b[1m     \u001b[0m│\u001b[90m String63                     \u001b[0m\u001b[90m Float64      \u001b[0m\n",
       "─────┼────────────────────────────────────────────\n",
       "   1 │ Methanol                         38.8365\n",
       "   2 │ Ethylene                         33.9216\n",
       "   3 │ Propylene                         1.13119\n",
       "   4 │ Toluene                          64.3369\n",
       "   5 │ Benzene                          15.8588\n",
       "   6 │ Xylene                           19.9969\n",
       "   7 │ Butene                            0.0\n",
       "   8 │ Propane                          18.0349\n",
       "   9 │ Syngas                            0.0\n",
       "  10 │ Urea                             65.4\n",
       "  11 │ Ammonia                           0.0\n",
       "  ⋮  │              ⋮                     ⋮\n",
       "  43 │ Polyurethanes                     0.480822\n",
       "  44 │ Adipate ester                     0.240411\n",
       "  45 │ Packaging                        87.843\n",
       "  46 │ Consumer Goods/Lifestyle         26.4734\n",
       "  47 │ Healthcare & Pharmaceuticals      5.14286\n",
       "  48 │ Electrical/Electronics           10.7581\n",
       "  49 │ Bottles                          44.6568\n",
       "  50 │ Sheet/Film                        8.80557\n",
       "  51 │ others                            0.480822\n",
       "  52 │ Gasoline Additives              313.68\n",
       "\u001b[36m                                   31 rows omitted\u001b[0m"
      ]
     },
     "execution_count": 39,
     "metadata": {},
     "output_type": "execute_result"
    }
   ],
   "source": [
    "res_f"
   ]
  },
  {
   "cell_type": "code",
   "execution_count": null,
   "id": "9ff3509f-13d6-4c21-9054-bc467b60bf67",
   "metadata": {},
   "outputs": [],
   "source": []
  },
  {
   "cell_type": "code",
   "execution_count": 40,
   "id": "d60a1112-e90b-4ad9-b656-f49de4268a8d",
   "metadata": {},
   "outputs": [
    {
     "data": {
      "text/html": [
       "<div class=\"data-frame\"><p>8 rows × 45 columns (omitted printing of 40 columns)</p><table class=\"data-frame\"><thead><tr><th></th><th>Column1</th><th>Syngas Production</th><th>Methanol Manufacture</th><th>Steam Cracker</th><th>Hydrodealkylation (THD)</th></tr><tr><th></th><th title=\"String31\">String31</th><th title=\"Float64\">Float64</th><th title=\"Float64\">Float64</th><th title=\"Float64\">Float64</th><th title=\"Float64\">Float64</th></tr></thead><tbody><tr><th>1</th><td>Coal</td><td>-83.5323</td><td>-38.1901</td><td>0.0</td><td>0.0</td></tr><tr><th>2</th><td>Natural Gas</td><td>-79.342</td><td>-36.0639</td><td>-94.3427</td><td>0.0</td></tr><tr><th>3</th><td>Waste</td><td>31.0763</td><td>18.2015</td><td>23.464</td><td>0.377508</td></tr><tr><th>4</th><td>Environment</td><td>47.6829</td><td>19.8492</td><td>0.0</td><td>1.41346</td></tr><tr><th>5</th><td>Oil</td><td>0.0</td><td>-9.44493</td><td>-362.702</td><td>0.0</td></tr><tr><th>6</th><td>Coal Energy</td><td>-89.1436</td><td>-27.9993</td><td>-131.271</td><td>-0.876937</td></tr><tr><th>7</th><td>NG Energy</td><td>-47.6952</td><td>-14.9807</td><td>0.0</td><td>-0.469194</td></tr><tr><th>8</th><td>Environment Energy</td><td>136.839</td><td>42.9799</td><td>131.271</td><td>1.34613</td></tr></tbody></table></div>"
      ],
      "text/latex": [
       "\\begin{tabular}{r|cccccc}\n",
       "\t& Column1 & Syngas Production & Methanol Manufacture & Steam Cracker & Hydrodealkylation (THD) & \\\\\n",
       "\t\\hline\n",
       "\t& String31 & Float64 & Float64 & Float64 & Float64 & \\\\\n",
       "\t\\hline\n",
       "\t1 & Coal & -83.5323 & -38.1901 & 0.0 & 0.0 & $\\dots$ \\\\\n",
       "\t2 & Natural Gas & -79.342 & -36.0639 & -94.3427 & 0.0 & $\\dots$ \\\\\n",
       "\t3 & Waste & 31.0763 & 18.2015 & 23.464 & 0.377508 & $\\dots$ \\\\\n",
       "\t4 & Environment & 47.6829 & 19.8492 & 0.0 & 1.41346 & $\\dots$ \\\\\n",
       "\t5 & Oil & 0.0 & -9.44493 & -362.702 & 0.0 & $\\dots$ \\\\\n",
       "\t6 & Coal Energy & -89.1436 & -27.9993 & -131.271 & -0.876937 & $\\dots$ \\\\\n",
       "\t7 & NG Energy & -47.6952 & -14.9807 & 0.0 & -0.469194 & $\\dots$ \\\\\n",
       "\t8 & Environment Energy & 136.839 & 42.9799 & 131.271 & 1.34613 & $\\dots$ \\\\\n",
       "\\end{tabular}\n"
      ],
      "text/plain": [
       "\u001b[1m8×45 DataFrame\u001b[0m\n",
       "\u001b[1m Row \u001b[0m│\u001b[1m Column1            \u001b[0m\u001b[1m Syngas Production \u001b[0m\u001b[1m Methanol Manufacture \u001b[0m\u001b[1m Steam Crac\u001b[0m ⋯\n",
       "\u001b[1m     \u001b[0m│\u001b[90m String31           \u001b[0m\u001b[90m Float64           \u001b[0m\u001b[90m Float64              \u001b[0m\u001b[90m Float64   \u001b[0m ⋯\n",
       "─────┼──────────────────────────────────────────────────────────────────────────\n",
       "   1 │ Coal                         -83.5323             -38.1901          0.0 ⋯\n",
       "   2 │ Natural Gas                  -79.342              -36.0639        -94.3\n",
       "   3 │ Waste                         31.0763              18.2015         23.4\n",
       "   4 │ Environment                   47.6829              19.8492          0.0\n",
       "   5 │ Oil                            0.0                 -9.44493      -362.7 ⋯\n",
       "   6 │ Coal Energy                  -89.1436             -27.9993       -131.2\n",
       "   7 │ NG Energy                    -47.6952             -14.9807          0.0\n",
       "   8 │ Environment Energy           136.839               42.9799        131.2\n",
       "\u001b[36m                                                              42 columns omitted\u001b[0m"
      ]
     },
     "execution_count": 40,
     "metadata": {},
     "output_type": "execute_result"
    }
   ],
   "source": [
    "B_db"
   ]
  },
  {
   "cell_type": "code",
   "execution_count": 42,
   "id": "14c60387-dc49-4c3d-b201-e6308834b981",
   "metadata": {},
   "outputs": [
    {
     "data": {
      "text/html": [
       "<div class=\"data-frame\"><p>52 rows × 2 columns</p><table class=\"data-frame\"><thead><tr><th></th><th>Product</th><th>Final Demands</th></tr><tr><th></th><th title=\"String63\">String63</th><th title=\"Float64\">Float64</th></tr></thead><tbody><tr><th>1</th><td>Methanol </td><td>77.6731</td></tr><tr><th>2</th><td>Ethylene </td><td>67.8432</td></tr><tr><th>3</th><td>Propylene </td><td>2.26238</td></tr><tr><th>4</th><td>Toluene </td><td>128.674</td></tr><tr><th>5</th><td>Benzene </td><td>31.7175</td></tr><tr><th>6</th><td>Xylene </td><td>38.8426</td></tr><tr><th>7</th><td>Butene </td><td>0.0</td></tr><tr><th>8</th><td>Propane </td><td>0.0</td></tr><tr><th>9</th><td>Syngas</td><td>-3.99999e-9</td></tr><tr><th>10</th><td>Urea </td><td>130.8</td></tr><tr><th>11</th><td>Ammonia </td><td>0.0</td></tr><tr><th>12</th><td>Acrylonitrile</td><td>14.6717</td></tr><tr><th>13</th><td>Cyclohexane </td><td>-1.0e-9</td></tr><tr><th>14</th><td>Caprolactam </td><td>13.1203</td></tr><tr><th>15</th><td>Cumene </td><td>0.0</td></tr><tr><th>16</th><td>Phenol </td><td>8.2278</td></tr><tr><th>17</th><td>Acetone </td><td>16.4555</td></tr><tr><th>18</th><td>Polyethylene </td><td>0.0</td></tr><tr><th>19</th><td>Polyvinyl chloride </td><td>0.0</td></tr><tr><th>20</th><td>Vinyl chloride Monomer </td><td>0.0</td></tr><tr><th>21</th><td>Polypropylene </td><td>0.0</td></tr><tr><th>22</th><td>Styrene </td><td>44.0308</td></tr><tr><th>23</th><td>Ethylene glycol </td><td>19.5608</td></tr><tr><th>24</th><td>Terephthalic Acid (PTA) </td><td>-1.0e-8</td></tr><tr><th>25</th><td>Polyethylene Terephthalate (PET)</td><td>1.75e-8</td></tr><tr><th>26</th><td>Propylene Oxide </td><td>20.8552</td></tr><tr><th>27</th><td>Butadiene </td><td>59.3591</td></tr><tr><th>28</th><td>Polychloroprene </td><td>0.0</td></tr><tr><th>29</th><td>Limestone </td><td>0.0</td></tr><tr><th>30</th><td>Steel </td><td>0.0</td></tr><tr><th>&vellip;</th><td>&vellip;</td><td>&vellip;</td></tr></tbody></table></div>"
      ],
      "text/latex": [
       "\\begin{tabular}{r|cc}\n",
       "\t& Product & Final Demands\\\\\n",
       "\t\\hline\n",
       "\t& String63 & Float64\\\\\n",
       "\t\\hline\n",
       "\t1 & Methanol  & 77.6731 \\\\\n",
       "\t2 & Ethylene  & 67.8432 \\\\\n",
       "\t3 & Propylene  & 2.26238 \\\\\n",
       "\t4 & Toluene  & 128.674 \\\\\n",
       "\t5 & Benzene  & 31.7175 \\\\\n",
       "\t6 & Xylene  & 38.8426 \\\\\n",
       "\t7 & Butene  & 0.0 \\\\\n",
       "\t8 & Propane  & 0.0 \\\\\n",
       "\t9 & Syngas & -3.99999e-9 \\\\\n",
       "\t10 & Urea  & 130.8 \\\\\n",
       "\t11 & Ammonia  & 0.0 \\\\\n",
       "\t12 & Acrylonitrile & 14.6717 \\\\\n",
       "\t13 & Cyclohexane  & -1.0e-9 \\\\\n",
       "\t14 & Caprolactam  & 13.1203 \\\\\n",
       "\t15 & Cumene  & 0.0 \\\\\n",
       "\t16 & Phenol  & 8.2278 \\\\\n",
       "\t17 & Acetone  & 16.4555 \\\\\n",
       "\t18 & Polyethylene  & 0.0 \\\\\n",
       "\t19 & Polyvinyl chloride  & 0.0 \\\\\n",
       "\t20 & Vinyl chloride Monomer  & 0.0 \\\\\n",
       "\t21 & Polypropylene  & 0.0 \\\\\n",
       "\t22 & Styrene  & 44.0308 \\\\\n",
       "\t23 & Ethylene glycol  & 19.5608 \\\\\n",
       "\t24 & Terephthalic Acid (PTA)  & -1.0e-8 \\\\\n",
       "\t25 & Polyethylene Terephthalate (PET) & 1.75e-8 \\\\\n",
       "\t26 & Propylene Oxide  & 20.8552 \\\\\n",
       "\t27 & Butadiene  & 59.3591 \\\\\n",
       "\t28 & Polychloroprene  & 0.0 \\\\\n",
       "\t29 & Limestone  & 0.0 \\\\\n",
       "\t30 & Steel  & 0.0 \\\\\n",
       "\t$\\dots$ & $\\dots$ & $\\dots$ \\\\\n",
       "\\end{tabular}\n"
      ],
      "text/plain": [
       "\u001b[1m52×2 DataFrame\u001b[0m\n",
       "\u001b[1m Row \u001b[0m│\u001b[1m Product                      \u001b[0m\u001b[1m Final Demands \u001b[0m\n",
       "\u001b[1m     \u001b[0m│\u001b[90m String63                     \u001b[0m\u001b[90m Float64       \u001b[0m\n",
       "─────┼─────────────────────────────────────────────\n",
       "   1 │ Methanol                       77.6731\n",
       "   2 │ Ethylene                       67.8432\n",
       "   3 │ Propylene                       2.26238\n",
       "   4 │ Toluene                       128.674\n",
       "   5 │ Benzene                        31.7175\n",
       "   6 │ Xylene                         38.8426\n",
       "   7 │ Butene                          0.0\n",
       "   8 │ Propane                         0.0\n",
       "   9 │ Syngas                         -3.99999e-9\n",
       "  10 │ Urea                          130.8\n",
       "  11 │ Ammonia                         0.0\n",
       "  ⋮  │              ⋮                      ⋮\n",
       "  43 │ Polyurethanes                   0.961644\n",
       "  44 │ Adipate ester                   0.480822\n",
       "  45 │ Packaging                     175.686\n",
       "  46 │ Consumer Goods/Lifestyle       52.9467\n",
       "  47 │ Healthcare & Pharmaceuticals   10.2857\n",
       "  48 │ Electrical/Electronics         21.5161\n",
       "  49 │ Bottles                        89.3136\n",
       "  50 │ Sheet/Film                     17.6111\n",
       "  51 │ others                          0.961644\n",
       "  52 │ Gasoline Additives            627.36\n",
       "\u001b[36m                                    31 rows omitted\u001b[0m"
      ]
     },
     "execution_count": 42,
     "metadata": {},
     "output_type": "execute_result"
    }
   ],
   "source": [
    "f_db"
   ]
  },
  {
   "cell_type": "code",
   "execution_count": null,
   "id": "062347c3-cac1-42d7-a3e6-38b95be1f163",
   "metadata": {},
   "outputs": [],
   "source": []
  }
 ],
 "metadata": {
  "kernelspec": {
   "display_name": "Julia 1.6.3",
   "language": "julia",
   "name": "julia-1.6"
  },
  "language_info": {
   "file_extension": ".jl",
   "mimetype": "application/julia",
   "name": "julia",
   "version": "1.6.3"
  }
 },
 "nbformat": 4,
 "nbformat_minor": 5
}
